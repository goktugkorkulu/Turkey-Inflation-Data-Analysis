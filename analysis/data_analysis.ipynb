{
  "cells": [
    {
      "attachments": {},
      "cell_type": "markdown",
      "metadata": {
        "id": "6XbaI_juFFqH"
      },
      "source": [
        "# ***Evaluation of Official Inflation Rates on Youth's Shopping Cart in Turkey***\n",
        "\n",
        "---\n",
        "<center>\n",
        "<h1>Contributors:</h1>\n",
        "Aydın Aydemir<br>\n",
        "Baran Pekkolay<br>\n",
        "Doğa Anık<br>\n",
        "Göktuğ Korkulu<br>\n",
        "İrem Kök<br>\n",
        "Yağız Ay<br>\n",
        "</center>\n",
        "\n",
        "\n",
        "---\n",
        "\n",
        "### Introduction:\n",
        "Inflation is a measure of the rate of increase in the average price level of goods and services. It's a key economic indicator monitored by government agencies and central banks worldwide. In Turkey, the Turkish Statistical Institute (TUIK) is responsible for calculating and publishing the official inflation rates. The validity of these published inflation rates, however, may vary among different population segments, based on the specific basket of goods and services they consume.\n",
        "\n",
        "![TÜİK_logo.svg.png](data:image/png;base64,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)\n",
        "\n",
        "This project seeks to scrutinize the accuracy of TUIK's published inflation rates in the context of young people's consumer behavior in Turkey. It specifically aims to assess if these official inflation rates accurately reflect the price changes in goods and services frequently consumed by the younger generation.\n",
        "\n",
        "\n",
        "---\n",
        "\n"
      ]
    },
    {
      "attachments": {},
      "cell_type": "markdown",
      "metadata": {
        "id": "i5EP3jl9FIYn"
      },
      "source": [
        "# **Hypothesis**\n",
        "To conduct this research, we have stated the following hypotheses:\n",
        "\n",
        " \n",
        "\n",
        "*   Null Hypothesis (H0): Officially announced annual inflation rates are   \n",
        "    accurately reflecting the average price increase percentage on the youth generation's shopping cart.\n",
        "\n",
        "*   Alternative Hypothesis (H1): The officially announced annual inflation\n",
        "    rates are not accurately reflecting the average price increase percentage on the youth generation's shopping cart.\n",
        "<br>\n",
        "\n",
        "\n",
        "\n",
        "---\n",
        "\n"
      ]
    },
    {
      "attachments": {},
      "cell_type": "markdown",
      "metadata": {
        "id": "tJavdntRF4Se"
      },
      "source": [
        "# **Dataset(s)**\n",
        "\n",
        "***Youth's Shopping Cart Datase***t: This dataset represents the price data for goods and services frequently consumed by the youth in Turkey. The data was collected via web scraping using Selenium from two prominent platforms in Turkey\n",
        " \n",
        "\n",
        "1.   www.cimri.com\n",
        "2.   www.akakce.com\n",
        "\n",
        "The dataset comprises the prices of these goods and services on the specific date of 10.06.2023. The prices of items may vary; thus, the results might differ if the data collection process is performed on anoth\n",
        "\n",
        "\n",
        "\n",
        "\n",
        "##*Data Collection Process*:\n",
        "The web scraping process was done using Selenium, which allowed us to automate the web browsers and scrape the necessary information. Selenium was a suitable tool for this process as it could interact with the dynamic content on these web pages. The data from the two different platforms, cimri.com and akakce.com, were scraped independently and then concatenated together to form a single dataset.\n",
        "\n",
        "Web scraping was performed in a respectful and responsible way, adhering to the terms of service of the respective websites and not overloading the servers.\n",
        "\n",
        "\n",
        "---\n",
        "\n"
      ]
    },
    {
      "cell_type": "code",
      "execution_count": 135,
      "metadata": {
        "id": "y91hLfegFEwl"
      },
      "outputs": [],
      "source": [
        "# Neccesary import statements\n",
        "import pandas as pd\n",
        "import numpy as np\n",
        "import matplotlib.pyplot as plt\n",
        "import seaborn as sns\n",
        "import plotly.express as px\n",
        "import plotly.graph_objects as go\n",
        "from sklearn.preprocessing import StandardScaler\n",
        "from sklearn.cluster import KMeans\n",
        "from scipy.spatial.distance import cdist\n",
        "from sklearn.metrics import silhouette_score, calinski_harabasz_score"
      ]
    },
    {
      "attachments": {},
      "cell_type": "markdown",
      "metadata": {
        "id": "0GCCoUbnHZ4u"
      },
      "source": [
        "###*Data Concatenation*:\n",
        "Before proceeding with the Exploratory Data Analysis (EDA), the datasets from the two websites were concatenated into a single dataset. This allowed for a comprehensive and uniform analysis. The concatenation process was done ensuring the consistency and integrity of the data.\n",
        "\n",
        "This project involves a dynamic component as the prices of goods and services might fluctuate over time due to various factors. Therefore, the snapshot of the dataset represents the state of the market on 10.06.2023. The results derived from the analysis may vary if the same analysis is performed on a different date.\n",
        "\n",
        "\n",
        "---\n",
        "\n"
      ]
    },
    {
      "cell_type": "code",
      "execution_count": 136,
      "metadata": {
        "id": "nW01ZNzkFEwo",
        "outputId": "793402ca-6c6e-41be-f75f-a7095d926411"
      },
      "outputs": [
        {
          "name": "stdout",
          "output_type": "stream",
          "text": [
            "Number of rows:  763\n",
            "Number of columns:  6\n"
          ]
        }
      ],
      "source": [
        "file1Path = '../data/datasets/akakceProducts.csv'\n",
        "file2Path = '../data/datasets/cimriProducts.csv'\n",
        "\n",
        "df1 = pd.read_csv(file1Path)\n",
        "df2 = pd.read_csv(file2Path)\n",
        "\n",
        "##concat two dataframes with dropping the header row of the 2nd dataframe\n",
        "df = pd.concat([df1, df2], ignore_index=True)\n",
        "\n",
        "row , col = df.shape\n",
        "print(\"Number of rows: \", row)\n",
        "print(\"Number of columns: \", col)"
      ]
    },
    {
      "attachments": {},
      "cell_type": "markdown",
      "metadata": {
        "id": "ppT146rRNvAK"
      },
      "source": [
        "### **Some statistical properties of current dataframe.**\n",
        "\n",
        "\n",
        "---\n",
        "\n"
      ]
    },
    {
      "cell_type": "code",
      "execution_count": 137,
      "metadata": {
        "id": "2GhsCj3tFEwq",
        "outputId": "77d08234-8be0-4256-e729-3810de38cf60"
      },
      "outputs": [
        {
          "name": "stdout",
          "output_type": "stream",
          "text": [
            "<class 'pandas.core.frame.DataFrame'>\n",
            "RangeIndex: 763 entries, 0 to 762\n",
            "Data columns (total 6 columns):\n",
            " #   Column         Non-Null Count  Dtype \n",
            "---  ------         --------------  ----- \n",
            " 0   Product Name   763 non-null    object\n",
            " 1   Current Date   763 non-null    object\n",
            " 2   Current Price  763 non-null    int64 \n",
            " 3   Old Date       763 non-null    object\n",
            " 4   Old Price      763 non-null    int64 \n",
            " 5   Category       763 non-null    object\n",
            "dtypes: int64(2), object(4)\n",
            "memory usage: 35.9+ KB\n"
          ]
        }
      ],
      "source": [
        "# Showing the info of the dataframe\n",
        "df.info()"
      ]
    },
    {
      "attachments": {},
      "cell_type": "markdown",
      "metadata": {
        "id": "n8UD3NVvHmD5"
      },
      "source": [
        "#### Column descriptions\n",
        "* `Product Name`: Name of the product.\n",
        "* `Current Date`: The date when the dataset is formed.\n",
        "* `Current Price`: The price of the product when the dataset is formed.\n",
        "* `Old Date`: The oldest date that we can collect the price information.\n",
        "* `Old Price`: The oldest price information that we can collect\n",
        "* `Category`: Category of the product\n"
      ]
    },
    {
      "attachments": {},
      "cell_type": "markdown",
      "metadata": {
        "id": "vxe_v0KiIN4o"
      },
      "source": [
        "### **Are there any missing values? If yes, drop.**\n",
        "\n",
        "\n",
        "---\n",
        "\n"
      ]
    },
    {
      "cell_type": "code",
      "execution_count": 138,
      "metadata": {
        "id": "ra8Z1_c-FEwq",
        "outputId": "d188b61b-f78f-47e5-c4f8-6004ed38fb63"
      },
      "outputs": [
        {
          "data": {
            "text/plain": [
              "Product Name     0\n",
              "Current Date     0\n",
              "Current Price    0\n",
              "Old Date         0\n",
              "Old Price        0\n",
              "Category         0\n",
              "dtype: int64"
            ]
          },
          "execution_count": 138,
          "metadata": {},
          "output_type": "execute_result"
        }
      ],
      "source": [
        "# Checking the missing values if there is any\n",
        "df.isnull().sum()"
      ]
    },
    {
      "cell_type": "code",
      "execution_count": 139,
      "metadata": {
        "id": "iMxPhftqFEwq",
        "outputId": "8b27bd39-afff-4fde-f2b1-724aee2cc772"
      },
      "outputs": [
        {
          "name": "stdout",
          "output_type": "stream",
          "text": [
            "Number of duplicated rows:  70\n"
          ]
        }
      ],
      "source": [
        "# Filtering the duplicated rows and printing the head of the dataframe\n",
        "duplicates = df.duplicated()\n",
        "numDuplicates = duplicates.sum()\n",
        "\n",
        "print(\"Number of duplicated rows: \", numDuplicates)"
      ]
    },
    {
      "cell_type": "code",
      "execution_count": 140,
      "metadata": {
        "id": "ZzVsDEyeFEwr",
        "outputId": "17d3723f-ffa7-4bd7-d08d-dac635252f07"
      },
      "outputs": [
        {
          "name": "stdout",
          "output_type": "stream",
          "text": [
            "Number of rows after dropping the duplicated rows:  693\n",
            "Number of columns after dropping the duplicated rows:  6\n",
            "Number of rows dropped:  70\n"
          ]
        }
      ],
      "source": [
        "# Dropping the duplicated rows if there is any\n",
        "# Printing the number of rows and columns after dropping the duplicated rows\n",
        "wODuplicates = df[~duplicates]\n",
        "rowUpdated, col = wODuplicates.shape\n",
        "\n",
        "print(\"Number of rows after dropping the duplicated rows: \", rowUpdated)\n",
        "print(\"Number of columns after dropping the duplicated rows: \", col)\n",
        "print(\"Number of rows dropped: \", row - rowUpdated)"
      ]
    },
    {
      "cell_type": "code",
      "execution_count": 141,
      "metadata": {
        "id": "4GQI-lg3FEwr",
        "outputId": "dab0b326-c033-4dde-cb1e-b3542cd6d0e6"
      },
      "outputs": [
        {
          "name": "stdout",
          "output_type": "stream",
          "text": [
            "After double checking, number of duplicated rows:  0\n"
          ]
        }
      ],
      "source": [
        "# Double checking if there is any duplicated rows\n",
        "doubleCheckDf = wODuplicates.duplicated()\n",
        "numDoubleCheck = doubleCheckDf.sum()\n",
        "\n",
        "print(\"After double checking, number of duplicated rows: \", numDoubleCheck)"
      ]
    },
    {
      "attachments": {},
      "cell_type": "markdown",
      "metadata": {
        "id": "7-ejiZkxIV0i"
      },
      "source": [
        "### **Adding a new column that is the days between today and oldest date.**\n",
        "[ Current Date - Old Date ]\n",
        "\n",
        "\n",
        "---\n",
        "\n"
      ]
    },
    {
      "cell_type": "code",
      "execution_count": 142,
      "metadata": {
        "id": "4dtQ2hNSFEws"
      },
      "outputs": [],
      "source": [
        "# Converting the date columns to datetime format\n",
        "# Calculating the difference between the current date and the old date\n",
        "# Adding a new column to the dataframe which is the difference between the current date and the old date\n",
        "df = wODuplicates\n",
        "\n",
        "df['Current Date'] = pd.to_datetime(df['Current Date'], dayfirst=True)\n",
        "df['Old Date'] = pd.to_datetime(df['Old Date'], dayfirst=True)\n",
        "df['Days Passed'] = (df['Current Date'] - df['Old Date']).dt.days"
      ]
    },
    {
      "cell_type": "code",
      "execution_count": 143,
      "metadata": {
        "id": "eUWGKQ_yFEws",
        "outputId": "ce1e80d5-6c69-4dcb-d02d-c5d36019d5ff"
      },
      "outputs": [
        {
          "data": {
            "text/html": [
              "<div>\n",
              "<style scoped>\n",
              "    .dataframe tbody tr th:only-of-type {\n",
              "        vertical-align: middle;\n",
              "    }\n",
              "\n",
              "    .dataframe tbody tr th {\n",
              "        vertical-align: top;\n",
              "    }\n",
              "\n",
              "    .dataframe thead th {\n",
              "        text-align: right;\n",
              "    }\n",
              "</style>\n",
              "<table border=\"1\" class=\"dataframe\">\n",
              "  <thead>\n",
              "    <tr style=\"text-align: right;\">\n",
              "      <th></th>\n",
              "      <th>Product Name</th>\n",
              "      <th>Current Date</th>\n",
              "      <th>Current Price</th>\n",
              "      <th>Old Date</th>\n",
              "      <th>Old Price</th>\n",
              "      <th>Category</th>\n",
              "      <th>Days Passed</th>\n",
              "    </tr>\n",
              "  </thead>\n",
              "  <tbody>\n",
              "    <tr>\n",
              "      <th>0</th>\n",
              "      <td>SteelSeries Rival 3 RGB Kablolu Optik Oyuncu M...</td>\n",
              "      <td>2023-06-10</td>\n",
              "      <td>600</td>\n",
              "      <td>2022-06-10</td>\n",
              "      <td>289</td>\n",
              "      <td>mouse</td>\n",
              "      <td>365</td>\n",
              "    </tr>\n",
              "    <tr>\n",
              "      <th>1</th>\n",
              "      <td>SteelSeries Rival 5 RGB Kablolu Optik Oyuncu M...</td>\n",
              "      <td>2023-06-10</td>\n",
              "      <td>1199</td>\n",
              "      <td>2022-06-10</td>\n",
              "      <td>629</td>\n",
              "      <td>mouse</td>\n",
              "      <td>365</td>\n",
              "    </tr>\n",
              "    <tr>\n",
              "      <th>2</th>\n",
              "      <td>Xiaomi Mi Band 6</td>\n",
              "      <td>2023-06-10</td>\n",
              "      <td>838</td>\n",
              "      <td>2022-06-10</td>\n",
              "      <td>449</td>\n",
              "      <td>akilli-bileklik</td>\n",
              "      <td>365</td>\n",
              "    </tr>\n",
              "    <tr>\n",
              "      <th>3</th>\n",
              "      <td>Pro Plan Sterilised Somonlu ve Ton Balıklı 10 ...</td>\n",
              "      <td>2023-06-10</td>\n",
              "      <td>1619</td>\n",
              "      <td>2022-06-10</td>\n",
              "      <td>760</td>\n",
              "      <td>kedi-mamasi</td>\n",
              "      <td>365</td>\n",
              "    </tr>\n",
              "    <tr>\n",
              "      <th>4</th>\n",
              "      <td>Nutella 750 gr Kakaolu Fındık Kreması</td>\n",
              "      <td>2023-06-10</td>\n",
              "      <td>95</td>\n",
              "      <td>2022-06-11</td>\n",
              "      <td>44</td>\n",
              "      <td>ezme-krem-cikolata</td>\n",
              "      <td>364</td>\n",
              "    </tr>\n",
              "  </tbody>\n",
              "</table>\n",
              "</div>"
            ],
            "text/plain": [
              "                                        Product Name Current Date   \n",
              "0  SteelSeries Rival 3 RGB Kablolu Optik Oyuncu M...   2023-06-10  \\\n",
              "1  SteelSeries Rival 5 RGB Kablolu Optik Oyuncu M...   2023-06-10   \n",
              "2                                   Xiaomi Mi Band 6   2023-06-10   \n",
              "3  Pro Plan Sterilised Somonlu ve Ton Balıklı 10 ...   2023-06-10   \n",
              "4              Nutella 750 gr Kakaolu Fındık Kreması   2023-06-10   \n",
              "\n",
              "   Current Price   Old Date  Old Price            Category  Days Passed  \n",
              "0            600 2022-06-10        289               mouse          365  \n",
              "1           1199 2022-06-10        629               mouse          365  \n",
              "2            838 2022-06-10        449     akilli-bileklik          365  \n",
              "3           1619 2022-06-10        760         kedi-mamasi          365  \n",
              "4             95 2022-06-11         44  ezme-krem-cikolata          364  "
            ]
          },
          "execution_count": 143,
          "metadata": {},
          "output_type": "execute_result"
        }
      ],
      "source": [
        "# After cleaning the dataset, Exploring the dataset\n",
        "df.head()"
      ]
    },
    {
      "cell_type": "code",
      "execution_count": 144,
      "metadata": {
        "id": "Ax__nFdfFEwt",
        "outputId": "3dd8bdf0-66d3-436a-c209-49870e67e966"
      },
      "outputs": [
        {
          "data": {
            "text/html": [
              "<div>\n",
              "<style scoped>\n",
              "    .dataframe tbody tr th:only-of-type {\n",
              "        vertical-align: middle;\n",
              "    }\n",
              "\n",
              "    .dataframe tbody tr th {\n",
              "        vertical-align: top;\n",
              "    }\n",
              "\n",
              "    .dataframe thead th {\n",
              "        text-align: right;\n",
              "    }\n",
              "</style>\n",
              "<table border=\"1\" class=\"dataframe\">\n",
              "  <thead>\n",
              "    <tr style=\"text-align: right;\">\n",
              "      <th></th>\n",
              "      <th>Current Date</th>\n",
              "      <th>Current Price</th>\n",
              "      <th>Old Date</th>\n",
              "      <th>Old Price</th>\n",
              "      <th>Days Passed</th>\n",
              "    </tr>\n",
              "  </thead>\n",
              "  <tbody>\n",
              "    <tr>\n",
              "      <th>count</th>\n",
              "      <td>693</td>\n",
              "      <td>693.000000</td>\n",
              "      <td>693</td>\n",
              "      <td>693.000000</td>\n",
              "      <td>693.000000</td>\n",
              "    </tr>\n",
              "    <tr>\n",
              "      <th>mean</th>\n",
              "      <td>2023-06-09 13:28:18.701298688</td>\n",
              "      <td>4882.050505</td>\n",
              "      <td>2022-06-28 22:24:24.935064832</td>\n",
              "      <td>3145.666667</td>\n",
              "      <td>345.627706</td>\n",
              "    </tr>\n",
              "    <tr>\n",
              "      <th>min</th>\n",
              "      <td>2023-06-09 00:00:00</td>\n",
              "      <td>2.000000</td>\n",
              "      <td>2022-06-09 00:00:00</td>\n",
              "      <td>1.000000</td>\n",
              "      <td>19.000000</td>\n",
              "    </tr>\n",
              "    <tr>\n",
              "      <th>25%</th>\n",
              "      <td>2023-06-09 00:00:00</td>\n",
              "      <td>151.000000</td>\n",
              "      <td>2022-06-10 00:00:00</td>\n",
              "      <td>109.000000</td>\n",
              "      <td>360.000000</td>\n",
              "    </tr>\n",
              "    <tr>\n",
              "      <th>50%</th>\n",
              "      <td>2023-06-10 00:00:00</td>\n",
              "      <td>699.000000</td>\n",
              "      <td>2022-06-10 00:00:00</td>\n",
              "      <td>470.000000</td>\n",
              "      <td>364.000000</td>\n",
              "    </tr>\n",
              "    <tr>\n",
              "      <th>75%</th>\n",
              "      <td>2023-06-10 00:00:00</td>\n",
              "      <td>3729.000000</td>\n",
              "      <td>2022-06-14 00:00:00</td>\n",
              "      <td>3599.000000</td>\n",
              "      <td>365.000000</td>\n",
              "    </tr>\n",
              "    <tr>\n",
              "      <th>max</th>\n",
              "      <td>2023-06-10 00:00:00</td>\n",
              "      <td>49849.000000</td>\n",
              "      <td>2023-05-22 00:00:00</td>\n",
              "      <td>44999.000000</td>\n",
              "      <td>365.000000</td>\n",
              "    </tr>\n",
              "    <tr>\n",
              "      <th>std</th>\n",
              "      <td>NaN</td>\n",
              "      <td>9144.719110</td>\n",
              "      <td>NaN</td>\n",
              "      <td>5547.637154</td>\n",
              "      <td>57.674991</td>\n",
              "    </tr>\n",
              "  </tbody>\n",
              "</table>\n",
              "</div>"
            ],
            "text/plain": [
              "                        Current Date  Current Price   \n",
              "count                            693     693.000000  \\\n",
              "mean   2023-06-09 13:28:18.701298688    4882.050505   \n",
              "min              2023-06-09 00:00:00       2.000000   \n",
              "25%              2023-06-09 00:00:00     151.000000   \n",
              "50%              2023-06-10 00:00:00     699.000000   \n",
              "75%              2023-06-10 00:00:00    3729.000000   \n",
              "max              2023-06-10 00:00:00   49849.000000   \n",
              "std                              NaN    9144.719110   \n",
              "\n",
              "                            Old Date     Old Price  Days Passed  \n",
              "count                            693    693.000000   693.000000  \n",
              "mean   2022-06-28 22:24:24.935064832   3145.666667   345.627706  \n",
              "min              2022-06-09 00:00:00      1.000000    19.000000  \n",
              "25%              2022-06-10 00:00:00    109.000000   360.000000  \n",
              "50%              2022-06-10 00:00:00    470.000000   364.000000  \n",
              "75%              2022-06-14 00:00:00   3599.000000   365.000000  \n",
              "max              2023-05-22 00:00:00  44999.000000   365.000000  \n",
              "std                              NaN   5547.637154    57.674991  "
            ]
          },
          "execution_count": 144,
          "metadata": {},
          "output_type": "execute_result"
        }
      ],
      "source": [
        "# Showing the statistical information of the dataset\n",
        "df.describe()"
      ]
    },
    {
      "attachments": {},
      "cell_type": "markdown",
      "metadata": {
        "id": "nmT23q-QIurr"
      },
      "source": [
        "### **Adding a new column named Price Increase Percantage and inserting the values.**\n",
        "\n",
        "\n",
        "---\n",
        "\n",
        "\n"
      ]
    },
    {
      "cell_type": "code",
      "execution_count": 145,
      "metadata": {
        "id": "ktMT2YStFEwt",
        "outputId": "e7dcb5a3-3f3f-478d-e5d8-886b3e0cecb9"
      },
      "outputs": [
        {
          "data": {
            "text/html": [
              "<div>\n",
              "<style scoped>\n",
              "    .dataframe tbody tr th:only-of-type {\n",
              "        vertical-align: middle;\n",
              "    }\n",
              "\n",
              "    .dataframe tbody tr th {\n",
              "        vertical-align: top;\n",
              "    }\n",
              "\n",
              "    .dataframe thead th {\n",
              "        text-align: right;\n",
              "    }\n",
              "</style>\n",
              "<table border=\"1\" class=\"dataframe\">\n",
              "  <thead>\n",
              "    <tr style=\"text-align: right;\">\n",
              "      <th></th>\n",
              "      <th>Current Date</th>\n",
              "      <th>Current Price</th>\n",
              "      <th>Old Date</th>\n",
              "      <th>Old Price</th>\n",
              "      <th>Days Passed</th>\n",
              "      <th>Price Increase Percentage</th>\n",
              "    </tr>\n",
              "  </thead>\n",
              "  <tbody>\n",
              "    <tr>\n",
              "      <th>count</th>\n",
              "      <td>693</td>\n",
              "      <td>693.000000</td>\n",
              "      <td>693</td>\n",
              "      <td>693.000000</td>\n",
              "      <td>693.000000</td>\n",
              "      <td>693.000000</td>\n",
              "    </tr>\n",
              "    <tr>\n",
              "      <th>mean</th>\n",
              "      <td>2023-06-09 13:28:18.701298688</td>\n",
              "      <td>4882.050505</td>\n",
              "      <td>2022-06-28 22:24:24.935064832</td>\n",
              "      <td>3145.666667</td>\n",
              "      <td>345.627706</td>\n",
              "      <td>54.092136</td>\n",
              "    </tr>\n",
              "    <tr>\n",
              "      <th>min</th>\n",
              "      <td>2023-06-09 00:00:00</td>\n",
              "      <td>2.000000</td>\n",
              "      <td>2022-06-09 00:00:00</td>\n",
              "      <td>1.000000</td>\n",
              "      <td>19.000000</td>\n",
              "      <td>-42.904762</td>\n",
              "    </tr>\n",
              "    <tr>\n",
              "      <th>25%</th>\n",
              "      <td>2023-06-09 00:00:00</td>\n",
              "      <td>151.000000</td>\n",
              "      <td>2022-06-10 00:00:00</td>\n",
              "      <td>109.000000</td>\n",
              "      <td>360.000000</td>\n",
              "      <td>22.362869</td>\n",
              "    </tr>\n",
              "    <tr>\n",
              "      <th>50%</th>\n",
              "      <td>2023-06-10 00:00:00</td>\n",
              "      <td>699.000000</td>\n",
              "      <td>2022-06-10 00:00:00</td>\n",
              "      <td>470.000000</td>\n",
              "      <td>364.000000</td>\n",
              "      <td>48.353481</td>\n",
              "    </tr>\n",
              "    <tr>\n",
              "      <th>75%</th>\n",
              "      <td>2023-06-10 00:00:00</td>\n",
              "      <td>3729.000000</td>\n",
              "      <td>2022-06-14 00:00:00</td>\n",
              "      <td>3599.000000</td>\n",
              "      <td>365.000000</td>\n",
              "      <td>77.272727</td>\n",
              "    </tr>\n",
              "    <tr>\n",
              "      <th>max</th>\n",
              "      <td>2023-06-10 00:00:00</td>\n",
              "      <td>49849.000000</td>\n",
              "      <td>2023-05-22 00:00:00</td>\n",
              "      <td>44999.000000</td>\n",
              "      <td>365.000000</td>\n",
              "      <td>516.232465</td>\n",
              "    </tr>\n",
              "    <tr>\n",
              "      <th>std</th>\n",
              "      <td>NaN</td>\n",
              "      <td>9144.719110</td>\n",
              "      <td>NaN</td>\n",
              "      <td>5547.637154</td>\n",
              "      <td>57.674991</td>\n",
              "      <td>52.712678</td>\n",
              "    </tr>\n",
              "  </tbody>\n",
              "</table>\n",
              "</div>"
            ],
            "text/plain": [
              "                        Current Date  Current Price   \n",
              "count                            693     693.000000  \\\n",
              "mean   2023-06-09 13:28:18.701298688    4882.050505   \n",
              "min              2023-06-09 00:00:00       2.000000   \n",
              "25%              2023-06-09 00:00:00     151.000000   \n",
              "50%              2023-06-10 00:00:00     699.000000   \n",
              "75%              2023-06-10 00:00:00    3729.000000   \n",
              "max              2023-06-10 00:00:00   49849.000000   \n",
              "std                              NaN    9144.719110   \n",
              "\n",
              "                            Old Date     Old Price  Days Passed   \n",
              "count                            693    693.000000   693.000000  \\\n",
              "mean   2022-06-28 22:24:24.935064832   3145.666667   345.627706   \n",
              "min              2022-06-09 00:00:00      1.000000    19.000000   \n",
              "25%              2022-06-10 00:00:00    109.000000   360.000000   \n",
              "50%              2022-06-10 00:00:00    470.000000   364.000000   \n",
              "75%              2022-06-14 00:00:00   3599.000000   365.000000   \n",
              "max              2023-05-22 00:00:00  44999.000000   365.000000   \n",
              "std                              NaN   5547.637154    57.674991   \n",
              "\n",
              "       Price Increase Percentage  \n",
              "count                 693.000000  \n",
              "mean                   54.092136  \n",
              "min                   -42.904762  \n",
              "25%                    22.362869  \n",
              "50%                    48.353481  \n",
              "75%                    77.272727  \n",
              "max                   516.232465  \n",
              "std                    52.712678  "
            ]
          },
          "execution_count": 145,
          "metadata": {},
          "output_type": "execute_result"
        }
      ],
      "source": [
        "df['Price Increase Percentage'] = ((df['Current Price'] - df['Old Price']) / df['Old Price']) * 100\n",
        "\n",
        "# Showing the statistical information of the dataset\n",
        "df.describe()"
      ]
    },
    {
      "cell_type": "code",
      "execution_count": 146,
      "metadata": {
        "id": "MCsjgYt3FEwu",
        "outputId": "13f35852-24e7-4b6d-d16e-3fd737119789"
      },
      "outputs": [
        {
          "data": {
            "text/html": [
              "<div>\n",
              "<style scoped>\n",
              "    .dataframe tbody tr th:only-of-type {\n",
              "        vertical-align: middle;\n",
              "    }\n",
              "\n",
              "    .dataframe tbody tr th {\n",
              "        vertical-align: top;\n",
              "    }\n",
              "\n",
              "    .dataframe thead th {\n",
              "        text-align: right;\n",
              "    }\n",
              "</style>\n",
              "<table border=\"1\" class=\"dataframe\">\n",
              "  <thead>\n",
              "    <tr style=\"text-align: right;\">\n",
              "      <th></th>\n",
              "      <th>Product Name</th>\n",
              "      <th>Current Date</th>\n",
              "      <th>Current Price</th>\n",
              "      <th>Old Date</th>\n",
              "      <th>Old Price</th>\n",
              "      <th>Category</th>\n",
              "      <th>Days Passed</th>\n",
              "      <th>Price Increase Percentage</th>\n",
              "    </tr>\n",
              "  </thead>\n",
              "  <tbody>\n",
              "    <tr>\n",
              "      <th>444</th>\n",
              "      <td>Apple iPhone 13 Pro Max 5G 128GB 6GB Ram 6.7 i...</td>\n",
              "      <td>2023-06-09</td>\n",
              "      <td>49849</td>\n",
              "      <td>2022-06-10</td>\n",
              "      <td>31329</td>\n",
              "      <td>cep-telefonlari</td>\n",
              "      <td>364</td>\n",
              "      <td>59.114558</td>\n",
              "    </tr>\n",
              "    <tr>\n",
              "      <th>104</th>\n",
              "      <td>iPhone 13 512 GB Pembe</td>\n",
              "      <td>2023-06-10</td>\n",
              "      <td>42990</td>\n",
              "      <td>2022-06-10</td>\n",
              "      <td>21499</td>\n",
              "      <td>cep-telefonu</td>\n",
              "      <td>365</td>\n",
              "      <td>99.962789</td>\n",
              "    </tr>\n",
              "    <tr>\n",
              "      <th>106</th>\n",
              "      <td>iPhone 13 512 GB Yıldız Işığı</td>\n",
              "      <td>2023-06-10</td>\n",
              "      <td>41999</td>\n",
              "      <td>2022-06-10</td>\n",
              "      <td>20978</td>\n",
              "      <td>cep-telefonu</td>\n",
              "      <td>365</td>\n",
              "      <td>100.204977</td>\n",
              "    </tr>\n",
              "  </tbody>\n",
              "</table>\n",
              "</div>"
            ],
            "text/plain": [
              "                                          Product Name Current Date   \n",
              "444  Apple iPhone 13 Pro Max 5G 128GB 6GB Ram 6.7 i...   2023-06-09  \\\n",
              "104                             iPhone 13 512 GB Pembe   2023-06-10   \n",
              "106                      iPhone 13 512 GB Yıldız Işığı   2023-06-10   \n",
              "\n",
              "     Current Price   Old Date  Old Price         Category  Days Passed   \n",
              "444          49849 2022-06-10      31329  cep-telefonlari          364  \\\n",
              "104          42990 2022-06-10      21499     cep-telefonu          365   \n",
              "106          41999 2022-06-10      20978     cep-telefonu          365   \n",
              "\n",
              "     Price Increase Percentage  \n",
              "444                  59.114558  \n",
              "104                  99.962789  \n",
              "106                 100.204977  "
            ]
          },
          "execution_count": 146,
          "metadata": {},
          "output_type": "execute_result"
        }
      ],
      "source": [
        "# Creating a new dataframe named \"df2\"\n",
        "# It will be sorted version of the \"df\" dataframe\n",
        "# Sorting according to the \"Current Price\" column (descending order)\n",
        "# Showing 3 products with the highest current price\n",
        "df2 = df.sort_values(by=['Current Price'], ascending=False)\n",
        "\n",
        "df2.head(3)"
      ]
    },
    {
      "cell_type": "code",
      "execution_count": 147,
      "metadata": {
        "id": "zwKC6R6fFEwu",
        "outputId": "2efd0e22-2945-4a1b-d226-ebce0950c32e"
      },
      "outputs": [
        {
          "data": {
            "text/html": [
              "<div>\n",
              "<style scoped>\n",
              "    .dataframe tbody tr th:only-of-type {\n",
              "        vertical-align: middle;\n",
              "    }\n",
              "\n",
              "    .dataframe tbody tr th {\n",
              "        vertical-align: top;\n",
              "    }\n",
              "\n",
              "    .dataframe thead th {\n",
              "        text-align: right;\n",
              "    }\n",
              "</style>\n",
              "<table border=\"1\" class=\"dataframe\">\n",
              "  <thead>\n",
              "    <tr style=\"text-align: right;\">\n",
              "      <th></th>\n",
              "      <th>Product Name</th>\n",
              "      <th>Current Date</th>\n",
              "      <th>Current Price</th>\n",
              "      <th>Old Date</th>\n",
              "      <th>Old Price</th>\n",
              "      <th>Category</th>\n",
              "      <th>Days Passed</th>\n",
              "      <th>Price Increase Percentage</th>\n",
              "    </tr>\n",
              "  </thead>\n",
              "  <tbody>\n",
              "    <tr>\n",
              "      <th>333</th>\n",
              "      <td>Logitech G305 Lightspeed 910-006014 Wireless O...</td>\n",
              "      <td>2023-06-10</td>\n",
              "      <td>3075</td>\n",
              "      <td>2022-06-10</td>\n",
              "      <td>499</td>\n",
              "      <td>mouse</td>\n",
              "      <td>365</td>\n",
              "      <td>516.232465</td>\n",
              "    </tr>\n",
              "    <tr>\n",
              "      <th>309</th>\n",
              "      <td>Asus TUF Gaming M5 RGB Kablolu Optik Oyuncu Mouse</td>\n",
              "      <td>2023-06-10</td>\n",
              "      <td>1275</td>\n",
              "      <td>2022-06-10</td>\n",
              "      <td>263</td>\n",
              "      <td>mouse</td>\n",
              "      <td>365</td>\n",
              "      <td>384.790875</td>\n",
              "    </tr>\n",
              "    <tr>\n",
              "      <th>559</th>\n",
              "      <td>Xiaomi 20000 mAh 2.1A - 3A Çift Çıkışlı Taşına...</td>\n",
              "      <td>2023-06-09</td>\n",
              "      <td>690</td>\n",
              "      <td>2022-06-10</td>\n",
              "      <td>159</td>\n",
              "      <td>tasinabilir-sarj-cihazi-powerbank</td>\n",
              "      <td>364</td>\n",
              "      <td>333.962264</td>\n",
              "    </tr>\n",
              "  </tbody>\n",
              "</table>\n",
              "</div>"
            ],
            "text/plain": [
              "                                          Product Name Current Date   \n",
              "333  Logitech G305 Lightspeed 910-006014 Wireless O...   2023-06-10  \\\n",
              "309  Asus TUF Gaming M5 RGB Kablolu Optik Oyuncu Mouse   2023-06-10   \n",
              "559  Xiaomi 20000 mAh 2.1A - 3A Çift Çıkışlı Taşına...   2023-06-09   \n",
              "\n",
              "     Current Price   Old Date  Old Price                           Category   \n",
              "333           3075 2022-06-10        499                              mouse  \\\n",
              "309           1275 2022-06-10        263                              mouse   \n",
              "559            690 2022-06-10        159  tasinabilir-sarj-cihazi-powerbank   \n",
              "\n",
              "     Days Passed  Price Increase Percentage  \n",
              "333          365                 516.232465  \n",
              "309          365                 384.790875  \n",
              "559          364                 333.962264  "
            ]
          },
          "execution_count": 147,
          "metadata": {},
          "output_type": "execute_result"
        }
      ],
      "source": [
        "# Creating a new dataframe named \"df3\"\n",
        "# It will be sorted version of the \"df\" dataframe\n",
        "# Sorting according to the \"Price Increase Percentage\" column (descending order)\n",
        "# Showing 3 products with the highest price increase percentage\n",
        "df3 = df.sort_values(by=['Price Increase Percentage'], ascending=False)\n",
        "\n",
        "df3.head(3)"
      ]
    },
    {
      "attachments": {},
      "cell_type": "markdown",
      "metadata": {
        "id": "NeDKOInML9rs"
      },
      "source": [
        "### **Plotting the \"Current Price\" Histogram**\n",
        "\n",
        "\n",
        "---\n",
        "\n"
      ]
    },
    {
      "cell_type": "code",
      "execution_count": 148,
      "metadata": {
        "id": "7riYqDEvFEwu",
        "outputId": "e56176ab-193d-43d7-a010-ac1a14fdd563"
      },
      "outputs": [
        {
          "data": {
            "image/png": "[encoded data removed]",
            "text/plain": [
              "<Figure size 640x480 with 1 Axes>"
            ]
          },
          "metadata": {},
          "output_type": "display_data"
        }
      ],
      "source": [
        "# Creating a histogram for the \"Current Price\" column with bins=25\n",
        "plt.hist(df['Current Price'], bins=25)\n",
        "plt.title(\"Current Price Histogram\")\n",
        "plt.xlabel(\"Current Price\")\n",
        "plt.ylabel(\"Frequency\")\n",
        "tick_positions = np.linspace(df['Current Price'].min(), df['Current Price'].max(), 10)\n",
        "plt.xticks(rotation=45)\n",
        "plt.xticks(tick_positions)\n",
        "\n",
        "plt.show()"
      ]
    },
    {
      "cell_type": "code",
      "execution_count": 149,
      "metadata": {
        "id": "WbZUo0mRFEwv",
        "outputId": "9fa8a331-66c9-4452-eddd-b67be859d809"
      },
      "outputs": [
        {
          "name": "stdout",
          "output_type": "stream",
          "text": [
            "count      693.000000\n",
            "mean      4882.050505\n",
            "std       9144.719110\n",
            "min          2.000000\n",
            "25%        151.000000\n",
            "50%        699.000000\n",
            "75%       3729.000000\n",
            "max      49849.000000\n",
            "Name: Current Price, dtype: float64\n"
          ]
        }
      ],
      "source": [
        "# Showing the statistical information of the \"Current Price\" column\n",
        "print(df['Current Price'].describe())"
      ]
    },
    {
      "attachments": {},
      "cell_type": "markdown",
      "metadata": {
        "id": "Fwucz0sYMCWQ"
      },
      "source": [
        "### **Plotting the \"Old Price\" Histogram**\n",
        "\n",
        "\n",
        "---\n",
        "\n"
      ]
    },
    {
      "cell_type": "code",
      "execution_count": 150,
      "metadata": {
        "id": "DWkpXbxCFEwv",
        "outputId": "3d583ecb-4520-4478-8db5-c3dc9552d0b1"
      },
      "outputs": [
        {
          "data": {
            "image/png": "[encoded data removed]",
            "text/plain": [
              "<Figure size 640x480 with 1 Axes>"
            ]
          },
          "metadata": {},
          "output_type": "display_data"
        }
      ],
      "source": [
        "# Creating a histogram for the \"Old Price\" column with bins=25\n",
        "plt.hist(df['Old Price'], bins=25)\n",
        "plt.title(\"Current Price Histogram\")\n",
        "plt.xlabel(\"Current Price\")\n",
        "plt.ylabel(\"Frequency\")\n",
        "tick_positions = np.linspace(df['Old Price'].min(), df['Old Price'].max(), 10)\n",
        "plt.xticks(rotation=45)\n",
        "plt.xticks(tick_positions)\n",
        "plt.show()"
      ]
    },
    {
      "cell_type": "code",
      "execution_count": 151,
      "metadata": {
        "id": "r9sdywUXFEwv",
        "outputId": "f264e8c8-63d7-43df-d2e6-cb46c366735c"
      },
      "outputs": [
        {
          "name": "stdout",
          "output_type": "stream",
          "text": [
            "count      693.000000\n",
            "mean      3145.666667\n",
            "std       5547.637154\n",
            "min          1.000000\n",
            "25%        109.000000\n",
            "50%        470.000000\n",
            "75%       3599.000000\n",
            "max      44999.000000\n",
            "Name: Old Price, dtype: float64\n"
          ]
        }
      ],
      "source": [
        "# Showing the statistical information of the \"Old Price\" column\n",
        "print(df['Old Price'].describe())"
      ]
    },
    {
      "attachments": {},
      "cell_type": "markdown",
      "metadata": {
        "id": "vdHog-ixMNeI"
      },
      "source": [
        "### **Plotting Correlation Heatmap Between ['Old Price', 'Current Price', 'Price Increase Percentage']**\n",
        "\n",
        "\n",
        "---\n",
        "\n"
      ]
    },
    {
      "cell_type": "code",
      "execution_count": 152,
      "metadata": {
        "id": "k9zYVgeJFEwv",
        "outputId": "0baed319-1927-477c-a4ff-cb1095bef5ba"
      },
      "outputs": [
        {
          "data": {
            "application/vnd.plotly.v1+json": {
              "config": {
                "plotlyServerURL": "https://plot.ly"
              },
              "data": [
                {
                  "colorscale": [
                    [
                      0,
                      "rgb(103,0,31)"
                    ],
                    [
                      0.1,
                      "rgb(178,24,43)"
                    ],
                    [
                      0.2,
                      "rgb(214,96,77)"
                    ],
                    [
                      0.3,
                      "rgb(244,165,130)"
                    ],
                    [
                      0.4,
                      "rgb(253,219,199)"
                    ],
                    [
                      0.5,
                      "rgb(247,247,247)"
                    ],
                    [
                      0.6,
                      "rgb(209,229,240)"
                    ],
                    [
                      0.7,
                      "rgb(146,197,222)"
                    ],
                    [
                      0.8,
                      "rgb(67,147,195)"
                    ],
                    [
                      0.9,
                      "rgb(33,102,172)"
                    ],
                    [
                      1,
                      "rgb(5,48,97)"
                    ]
                  ],
                  "hoverongaps": false,
                  "type": "heatmap",
                  "x": [
                    "Old Price",
                    "Current Price",
                    "Price Increase Percentage"
                  ],
                  "y": [
                    "Old Price",
                    "Current Price",
                    "Price Increase Percentage"
                  ],
                  "z": [
                    [
                      1,
                      0.9548865586660086,
                      0.011926197469439416
                    ],
                    [
                      0.9548865586660086,
                      1,
                      0.1229663110037351
                    ],
                    [
                      0.011926197469439416,
                      0.1229663110037351,
                      1
                    ]
                  ]
                }
              ],
              "layout": {
                "autosize": false,
                "height": 500,
                "margin": {
                  "b": 100,
                  "l": 100,
                  "r": 100,
                  "t": 100
                },
                "template": {
                  "data": {
                    "bar": [
                      {
                        "error_x": {
                          "color": "#2a3f5f"
                        },
                        "error_y": {
                          "color": "#2a3f5f"
                        },
                        "marker": {
                          "line": {
                            "color": "#E5ECF6",
                            "width": 0.5
                          },
                          "pattern": {
                            "fillmode": "overlay",
                            "size": 10,
                            "solidity": 0.2
                          }
                        },
                        "type": "bar"
                      }
                    ],
                    "barpolar": [
                      {
                        "marker": {
                          "line": {
                            "color": "#E5ECF6",
                            "width": 0.5
                          },
                          "pattern": {
                            "fillmode": "overlay",
                            "size": 10,
                            "solidity": 0.2
                          }
                        },
                        "type": "barpolar"
                      }
                    ],
                    "carpet": [
                      {
                        "aaxis": {
                          "endlinecolor": "#2a3f5f",
                          "gridcolor": "white",
                          "linecolor": "white",
                          "minorgridcolor": "white",
                          "startlinecolor": "#2a3f5f"
                        },
                        "baxis": {
                          "endlinecolor": "#2a3f5f",
                          "gridcolor": "white",
                          "linecolor": "white",
                          "minorgridcolor": "white",
                          "startlinecolor": "#2a3f5f"
                        },
                        "type": "carpet"
                      }
                    ],
                    "choropleth": [
                      {
                        "colorbar": {
                          "outlinewidth": 0,
                          "ticks": ""
                        },
                        "type": "choropleth"
                      }
                    ],
                    "contour": [
                      {
                        "colorbar": {
                          "outlinewidth": 0,
                          "ticks": ""
                        },
                        "colorscale": [
                          [
                            0,
                            "#0d0887"
                          ],
                          [
                            0.1111111111111111,
                            "#46039f"
                          ],
                          [
                            0.2222222222222222,
                            "#7201a8"
                          ],
                          [
                            0.3333333333333333,
                            "#9c179e"
                          ],
                          [
                            0.4444444444444444,
                            "#bd3786"
                          ],
                          [
                            0.5555555555555556,
                            "#d8576b"
                          ],
                          [
                            0.6666666666666666,
                            "#ed7953"
                          ],
                          [
                            0.7777777777777778,
                            "#fb9f3a"
                          ],
                          [
                            0.8888888888888888,
                            "#fdca26"
                          ],
                          [
                            1,
                            "#f0f921"
                          ]
                        ],
                        "type": "contour"
                      }
                    ],
                    "contourcarpet": [
                      {
                        "colorbar": {
                          "outlinewidth": 0,
                          "ticks": ""
                        },
                        "type": "contourcarpet"
                      }
                    ],
                    "heatmap": [
                      {
                        "colorbar": {
                          "outlinewidth": 0,
                          "ticks": ""
                        },
                        "colorscale": [
                          [
                            0,
                            "#0d0887"
                          ],
                          [
                            0.1111111111111111,
                            "#46039f"
                          ],
                          [
                            0.2222222222222222,
                            "#7201a8"
                          ],
                          [
                            0.3333333333333333,
                            "#9c179e"
                          ],
                          [
                            0.4444444444444444,
                            "#bd3786"
                          ],
                          [
                            0.5555555555555556,
                            "#d8576b"
                          ],
                          [
                            0.6666666666666666,
                            "#ed7953"
                          ],
                          [
                            0.7777777777777778,
                            "#fb9f3a"
                          ],
                          [
                            0.8888888888888888,
                            "#fdca26"
                          ],
                          [
                            1,
                            "#f0f921"
                          ]
                        ],
                        "type": "heatmap"
                      }
                    ],
                    "heatmapgl": [
                      {
                        "colorbar": {
                          "outlinewidth": 0,
                          "ticks": ""
                        },
                        "colorscale": [
                          [
                            0,
                            "#0d0887"
                          ],
                          [
                            0.1111111111111111,
                            "#46039f"
                          ],
                          [
                            0.2222222222222222,
                            "#7201a8"
                          ],
                          [
                            0.3333333333333333,
                            "#9c179e"
                          ],
                          [
                            0.4444444444444444,
                            "#bd3786"
                          ],
                          [
                            0.5555555555555556,
                            "#d8576b"
                          ],
                          [
                            0.6666666666666666,
                            "#ed7953"
                          ],
                          [
                            0.7777777777777778,
                            "#fb9f3a"
                          ],
                          [
                            0.8888888888888888,
                            "#fdca26"
                          ],
                          [
                            1,
                            "#f0f921"
                          ]
                        ],
                        "type": "heatmapgl"
                      }
                    ],
                    "histogram": [
                      {
                        "marker": {
                          "pattern": {
                            "fillmode": "overlay",
                            "size": 10,
                            "solidity": 0.2
                          }
                        },
                        "type": "histogram"
                      }
                    ],
                    "histogram2d": [
                      {
                        "colorbar": {
                          "outlinewidth": 0,
                          "ticks": ""
                        },
                        "colorscale": [
                          [
                            0,
                            "#0d0887"
                          ],
                          [
                            0.1111111111111111,
                            "#46039f"
                          ],
                          [
                            0.2222222222222222,
                            "#7201a8"
                          ],
                          [
                            0.3333333333333333,
                            "#9c179e"
                          ],
                          [
                            0.4444444444444444,
                            "#bd3786"
                          ],
                          [
                            0.5555555555555556,
                            "#d8576b"
                          ],
                          [
                            0.6666666666666666,
                            "#ed7953"
                          ],
                          [
                            0.7777777777777778,
                            "#fb9f3a"
                          ],
                          [
                            0.8888888888888888,
                            "#fdca26"
                          ],
                          [
                            1,
                            "#f0f921"
                          ]
                        ],
                        "type": "histogram2d"
                      }
                    ],
                    "histogram2dcontour": [
                      {
                        "colorbar": {
                          "outlinewidth": 0,
                          "ticks": ""
                        },
                        "colorscale": [
                          [
                            0,
                            "#0d0887"
                          ],
                          [
                            0.1111111111111111,
                            "#46039f"
                          ],
                          [
                            0.2222222222222222,
                            "#7201a8"
                          ],
                          [
                            0.3333333333333333,
                            "#9c179e"
                          ],
                          [
                            0.4444444444444444,
                            "#bd3786"
                          ],
                          [
                            0.5555555555555556,
                            "#d8576b"
                          ],
                          [
                            0.6666666666666666,
                            "#ed7953"
                          ],
                          [
                            0.7777777777777778,
                            "#fb9f3a"
                          ],
                          [
                            0.8888888888888888,
                            "#fdca26"
                          ],
                          [
                            1,
                            "#f0f921"
                          ]
                        ],
                        "type": "histogram2dcontour"
                      }
                    ],
                    "mesh3d": [
                      {
                        "colorbar": {
                          "outlinewidth": 0,
                          "ticks": ""
                        },
                        "type": "mesh3d"
                      }
                    ],
                    "parcoords": [
                      {
                        "line": {
                          "colorbar": {
                            "outlinewidth": 0,
                            "ticks": ""
                          }
                        },
                        "type": "parcoords"
                      }
                    ],
                    "pie": [
                      {
                        "automargin": true,
                        "type": "pie"
                      }
                    ],
                    "scatter": [
                      {
                        "fillpattern": {
                          "fillmode": "overlay",
                          "size": 10,
                          "solidity": 0.2
                        },
                        "type": "scatter"
                      }
                    ],
                    "scatter3d": [
                      {
                        "line": {
                          "colorbar": {
                            "outlinewidth": 0,
                            "ticks": ""
                          }
                        },
                        "marker": {
                          "colorbar": {
                            "outlinewidth": 0,
                            "ticks": ""
                          }
                        },
                        "type": "scatter3d"
                      }
                    ],
                    "scattercarpet": [
                      {
                        "marker": {
                          "colorbar": {
                            "outlinewidth": 0,
                            "ticks": ""
                          }
                        },
                        "type": "scattercarpet"
                      }
                    ],
                    "scattergeo": [
                      {
                        "marker": {
                          "colorbar": {
                            "outlinewidth": 0,
                            "ticks": ""
                          }
                        },
                        "type": "scattergeo"
                      }
                    ],
                    "scattergl": [
                      {
                        "marker": {
                          "colorbar": {
                            "outlinewidth": 0,
                            "ticks": ""
                          }
                        },
                        "type": "scattergl"
                      }
                    ],
                    "scattermapbox": [
                      {
                        "marker": {
                          "colorbar": {
                            "outlinewidth": 0,
                            "ticks": ""
                          }
                        },
                        "type": "scattermapbox"
                      }
                    ],
                    "scatterpolar": [
                      {
                        "marker": {
                          "colorbar": {
                            "outlinewidth": 0,
                            "ticks": ""
                          }
                        },
                        "type": "scatterpolar"
                      }
                    ],
                    "scatterpolargl": [
                      {
                        "marker": {
                          "colorbar": {
                            "outlinewidth": 0,
                            "ticks": ""
                          }
                        },
                        "type": "scatterpolargl"
                      }
                    ],
                    "scatterternary": [
                      {
                        "marker": {
                          "colorbar": {
                            "outlinewidth": 0,
                            "ticks": ""
                          }
                        },
                        "type": "scatterternary"
                      }
                    ],
                    "surface": [
                      {
                        "colorbar": {
                          "outlinewidth": 0,
                          "ticks": ""
                        },
                        "colorscale": [
                          [
                            0,
                            "#0d0887"
                          ],
                          [
                            0.1111111111111111,
                            "#46039f"
                          ],
                          [
                            0.2222222222222222,
                            "#7201a8"
                          ],
                          [
                            0.3333333333333333,
                            "#9c179e"
                          ],
                          [
                            0.4444444444444444,
                            "#bd3786"
                          ],
                          [
                            0.5555555555555556,
                            "#d8576b"
                          ],
                          [
                            0.6666666666666666,
                            "#ed7953"
                          ],
                          [
                            0.7777777777777778,
                            "#fb9f3a"
                          ],
                          [
                            0.8888888888888888,
                            "#fdca26"
                          ],
                          [
                            1,
                            "#f0f921"
                          ]
                        ],
                        "type": "surface"
                      }
                    ],
                    "table": [
                      {
                        "cells": {
                          "fill": {
                            "color": "#EBF0F8"
                          },
                          "line": {
                            "color": "white"
                          }
                        },
                        "header": {
                          "fill": {
                            "color": "#C8D4E3"
                          },
                          "line": {
                            "color": "white"
                          }
                        },
                        "type": "table"
                      }
                    ]
                  },
                  "layout": {
                    "annotationdefaults": {
                      "arrowcolor": "#2a3f5f",
                      "arrowhead": 0,
                      "arrowwidth": 1
                    },
                    "autotypenumbers": "strict",
                    "coloraxis": {
                      "colorbar": {
                        "outlinewidth": 0,
                        "ticks": ""
                      }
                    },
                    "colorscale": {
                      "diverging": [
                        [
                          0,
                          "#8e0152"
                        ],
                        [
                          0.1,
                          "#c51b7d"
                        ],
                        [
                          0.2,
                          "#de77ae"
                        ],
                        [
                          0.3,
                          "#f1b6da"
                        ],
                        [
                          0.4,
                          "#fde0ef"
                        ],
                        [
                          0.5,
                          "#f7f7f7"
                        ],
                        [
                          0.6,
                          "#e6f5d0"
                        ],
                        [
                          0.7,
                          "#b8e186"
                        ],
                        [
                          0.8,
                          "#7fbc41"
                        ],
                        [
                          0.9,
                          "#4d9221"
                        ],
                        [
                          1,
                          "#276419"
                        ]
                      ],
                      "sequential": [
                        [
                          0,
                          "#0d0887"
                        ],
                        [
                          0.1111111111111111,
                          "#46039f"
                        ],
                        [
                          0.2222222222222222,
                          "#7201a8"
                        ],
                        [
                          0.3333333333333333,
                          "#9c179e"
                        ],
                        [
                          0.4444444444444444,
                          "#bd3786"
                        ],
                        [
                          0.5555555555555556,
                          "#d8576b"
                        ],
                        [
                          0.6666666666666666,
                          "#ed7953"
                        ],
                        [
                          0.7777777777777778,
                          "#fb9f3a"
                        ],
                        [
                          0.8888888888888888,
                          "#fdca26"
                        ],
                        [
                          1,
                          "#f0f921"
                        ]
                      ],
                      "sequentialminus": [
                        [
                          0,
                          "#0d0887"
                        ],
                        [
                          0.1111111111111111,
                          "#46039f"
                        ],
                        [
                          0.2222222222222222,
                          "#7201a8"
                        ],
                        [
                          0.3333333333333333,
                          "#9c179e"
                        ],
                        [
                          0.4444444444444444,
                          "#bd3786"
                        ],
                        [
                          0.5555555555555556,
                          "#d8576b"
                        ],
                        [
                          0.6666666666666666,
                          "#ed7953"
                        ],
                        [
                          0.7777777777777778,
                          "#fb9f3a"
                        ],
                        [
                          0.8888888888888888,
                          "#fdca26"
                        ],
                        [
                          1,
                          "#f0f921"
                        ]
                      ]
                    },
                    "colorway": [
                      "#636efa",
                      "#EF553B",
                      "#00cc96",
                      "#ab63fa",
                      "#FFA15A",
                      "#19d3f3",
                      "#FF6692",
                      "#B6E880",
                      "#FF97FF",
                      "#FECB52"
                    ],
                    "font": {
                      "color": "#2a3f5f"
                    },
                    "geo": {
                      "bgcolor": "white",
                      "lakecolor": "white",
                      "landcolor": "#E5ECF6",
                      "showlakes": true,
                      "showland": true,
                      "subunitcolor": "white"
                    },
                    "hoverlabel": {
                      "align": "left"
                    },
                    "hovermode": "closest",
                    "mapbox": {
                      "style": "light"
                    },
                    "paper_bgcolor": "white",
                    "plot_bgcolor": "#E5ECF6",
                    "polar": {
                      "angularaxis": {
                        "gridcolor": "white",
                        "linecolor": "white",
                        "ticks": ""
                      },
                      "bgcolor": "#E5ECF6",
                      "radialaxis": {
                        "gridcolor": "white",
                        "linecolor": "white",
                        "ticks": ""
                      }
                    },
                    "scene": {
                      "xaxis": {
                        "backgroundcolor": "#E5ECF6",
                        "gridcolor": "white",
                        "gridwidth": 2,
                        "linecolor": "white",
                        "showbackground": true,
                        "ticks": "",
                        "zerolinecolor": "white"
                      },
                      "yaxis": {
                        "backgroundcolor": "#E5ECF6",
                        "gridcolor": "white",
                        "gridwidth": 2,
                        "linecolor": "white",
                        "showbackground": true,
                        "ticks": "",
                        "zerolinecolor": "white"
                      },
                      "zaxis": {
                        "backgroundcolor": "#E5ECF6",
                        "gridcolor": "white",
                        "gridwidth": 2,
                        "linecolor": "white",
                        "showbackground": true,
                        "ticks": "",
                        "zerolinecolor": "white"
                      }
                    },
                    "shapedefaults": {
                      "line": {
                        "color": "#2a3f5f"
                      }
                    },
                    "ternary": {
                      "aaxis": {
                        "gridcolor": "white",
                        "linecolor": "white",
                        "ticks": ""
                      },
                      "baxis": {
                        "gridcolor": "white",
                        "linecolor": "white",
                        "ticks": ""
                      },
                      "bgcolor": "#E5ECF6",
                      "caxis": {
                        "gridcolor": "white",
                        "linecolor": "white",
                        "ticks": ""
                      }
                    },
                    "title": {
                      "x": 0.05
                    },
                    "xaxis": {
                      "automargin": true,
                      "gridcolor": "white",
                      "linecolor": "white",
                      "ticks": "",
                      "title": {
                        "standoff": 15
                      },
                      "zerolinecolor": "white",
                      "zerolinewidth": 2
                    },
                    "yaxis": {
                      "automargin": true,
                      "gridcolor": "white",
                      "linecolor": "white",
                      "ticks": "",
                      "title": {
                        "standoff": 15
                      },
                      "zerolinecolor": "white",
                      "zerolinewidth": 2
                    }
                  }
                },
                "title": {
                  "text": "Correlation Heatmap"
                },
                "width": 500,
                "xaxis": {
                  "nticks": 3
                },
                "yaxis": {
                  "nticks": 3
                }
              }
            }
          },
          "metadata": {},
          "output_type": "display_data"
        }
      ],
      "source": [
        "# see if there is any strong correlation between the columns\n",
        "corr = df[['Old Price', 'Current Price', 'Price Increase Percentage']].corr()\n",
        "\n",
        "# Creation of the heatmap with Plotly\n",
        "fig = go.Figure(data=go.Heatmap(z=corr,x=corr.columns,y=corr.columns,hoverongaps = False,colorscale='RdBu'))\n",
        "fig.update_layout(title='Correlation Heatmap',xaxis_nticks=len(corr.columns),yaxis_nticks=len(corr.columns),autosize=False,width=500, height=500,margin=dict(l=100,r=100,b=100,t=100))\n",
        "fig.show()"
      ]
    },
    {
      "attachments": {},
      "cell_type": "markdown",
      "metadata": {
        "id": "iR8nQ0TDMZgZ"
      },
      "source": [
        "### **Plotting the relationship between the \"Current Price\" and \"Price Increase Percentage\"**\n",
        "\n",
        "\n",
        "---\n",
        "\n"
      ]
    },
    {
      "cell_type": "code",
      "execution_count": 153,
      "metadata": {
        "id": "BVjkq2KOFEww",
        "outputId": "f8273b44-8717-49bf-9d51-ea852dfb1a5f"
      },
      "outputs": [
        {
          "data": {
            "application/vnd.plotly.v1+json": {
              "config": {
                "plotlyServerURL": "https://plot.ly"
              },
              "data": [
                {
                  "hovertemplate": "Current Price=%{x}<br>Price Increase Percentage=%{y}<extra></extra>",
                  "legendgroup": "",
                  "marker": {
                    "color": "#636efa",
                    "symbol": "circle"
                  },
                  "mode": "markers",
                  "name": "",
                  "orientation": "v",
                  "showlegend": false,
                  "type": "scatter",
                  "x": [
                    600,
                    1199,
                    838,
                    1619,
                    95,
                    69,
                    1775,
                    1105,
                    144,
                    89,
                    799,
                    819,
                    170,
                    340,
                    359,
                    557,
                    679,
                    829,
                    55,
                    30,
                    70,
                    89,
                    30,
                    45,
                    123,
                    74,
                    74,
                    75,
                    91,
                    91,
                    98,
                    76,
                    129,
                    134,
                    76,
                    130,
                    98,
                    155,
                    84,
                    84,
                    95,
                    106,
                    325,
                    183,
                    244,
                    596,
                    328,
                    432,
                    1289,
                    188,
                    429,
                    455,
                    596,
                    89,
                    125,
                    213,
                    343,
                    409,
                    636,
                    37,
                    49,
                    98,
                    269,
                    450,
                    358,
                    742,
                    3599,
                    254,
                    396,
                    32498,
                    24289,
                    212,
                    3139,
                    8199,
                    629,
                    890,
                    742,
                    799,
                    869,
                    949,
                    759,
                    3599,
                    3599,
                    3599,
                    3559,
                    3599,
                    65,
                    100,
                    127,
                    143,
                    219,
                    202,
                    169,
                    35899,
                    35999,
                    35998,
                    35998,
                    37899,
                    35899,
                    35999,
                    39999,
                    40998,
                    40998,
                    40999,
                    42990,
                    39999,
                    41999,
                    32999,
                    32498,
                    32798,
                    32999,
                    33499,
                    32799,
                    959,
                    969,
                    969,
                    31885,
                    24399,
                    24299,
                    586,
                    450,
                    235,
                    212,
                    3153,
                    3128,
                    3139,
                    149,
                    124,
                    699,
                    1947,
                    39,
                    79,
                    279,
                    340,
                    385,
                    880,
                    69,
                    16983,
                    7668,
                    14299,
                    10399,
                    1099,
                    3729,
                    18399,
                    8722,
                    19299,
                    8783,
                    17397,
                    2729,
                    6799,
                    5811,
                    19980,
                    27447,
                    14299,
                    18890,
                    1799,
                    1263,
                    1099,
                    1338,
                    22900,
                    23900,
                    18998,
                    20389,
                    20389,
                    21600,
                    18499,
                    27999,
                    27999,
                    26999,
                    26999,
                    18399,
                    23990,
                    26900,
                    27000,
                    24995,
                    18799,
                    9149,
                    8722,
                    9299,
                    8454,
                    9199,
                    8589,
                    8454,
                    9299,
                    2199,
                    1019,
                    3599,
                    1682,
                    1999,
                    8299,
                    7289,
                    4378,
                    9599,
                    2599,
                    2449,
                    2699,
                    2435,
                    2499,
                    2229,
                    1039,
                    1682,
                    2085,
                    1979,
                    1879,
                    3290,
                    12298,
                    12299,
                    12298,
                    11799,
                    13460,
                    11799,
                    15698,
                    8299,
                    7258,
                    7239,
                    7289,
                    7289,
                    3339,
                    3569,
                    3199,
                    3339,
                    3299,
                    3199,
                    4478,
                    4299,
                    10999,
                    8999,
                    3535,
                    3650,
                    4480,
                    5398,
                    5598,
                    7398,
                    2299,
                    519,
                    348,
                    3699,
                    3749,
                    4400,
                    4900,
                    6849,
                    6098,
                    3899,
                    3695,
                    1139,
                    1179,
                    9767,
                    798,
                    17999,
                    2998,
                    3040,
                    1031,
                    1749,
                    9999,
                    1690,
                    2419,
                    10498,
                    14199,
                    2994,
                    3499,
                    2814,
                    6849,
                    429,
                    399,
                    359,
                    5369,
                    1210,
                    4499,
                    3650,
                    893,
                    359,
                    1275,
                    1259,
                    1270,
                    1260,
                    1238,
                    1248,
                    1899,
                    8199,
                    8199,
                    239,
                    1231,
                    1775,
                    1644,
                    2110,
                    6499,
                    1428,
                    8149,
                    9999,
                    6699,
                    6699,
                    891,
                    1939,
                    538,
                    1179,
                    3075,
                    797,
                    899,
                    999,
                    1299,
                    358,
                    890,
                    5839,
                    1163,
                    2790,
                    173,
                    27999,
                    929,
                    3199,
                    27199,
                    799,
                    9658,
                    8499,
                    332,
                    16357,
                    789,
                    699,
                    1049,
                    1149,
                    1799,
                    388,
                    389,
                    285,
                    149,
                    2999,
                    2999,
                    382,
                    584,
                    414,
                    394,
                    170,
                    86,
                    22,
                    92,
                    226,
                    226,
                    44,
                    237,
                    12,
                    25,
                    23,
                    16007,
                    16499,
                    16007,
                    16007,
                    18299,
                    7449,
                    7449,
                    395,
                    134,
                    279,
                    2279,
                    89,
                    64,
                    26315,
                    28999,
                    37199,
                    27999,
                    32699,
                    29998,
                    29999,
                    29999,
                    28399,
                    26998,
                    29999,
                    26315,
                    29999,
                    929,
                    949,
                    759,
                    759,
                    889,
                    889,
                    34,
                    42,
                    16357,
                    749,
                    1179,
                    1997,
                    1432,
                    1349,
                    89,
                    18,
                    17,
                    7699,
                    7499,
                    57,
                    26,
                    47,
                    19999,
                    16999,
                    28347,
                    49849,
                    3099,
                    5898,
                    774,
                    509,
                    724,
                    14709,
                    349,
                    229,
                    699,
                    555,
                    993,
                    489,
                    299,
                    727,
                    24295,
                    34999,
                    24,
                    39,
                    9,
                    72,
                    49,
                    61,
                    62,
                    91,
                    58,
                    55,
                    4259,
                    399,
                    399,
                    2124,
                    241,
                    10,
                    66,
                    45,
                    92,
                    40,
                    179,
                    45,
                    23,
                    7,
                    14,
                    16499,
                    21409,
                    19000,
                    529,
                    7499,
                    38,
                    372,
                    255,
                    2398,
                    799,
                    17,
                    9,
                    448,
                    259,
                    1384,
                    38,
                    40,
                    269,
                    101,
                    235,
                    257,
                    295,
                    249,
                    296,
                    153,
                    249,
                    84,
                    9799,
                    19299,
                    9999,
                    913,
                    899,
                    369,
                    7826,
                    3757,
                    5461,
                    64,
                    89,
                    55,
                    40,
                    67,
                    50,
                    38,
                    79,
                    39,
                    29,
                    39,
                    39,
                    26,
                    7,
                    30,
                    24,
                    302,
                    488,
                    17,
                    115,
                    84,
                    1199,
                    2689,
                    2720,
                    1499,
                    2549,
                    59,
                    75,
                    159,
                    2254,
                    217,
                    199,
                    211,
                    257,
                    690,
                    429,
                    151,
                    1534,
                    1699,
                    699,
                    1699,
                    949,
                    1798,
                    489,
                    378,
                    9250,
                    2100,
                    24999,
                    739,
                    439,
                    139,
                    139,
                    947,
                    323,
                    39,
                    64,
                    36,
                    26,
                    142,
                    25,
                    14,
                    260,
                    269,
                    479,
                    542,
                    439,
                    745,
                    449,
                    1551,
                    1294,
                    689,
                    636,
                    489,
                    299,
                    429,
                    1239,
                    27,
                    28,
                    567,
                    599,
                    219,
                    269,
                    585,
                    6399,
                    7469,
                    1376,
                    5751,
                    45,
                    229,
                    129,
                    899,
                    749,
                    24,
                    196,
                    265,
                    47,
                    248,
                    51,
                    2,
                    26,
                    150,
                    2819,
                    134,
                    204,
                    439,
                    419,
                    26,
                    19,
                    290,
                    129,
                    127,
                    349,
                    30,
                    14,
                    15,
                    15,
                    139,
                    44,
                    299,
                    169,
                    233,
                    148,
                    699,
                    899,
                    549,
                    374,
                    538,
                    335,
                    629,
                    1249,
                    251,
                    419,
                    122,
                    239,
                    58,
                    2249,
                    3299,
                    139,
                    209,
                    1765,
                    17,
                    35,
                    49,
                    68,
                    44,
                    7172,
                    5529,
                    135,
                    287,
                    3481,
                    5892,
                    390,
                    639,
                    214,
                    384,
                    254,
                    74,
                    279,
                    293,
                    299,
                    1223,
                    999,
                    299,
                    67,
                    54,
                    432,
                    182,
                    1389,
                    809,
                    19,
                    19,
                    21,
                    7299,
                    16719,
                    275,
                    22,
                    19,
                    41,
                    29,
                    15,
                    36,
                    5749,
                    6142,
                    49,
                    47,
                    374,
                    99,
                    99,
                    129,
                    413,
                    88,
                    3350,
                    7999,
                    410,
                    263,
                    307,
                    459,
                    479,
                    380,
                    56,
                    56,
                    110,
                    209,
                    173,
                    220,
                    80,
                    293,
                    16,
                    219,
                    69,
                    14500,
                    290,
                    599,
                    118,
                    230,
                    169,
                    440,
                    189,
                    134,
                    212,
                    199,
                    216,
                    160
                  ],
                  "xaxis": "x",
                  "y": [
                    107.61245674740485,
                    90.62003179650239,
                    86.63697104677061,
                    113.02631578947368,
                    115.90909090909092,
                    53.333333333333336,
                    82.05128205128204,
                    59.6820809248555,
                    53.191489361702125,
                    28.985507246376812,
                    128.93982808022923,
                    -7.874015748031496,
                    80.85106382978722,
                    128.18791946308724,
                    93.01075268817203,
                    98.22064056939502,
                    96.81159420289856,
                    93.24009324009323,
                    139.1304347826087,
                    42.857142857142854,
                    233.33333333333334,
                    323.8095238095238,
                    42.857142857142854,
                    87.5,
                    80.88235294117648,
                    94.73684210526315,
                    94.73684210526315,
                    97.36842105263158,
                    152.77777777777777,
                    89.58333333333334,
                    172.22222222222223,
                    15.151515151515152,
                    53.57142857142857,
                    50.56179775280899,
                    15.151515151515152,
                    96.96969696969697,
                    100,
                    118.30985915492957,
                    71.42857142857143,
                    71.42857142857143,
                    58.333333333333336,
                    41.333333333333336,
                    74.73118279569893,
                    33.57664233576642,
                    22.613065326633166,
                    82.26299694189603,
                    24.242424242424242,
                    25.217391304347824,
                    79.7768479776848,
                    63.47826086956522,
                    78.75,
                    -3.1914893617021276,
                    -3.870967741935484,
                    56.14035087719298,
                    48.80952380952381,
                    30.67484662576687,
                    53.81165919282511,
                    36.78929765886287,
                    53.62318840579711,
                    76.19047619047619,
                    -9.25925925925926,
                    36.11111111111111,
                    89.43661971830986,
                    -27.884615384615387,
                    55.65217391304348,
                    48.4,
                    33.34568358651352,
                    82.73381294964028,
                    52.8957528957529,
                    80.55447524862493,
                    65.76127755408449,
                    50.35460992907801,
                    37.97802197802198,
                    31.204992798847815,
                    31.315240083507305,
                    55.052264808362374,
                    17.965023847376788,
                    21.06060606060606,
                    -29.464285714285715,
                    -14.117647058823529,
                    26.71118530884808,
                    33.34568358651352,
                    50.02084201750729,
                    33.34568358651352,
                    48.35348061692372,
                    20.00666888962988,
                    20.37037037037037,
                    40.845070422535215,
                    84.05797101449275,
                    52.12765957446809,
                    56.42857142857143,
                    61.6,
                    65.68627450980392,
                    89.14120126448893,
                    83.4904939089658,
                    89.47313016474551,
                    89.66280295047419,
                    99.47891994315489,
                    83.16750854635441,
                    89.47839359966314,
                    122.22901272292906,
                    89.13133736218111,
                    92.48791023052726,
                    95.24263060145721,
                    99.9627889669287,
                    84.33568367205862,
                    100.20497664219658,
                    83.3379632201789,
                    80.55447524862493,
                    81.40486725663717,
                    85.39805607056576,
                    86.1158953275182,
                    80.56151940545004,
                    113.58574610244989,
                    33.83977900552486,
                    20.074349442379184,
                    79.1392774874993,
                    60.53029804592407,
                    70.42362182634311,
                    231.0734463276836,
                    27.84090909090909,
                    66.66666666666666,
                    40.397350993377486,
                    37.14658547194432,
                    37.49450549450549,
                    31.890756302521005,
                    -21.164021164021165,
                    18.095238095238095,
                    -5.668016194331984,
                    57.65182186234817,
                    11.428571428571429,
                    49.056603773584904,
                    16.736401673640167,
                    56.68202764976959,
                    37.992831541218635,
                    76.35270541082164,
                    91.66666666666666,
                    40.33217649975211,
                    2.253633817842379,
                    62.877320879371226,
                    -0.952471663967997,
                    102.76752767527675,
                    -35.695809622348676,
                    44.885424049137725,
                    24.61780254322046,
                    66.3850331925166,
                    47.886849637986195,
                    30.8143469433792,
                    -1.6222062004325881,
                    -30.61536891519543,
                    57.09651257096513,
                    -5.299080481562234,
                    -39.00531122913842,
                    60.680975390493316,
                    115.17257090784827,
                    200.3338898163606,
                    107.38916256157636,
                    98.01801801801801,
                    123.37228714524207,
                    80.2156291807665,
                    92.99095607235142,
                    63.789981894990945,
                    70.23461634800033,
                    69.92249354112843,
                    80.01500125010418,
                    59.48788688680059,
                    154.5595054095827,
                    137.29977116704805,
                    56.3799594555459,
                    88.06770688213987,
                    44.885424049137725,
                    14.243535406447927,
                    108.05940134581174,
                    112.61516654854714,
                    101.58883780950076,
                    48.03527836837546,
                    27.42339832869081,
                    22.5,
                    29.512534818941504,
                    27.511312217194572,
                    33.33816495144224,
                    29.547511312217196,
                    21.65779248812779,
                    -15.455950540958268,
                    101.55820348304307,
                    -13.570822731128073,
                    35.86258965647414,
                    40.75313807531381,
                    61.993517017828204,
                    57.44640485676342,
                    17.337411461687058,
                    -2.905300510090929,
                    -12.728429857259751,
                    13.049151805132666,
                    93.13880126182966,
                    100.0741289844329,
                    94.95596477181746,
                    126.76950998185117,
                    71.59353348729792,
                    62.59780907668232,
                    39.23841059602649,
                    63.01798279906177,
                    54.851330203442885,
                    57.23849372384937,
                    49.681528662420384,
                    64.17033773861968,
                    59.74801922327575,
                    17.25781845919146,
                    63.897763578274756,
                    97.10060038072925,
                    9.361386597460376,
                    67.01776784764336,
                    10.124734607218684,
                    25.159510260389723,
                    18.847479888359874,
                    15.716780441339894,
                    17.337411461687058,
                    -10.69804760631185,
                    -14.082811747713048,
                    -10.79196876742889,
                    -16.27382146439318,
                    -17.504376094023506,
                    -17.27437289888803,
                    -2.8000868243976558,
                    -4.657351962741185,
                    25.00284123195818,
                    55.90783090783091,
                    25.399077687123096,
                    15.909812638932994,
                    17.001828153564897,
                    -0.018521948508983144,
                    1.800327332242226,
                    -0.013515339910798757,
                    97.00085689802913,
                    97.33840304182509,
                    48.717948717948715,
                    24.210879785090665,
                    2.4876981957353745,
                    19.989091900736298,
                    18.67280213126665,
                    24.32383372662915,
                    32.7094668117519,
                    28.552588196505113,
                    25.68027210884354,
                    85.20325203252033,
                    -19.74132062627638,
                    39.52857142857143,
                    106.20155038759691,
                    64.07474931631722,
                    64.3640350877193,
                    53.535353535353536,
                    55.27108433734939,
                    132.8894806924101,
                    51.52295802394302,
                    47.08442123585726,
                    80.6572068707991,
                    49.99285612230319,
                    88.61583421891605,
                    13.194706994328923,
                    32.58810155361879,
                    17.10362047440699,
                    65.47475235564147,
                    -28.380634390651082,
                    21.27659574468085,
                    45.9349593495935,
                    -28.403787171622884,
                    19.447186574531095,
                    26.696705153477897,
                    15.909812638932994,
                    74.07407407407408,
                    71.77033492822966,
                    384.7908745247148,
                    12.511170688114387,
                    18.802619270346117,
                    5.971404541631623,
                    18.242597898758355,
                    18.970448045757866,
                    58.64661654135338,
                    31.204992798847815,
                    34.43187407771766,
                    -29.49852507374631,
                    46.722288438617404,
                    7.380520266182698,
                    2.175264139216905,
                    10.010427528675704,
                    18.50838803792852,
                    -22.769064359113035,
                    32.46098829648895,
                    33.33777837044939,
                    48.899755501222494,
                    48.899755501222494,
                    -28.029079159935378,
                    94.09409409409409,
                    10.927835051546392,
                    136.27254509018036,
                    516.2324649298597,
                    79.90970654627539,
                    19.230769230769234,
                    99.40119760479041,
                    30.03003003003003,
                    -32.833020637898684,
                    54.78260869565217,
                    104.94910494910495,
                    26.550598476605003,
                    -6.968989663221074,
                    41.80327868852459,
                    67.66872267800467,
                    -1.0649627263045793,
                    33.34722801167153,
                    31.40248321174936,
                    -15.806111696522656,
                    -37.28164166504319,
                    -2.2991148407862974,
                    39.49579831932773,
                    71.27748691099477,
                    65.06276150627615,
                    22.847100175746924,
                    87.32142857142857,
                    82.67090620031796,
                    201.84563758389262,
                    67.96536796536796,
                    47.90874524714829,
                    58.333333333333336,
                    101.35135135135135,
                    50.025012506253134,
                    76.51559741024133,
                    59.83263598326359,
                    39.04761904761905,
                    56.22641509433962,
                    43.79562043795621,
                    55.96330275229357,
                    86.95652173913044,
                    0,
                    142.10526315789474,
                    51.67785234899329,
                    76.5625,
                    69.23076923076923,
                    70.50359712230215,
                    50,
                    31.57894736842105,
                    27.77777777777778,
                    138.0931131935148,
                    107.29991204925243,
                    138.0931131935148,
                    126.43938322252086,
                    132.54543143982718,
                    65.57012669482107,
                    65.57012669482107,
                    43.63636363636363,
                    13.559322033898304,
                    22.90748898678414,
                    33.5873388042204,
                    89.36170212765957,
                    106.4516129032258,
                    64.79834669338678,
                    62.924883420416876,
                    101.85034456563025,
                    67.66872267800467,
                    94.64849098160605,
                    78.57015298529674,
                    76.47508676980999,
                    78.88491353607633,
                    76.40226101000061,
                    68.74804675292205,
                    89.28008076219321,
                    63.173559868543435,
                    89.28008076219321,
                    -1.0649627263045793,
                    0,
                    61.833688699360344,
                    27.348993288590606,
                    87.1578947368421,
                    66.16822429906543,
                    70,
                    44.827586206896555,
                    64.59046085731536,
                    29.360967184801385,
                    42.391304347826086,
                    141.18357487922705,
                    73.15598548972189,
                    65.11627906976744,
                    -5.319148936170213,
                    20,
                    41.66666666666667,
                    79.08816003721796,
                    61.442411194833156,
                    147.82608695652172,
                    8.333333333333332,
                    147.36842105263156,
                    36.521264250119465,
                    17.24256845299676,
                    56.89931920075275,
                    59.114558396373965,
                    58.192955589586525,
                    43.994140625,
                    142.63322884012538,
                    -0.19607843137254902,
                    47.15447154471545,
                    47.104710471047106,
                    13.311688311688311,
                    27.932960893854748,
                    75.18796992481202,
                    7.766990291262135,
                    -5.248091603053435,
                    32.52032520325203,
                    -33.55555555555556,
                    46.86868686868687,
                    44.61309523809524,
                    63.69971936389148,
                    84.61538461538461,
                    105.26315789473684,
                    80,
                    75.60975609756098,
                    28.947368421052634,
                    38.63636363636363,
                    47.61904761904761,
                    31.88405797101449,
                    70.58823529411765,
                    57.14285714285714,
                    0.2353494939985879,
                    14.655172413793101,
                    116.84782608695652,
                    12.380952380952381,
                    35.39325842696629,
                    -28.57142857142857,
                    120,
                    66.66666666666666,
                    9.523809523809524,
                    -34.42622950819672,
                    138.66666666666669,
                    -2.1739130434782608,
                    64.28571428571429,
                    16.666666666666664,
                    75,
                    83.3425936215135,
                    25.206152406573484,
                    52.25578972674092,
                    45.73002754820937,
                    33.934631184140024,
                    31.03448275862069,
                    11.044776119402986,
                    34.92063492063492,
                    65.49344375431332,
                    43.18996415770609,
                    142.85714285714286,
                    80,
                    126.26262626262626,
                    60.86956521739131,
                    149.36936936936937,
                    100,
                    2.564102564102564,
                    59.171597633136095,
                    32.89473684210527,
                    39.053254437869825,
                    26.60098522167488,
                    26.609442060085836,
                    25.125628140703515,
                    33.33333333333333,
                    18.6046511627907,
                    109.24369747899159,
                    25.37313432835821,
                    45.840154784938235,
                    17.9213002566296,
                    40.85082405972672,
                    32.51088534107402,
                    0,
                    23.411371237458194,
                    7.352537722908094,
                    25.02495840266223,
                    30.05477494641581,
                    88.23529411764706,
                    0,
                    34.146341463414636,
                    17.647058823529413,
                    59.523809523809526,
                    72.41379310344827,
                    31.03448275862069,
                    79.54545454545455,
                    -15.217391304347828,
                    16,
                    77.27272727272727,
                    44.44444444444444,
                    188.88888888888889,
                    75,
                    30.434782608695656,
                    -22.58064516129032,
                    26.359832635983267,
                    27.748691099476442,
                    13.333333333333334,
                    85.48387096774194,
                    52.72727272727272,
                    -42.904761904761905,
                    108.77329192546583,
                    49.2046077893582,
                    40.2245088868101,
                    23.19961333977767,
                    55.26315789473685,
                    2.73972602739726,
                    14.388489208633093,
                    18.694049499736703,
                    26.900584795321635,
                    11.1731843575419,
                    91.81818181818183,
                    52.071005917159766,
                    333.9622641509434,
                    3.3734939759036147,
                    1.342281879194631,
                    -28.61796184271754,
                    56.58986175115207,
                    -35.217794253938834,
                    83.87445887445888,
                    30,
                    43.95516413130505,
                    -12.98932384341637,
                    123.66863905325445,
                    40.15151515151515,
                    82.76762402088774,
                    25.371113340020063,
                    66.06741573033707,
                    46.82274247491639,
                    -24.456521739130434,
                    18.803418803418804,
                    -21.410788381742737,
                    262.92134831460675,
                    14.705882352941178,
                    190.9090909090909,
                    44,
                    73.33333333333333,
                    32.71028037383177,
                    127.27272727272727,
                    100,
                    18.181818181818183,
                    3.861003861003861,
                    47.38461538461539,
                    43.76657824933687,
                    10.025062656641603,
                    16.588419405320813,
                    5.39906103286385,
                    59.73223480947477,
                    54.23122765196663,
                    152.38095238095238,
                    127.95698924731182,
                    122.27272727272727,
                    11.152416356877323,
                    10.282776349614396,
                    73.77279102384293,
                    8,
                    47.368421052631575,
                    62,
                    42.959427207637226,
                    84.03361344537815,
                    17.46724890829694,
                    -0.6791171477079796,
                    45.79630895420369,
                    57.275215834912615,
                    53.058954393770854,
                    4.601673335758457,
                    55.172413793103445,
                    27.932960893854748,
                    0,
                    181.8181818181818,
                    72.183908045977,
                    41.17647058823529,
                    64.70588235294117,
                    57.738095238095234,
                    38.23529411764706,
                    69.86301369863014,
                    112.5,
                    100,
                    85.71428571428571,
                    212.5,
                    68.9035350509287,
                    76.31578947368422,
                    58.139534883720934,
                    -12.72365805168986,
                    56.343283582089555,
                    62.5,
                    111.11111111111111,
                    82.38993710691824,
                    53.57142857142857,
                    28.28282828282828,
                    58.63636363636363,
                    15.384615384615385,
                    40,
                    50,
                    36.36363636363637,
                    65.47619047619048,
                    33.33333333333333,
                    11.985018726591761,
                    26.119402985074625,
                    30.16759776536313,
                    19.35483870967742,
                    47.46835443037975,
                    13.224181360201511,
                    31.026252983293556,
                    34.53237410071942,
                    48.61878453038674,
                    37.86008230452675,
                    35.85313174946004,
                    90.68702290076335,
                    110.92436974789916,
                    50.719424460431654,
                    19.607843137254903,
                    38.95348837209303,
                    100,
                    142.08826695371366,
                    43.998254037538196,
                    6.923076923076923,
                    75.63025210084034,
                    45.267489711934154,
                    21.428571428571427,
                    52.17391304347826,
                    40,
                    51.11111111111111,
                    22.22222222222222,
                    94.15268002165675,
                    31.642857142857146,
                    -2.877697841726619,
                    16.194331983805668,
                    51.413658112222706,
                    63.712142261739366,
                    52.94117647058824,
                    64.26735218508998,
                    52.85714285714286,
                    28.859060402684566,
                    69.33333333333334,
                    54.166666666666664,
                    21.83406113537118,
                    -25.063938618925828,
                    33.482142857142854,
                    -12.266857962697273,
                    -28.591851322373124,
                    -40.08016032064128,
                    -2.898550724637681,
                    45.94594594594595,
                    88.64628820960698,
                    29.078014184397162,
                    76.7175572519084,
                    76.25272331154684,
                    90,
                    72.72727272727273,
                    133.33333333333331,
                    65.92407365310298,
                    23.387453874538746,
                    26.146788990825687,
                    69.23076923076923,
                    72.72727272727273,
                    17.142857142857142,
                    31.818181818181817,
                    200,
                    176.9230769230769,
                    64.68060727585218,
                    58.749030757301625,
                    53.125,
                    51.61290322580645,
                    56.48535564853556,
                    125,
                    43.47826086956522,
                    44.9438202247191,
                    65.86345381526104,
                    22.22222222222222,
                    15.080728272071454,
                    22.891381164541404,
                    279.6296296296296,
                    20.642201834862387,
                    23.293172690763054,
                    35.39823008849557,
                    -0.8281573498964804,
                    27.09030100334448,
                    27.27272727272727,
                    27.27272727272727,
                    39.24050632911392,
                    49.28571428571429,
                    24.46043165467626,
                    -4.3478260869565215,
                    2.564102564102564,
                    0.6872852233676976,
                    60,
                    69.76744186046511,
                    245.00000000000003,
                    254.5232273838631,
                    22.362869198312236,
                    28.817204301075268,
                    8.256880733944955,
                    37.72455089820359,
                    32.03125,
                    7.8431372549019605,
                    81.73076923076923,
                    109.375,
                    17.77777777777778,
                    -20.080321285140563,
                    105.71428571428572,
                    21.21212121212121
                  ],
                  "yaxis": "y"
                }
              ],
              "layout": {
                "legend": {
                  "tracegroupgap": 0
                },
                "template": {
                  "data": {
                    "bar": [
                      {
                        "error_x": {
                          "color": "#2a3f5f"
                        },
                        "error_y": {
                          "color": "#2a3f5f"
                        },
                        "marker": {
                          "line": {
                            "color": "#E5ECF6",
                            "width": 0.5
                          },
                          "pattern": {
                            "fillmode": "overlay",
                            "size": 10,
                            "solidity": 0.2
                          }
                        },
                        "type": "bar"
                      }
                    ],
                    "barpolar": [
                      {
                        "marker": {
                          "line": {
                            "color": "#E5ECF6",
                            "width": 0.5
                          },
                          "pattern": {
                            "fillmode": "overlay",
                            "size": 10,
                            "solidity": 0.2
                          }
                        },
                        "type": "barpolar"
                      }
                    ],
                    "carpet": [
                      {
                        "aaxis": {
                          "endlinecolor": "#2a3f5f",
                          "gridcolor": "white",
                          "linecolor": "white",
                          "minorgridcolor": "white",
                          "startlinecolor": "#2a3f5f"
                        },
                        "baxis": {
                          "endlinecolor": "#2a3f5f",
                          "gridcolor": "white",
                          "linecolor": "white",
                          "minorgridcolor": "white",
                          "startlinecolor": "#2a3f5f"
                        },
                        "type": "carpet"
                      }
                    ],
                    "choropleth": [
                      {
                        "colorbar": {
                          "outlinewidth": 0,
                          "ticks": ""
                        },
                        "type": "choropleth"
                      }
                    ],
                    "contour": [
                      {
                        "colorbar": {
                          "outlinewidth": 0,
                          "ticks": ""
                        },
                        "colorscale": [
                          [
                            0,
                            "#0d0887"
                          ],
                          [
                            0.1111111111111111,
                            "#46039f"
                          ],
                          [
                            0.2222222222222222,
                            "#7201a8"
                          ],
                          [
                            0.3333333333333333,
                            "#9c179e"
                          ],
                          [
                            0.4444444444444444,
                            "#bd3786"
                          ],
                          [
                            0.5555555555555556,
                            "#d8576b"
                          ],
                          [
                            0.6666666666666666,
                            "#ed7953"
                          ],
                          [
                            0.7777777777777778,
                            "#fb9f3a"
                          ],
                          [
                            0.8888888888888888,
                            "#fdca26"
                          ],
                          [
                            1,
                            "#f0f921"
                          ]
                        ],
                        "type": "contour"
                      }
                    ],
                    "contourcarpet": [
                      {
                        "colorbar": {
                          "outlinewidth": 0,
                          "ticks": ""
                        },
                        "type": "contourcarpet"
                      }
                    ],
                    "heatmap": [
                      {
                        "colorbar": {
                          "outlinewidth": 0,
                          "ticks": ""
                        },
                        "colorscale": [
                          [
                            0,
                            "#0d0887"
                          ],
                          [
                            0.1111111111111111,
                            "#46039f"
                          ],
                          [
                            0.2222222222222222,
                            "#7201a8"
                          ],
                          [
                            0.3333333333333333,
                            "#9c179e"
                          ],
                          [
                            0.4444444444444444,
                            "#bd3786"
                          ],
                          [
                            0.5555555555555556,
                            "#d8576b"
                          ],
                          [
                            0.6666666666666666,
                            "#ed7953"
                          ],
                          [
                            0.7777777777777778,
                            "#fb9f3a"
                          ],
                          [
                            0.8888888888888888,
                            "#fdca26"
                          ],
                          [
                            1,
                            "#f0f921"
                          ]
                        ],
                        "type": "heatmap"
                      }
                    ],
                    "heatmapgl": [
                      {
                        "colorbar": {
                          "outlinewidth": 0,
                          "ticks": ""
                        },
                        "colorscale": [
                          [
                            0,
                            "#0d0887"
                          ],
                          [
                            0.1111111111111111,
                            "#46039f"
                          ],
                          [
                            0.2222222222222222,
                            "#7201a8"
                          ],
                          [
                            0.3333333333333333,
                            "#9c179e"
                          ],
                          [
                            0.4444444444444444,
                            "#bd3786"
                          ],
                          [
                            0.5555555555555556,
                            "#d8576b"
                          ],
                          [
                            0.6666666666666666,
                            "#ed7953"
                          ],
                          [
                            0.7777777777777778,
                            "#fb9f3a"
                          ],
                          [
                            0.8888888888888888,
                            "#fdca26"
                          ],
                          [
                            1,
                            "#f0f921"
                          ]
                        ],
                        "type": "heatmapgl"
                      }
                    ],
                    "histogram": [
                      {
                        "marker": {
                          "pattern": {
                            "fillmode": "overlay",
                            "size": 10,
                            "solidity": 0.2
                          }
                        },
                        "type": "histogram"
                      }
                    ],
                    "histogram2d": [
                      {
                        "colorbar": {
                          "outlinewidth": 0,
                          "ticks": ""
                        },
                        "colorscale": [
                          [
                            0,
                            "#0d0887"
                          ],
                          [
                            0.1111111111111111,
                            "#46039f"
                          ],
                          [
                            0.2222222222222222,
                            "#7201a8"
                          ],
                          [
                            0.3333333333333333,
                            "#9c179e"
                          ],
                          [
                            0.4444444444444444,
                            "#bd3786"
                          ],
                          [
                            0.5555555555555556,
                            "#d8576b"
                          ],
                          [
                            0.6666666666666666,
                            "#ed7953"
                          ],
                          [
                            0.7777777777777778,
                            "#fb9f3a"
                          ],
                          [
                            0.8888888888888888,
                            "#fdca26"
                          ],
                          [
                            1,
                            "#f0f921"
                          ]
                        ],
                        "type": "histogram2d"
                      }
                    ],
                    "histogram2dcontour": [
                      {
                        "colorbar": {
                          "outlinewidth": 0,
                          "ticks": ""
                        },
                        "colorscale": [
                          [
                            0,
                            "#0d0887"
                          ],
                          [
                            0.1111111111111111,
                            "#46039f"
                          ],
                          [
                            0.2222222222222222,
                            "#7201a8"
                          ],
                          [
                            0.3333333333333333,
                            "#9c179e"
                          ],
                          [
                            0.4444444444444444,
                            "#bd3786"
                          ],
                          [
                            0.5555555555555556,
                            "#d8576b"
                          ],
                          [
                            0.6666666666666666,
                            "#ed7953"
                          ],
                          [
                            0.7777777777777778,
                            "#fb9f3a"
                          ],
                          [
                            0.8888888888888888,
                            "#fdca26"
                          ],
                          [
                            1,
                            "#f0f921"
                          ]
                        ],
                        "type": "histogram2dcontour"
                      }
                    ],
                    "mesh3d": [
                      {
                        "colorbar": {
                          "outlinewidth": 0,
                          "ticks": ""
                        },
                        "type": "mesh3d"
                      }
                    ],
                    "parcoords": [
                      {
                        "line": {
                          "colorbar": {
                            "outlinewidth": 0,
                            "ticks": ""
                          }
                        },
                        "type": "parcoords"
                      }
                    ],
                    "pie": [
                      {
                        "automargin": true,
                        "type": "pie"
                      }
                    ],
                    "scatter": [
                      {
                        "fillpattern": {
                          "fillmode": "overlay",
                          "size": 10,
                          "solidity": 0.2
                        },
                        "type": "scatter"
                      }
                    ],
                    "scatter3d": [
                      {
                        "line": {
                          "colorbar": {
                            "outlinewidth": 0,
                            "ticks": ""
                          }
                        },
                        "marker": {
                          "colorbar": {
                            "outlinewidth": 0,
                            "ticks": ""
                          }
                        },
                        "type": "scatter3d"
                      }
                    ],
                    "scattercarpet": [
                      {
                        "marker": {
                          "colorbar": {
                            "outlinewidth": 0,
                            "ticks": ""
                          }
                        },
                        "type": "scattercarpet"
                      }
                    ],
                    "scattergeo": [
                      {
                        "marker": {
                          "colorbar": {
                            "outlinewidth": 0,
                            "ticks": ""
                          }
                        },
                        "type": "scattergeo"
                      }
                    ],
                    "scattergl": [
                      {
                        "marker": {
                          "colorbar": {
                            "outlinewidth": 0,
                            "ticks": ""
                          }
                        },
                        "type": "scattergl"
                      }
                    ],
                    "scattermapbox": [
                      {
                        "marker": {
                          "colorbar": {
                            "outlinewidth": 0,
                            "ticks": ""
                          }
                        },
                        "type": "scattermapbox"
                      }
                    ],
                    "scatterpolar": [
                      {
                        "marker": {
                          "colorbar": {
                            "outlinewidth": 0,
                            "ticks": ""
                          }
                        },
                        "type": "scatterpolar"
                      }
                    ],
                    "scatterpolargl": [
                      {
                        "marker": {
                          "colorbar": {
                            "outlinewidth": 0,
                            "ticks": ""
                          }
                        },
                        "type": "scatterpolargl"
                      }
                    ],
                    "scatterternary": [
                      {
                        "marker": {
                          "colorbar": {
                            "outlinewidth": 0,
                            "ticks": ""
                          }
                        },
                        "type": "scatterternary"
                      }
                    ],
                    "surface": [
                      {
                        "colorbar": {
                          "outlinewidth": 0,
                          "ticks": ""
                        },
                        "colorscale": [
                          [
                            0,
                            "#0d0887"
                          ],
                          [
                            0.1111111111111111,
                            "#46039f"
                          ],
                          [
                            0.2222222222222222,
                            "#7201a8"
                          ],
                          [
                            0.3333333333333333,
                            "#9c179e"
                          ],
                          [
                            0.4444444444444444,
                            "#bd3786"
                          ],
                          [
                            0.5555555555555556,
                            "#d8576b"
                          ],
                          [
                            0.6666666666666666,
                            "#ed7953"
                          ],
                          [
                            0.7777777777777778,
                            "#fb9f3a"
                          ],
                          [
                            0.8888888888888888,
                            "#fdca26"
                          ],
                          [
                            1,
                            "#f0f921"
                          ]
                        ],
                        "type": "surface"
                      }
                    ],
                    "table": [
                      {
                        "cells": {
                          "fill": {
                            "color": "#EBF0F8"
                          },
                          "line": {
                            "color": "white"
                          }
                        },
                        "header": {
                          "fill": {
                            "color": "#C8D4E3"
                          },
                          "line": {
                            "color": "white"
                          }
                        },
                        "type": "table"
                      }
                    ]
                  },
                  "layout": {
                    "annotationdefaults": {
                      "arrowcolor": "#2a3f5f",
                      "arrowhead": 0,
                      "arrowwidth": 1
                    },
                    "autotypenumbers": "strict",
                    "coloraxis": {
                      "colorbar": {
                        "outlinewidth": 0,
                        "ticks": ""
                      }
                    },
                    "colorscale": {
                      "diverging": [
                        [
                          0,
                          "#8e0152"
                        ],
                        [
                          0.1,
                          "#c51b7d"
                        ],
                        [
                          0.2,
                          "#de77ae"
                        ],
                        [
                          0.3,
                          "#f1b6da"
                        ],
                        [
                          0.4,
                          "#fde0ef"
                        ],
                        [
                          0.5,
                          "#f7f7f7"
                        ],
                        [
                          0.6,
                          "#e6f5d0"
                        ],
                        [
                          0.7,
                          "#b8e186"
                        ],
                        [
                          0.8,
                          "#7fbc41"
                        ],
                        [
                          0.9,
                          "#4d9221"
                        ],
                        [
                          1,
                          "#276419"
                        ]
                      ],
                      "sequential": [
                        [
                          0,
                          "#0d0887"
                        ],
                        [
                          0.1111111111111111,
                          "#46039f"
                        ],
                        [
                          0.2222222222222222,
                          "#7201a8"
                        ],
                        [
                          0.3333333333333333,
                          "#9c179e"
                        ],
                        [
                          0.4444444444444444,
                          "#bd3786"
                        ],
                        [
                          0.5555555555555556,
                          "#d8576b"
                        ],
                        [
                          0.6666666666666666,
                          "#ed7953"
                        ],
                        [
                          0.7777777777777778,
                          "#fb9f3a"
                        ],
                        [
                          0.8888888888888888,
                          "#fdca26"
                        ],
                        [
                          1,
                          "#f0f921"
                        ]
                      ],
                      "sequentialminus": [
                        [
                          0,
                          "#0d0887"
                        ],
                        [
                          0.1111111111111111,
                          "#46039f"
                        ],
                        [
                          0.2222222222222222,
                          "#7201a8"
                        ],
                        [
                          0.3333333333333333,
                          "#9c179e"
                        ],
                        [
                          0.4444444444444444,
                          "#bd3786"
                        ],
                        [
                          0.5555555555555556,
                          "#d8576b"
                        ],
                        [
                          0.6666666666666666,
                          "#ed7953"
                        ],
                        [
                          0.7777777777777778,
                          "#fb9f3a"
                        ],
                        [
                          0.8888888888888888,
                          "#fdca26"
                        ],
                        [
                          1,
                          "#f0f921"
                        ]
                      ]
                    },
                    "colorway": [
                      "#636efa",
                      "#EF553B",
                      "#00cc96",
                      "#ab63fa",
                      "#FFA15A",
                      "#19d3f3",
                      "#FF6692",
                      "#B6E880",
                      "#FF97FF",
                      "#FECB52"
                    ],
                    "font": {
                      "color": "#2a3f5f"
                    },
                    "geo": {
                      "bgcolor": "white",
                      "lakecolor": "white",
                      "landcolor": "#E5ECF6",
                      "showlakes": true,
                      "showland": true,
                      "subunitcolor": "white"
                    },
                    "hoverlabel": {
                      "align": "left"
                    },
                    "hovermode": "closest",
                    "mapbox": {
                      "style": "light"
                    },
                    "paper_bgcolor": "white",
                    "plot_bgcolor": "#E5ECF6",
                    "polar": {
                      "angularaxis": {
                        "gridcolor": "white",
                        "linecolor": "white",
                        "ticks": ""
                      },
                      "bgcolor": "#E5ECF6",
                      "radialaxis": {
                        "gridcolor": "white",
                        "linecolor": "white",
                        "ticks": ""
                      }
                    },
                    "scene": {
                      "xaxis": {
                        "backgroundcolor": "#E5ECF6",
                        "gridcolor": "white",
                        "gridwidth": 2,
                        "linecolor": "white",
                        "showbackground": true,
                        "ticks": "",
                        "zerolinecolor": "white"
                      },
                      "yaxis": {
                        "backgroundcolor": "#E5ECF6",
                        "gridcolor": "white",
                        "gridwidth": 2,
                        "linecolor": "white",
                        "showbackground": true,
                        "ticks": "",
                        "zerolinecolor": "white"
                      },
                      "zaxis": {
                        "backgroundcolor": "#E5ECF6",
                        "gridcolor": "white",
                        "gridwidth": 2,
                        "linecolor": "white",
                        "showbackground": true,
                        "ticks": "",
                        "zerolinecolor": "white"
                      }
                    },
                    "shapedefaults": {
                      "line": {
                        "color": "#2a3f5f"
                      }
                    },
                    "ternary": {
                      "aaxis": {
                        "gridcolor": "white",
                        "linecolor": "white",
                        "ticks": ""
                      },
                      "baxis": {
                        "gridcolor": "white",
                        "linecolor": "white",
                        "ticks": ""
                      },
                      "bgcolor": "#E5ECF6",
                      "caxis": {
                        "gridcolor": "white",
                        "linecolor": "white",
                        "ticks": ""
                      }
                    },
                    "title": {
                      "x": 0.05
                    },
                    "xaxis": {
                      "automargin": true,
                      "gridcolor": "white",
                      "linecolor": "white",
                      "ticks": "",
                      "title": {
                        "standoff": 15
                      },
                      "zerolinecolor": "white",
                      "zerolinewidth": 2
                    },
                    "yaxis": {
                      "automargin": true,
                      "gridcolor": "white",
                      "linecolor": "white",
                      "ticks": "",
                      "title": {
                        "standoff": 15
                      },
                      "zerolinecolor": "white",
                      "zerolinewidth": 2
                    }
                  }
                },
                "title": {
                  "text": "Current Price vs Price Increase Percentage"
                },
                "xaxis": {
                  "anchor": "y",
                  "domain": [
                    0,
                    1
                  ],
                  "title": {
                    "text": "Current Price"
                  }
                },
                "yaxis": {
                  "anchor": "x",
                  "domain": [
                    0,
                    1
                  ],
                  "title": {
                    "text": "Price Increase Percentage"
                  }
                }
              }
            }
          },
          "metadata": {},
          "output_type": "display_data"
        }
      ],
      "source": [
        "fig = px.scatter(df, x=\"Current Price\", y=\"Price Increase Percentage\", title=\"Current Price vs Price Increase Percentage\")\n",
        "fig.show()"
      ]
    },
    {
      "attachments": {},
      "cell_type": "markdown",
      "metadata": {
        "id": "oPITqWAoMfff"
      },
      "source": [
        "### **Creating a new column named \"Price Increase Status\"**\n",
        "* If the price increase percentage is below 0, it will be \"***Decreased***\"<br>\n",
        "* If the price increase percentage is between 0 and 5, it will be \"***Stable***\"<br>\n",
        "* If the price increase percentage is between 5 and 30, it will be \"***Increased***\"<br>\n",
        "* If the price increase percentage is between 30 and 50, it will be \"***Highly Increased***\"<br>\n",
        "* If the price increase percentage is above 50, it will be \"***Extremely Increased***\"<br>\n",
        "\n",
        "\n",
        "---\n",
        "\n"
      ]
    },
    {
      "cell_type": "code",
      "execution_count": 154,
      "metadata": {
        "id": "sq-fQPV9FEww",
        "outputId": "4a18992c-8a24-4238-a135-f3364efa3f1f"
      },
      "outputs": [
        {
          "data": {
            "text/html": [
              "<div>\n",
              "<style scoped>\n",
              "    .dataframe tbody tr th:only-of-type {\n",
              "        vertical-align: middle;\n",
              "    }\n",
              "\n",
              "    .dataframe tbody tr th {\n",
              "        vertical-align: top;\n",
              "    }\n",
              "\n",
              "    .dataframe thead th {\n",
              "        text-align: right;\n",
              "    }\n",
              "</style>\n",
              "<table border=\"1\" class=\"dataframe\">\n",
              "  <thead>\n",
              "    <tr style=\"text-align: right;\">\n",
              "      <th></th>\n",
              "      <th>Product Name</th>\n",
              "      <th>Current Date</th>\n",
              "      <th>Current Price</th>\n",
              "      <th>Old Date</th>\n",
              "      <th>Old Price</th>\n",
              "      <th>Category</th>\n",
              "      <th>Days Passed</th>\n",
              "      <th>Price Increase Percentage</th>\n",
              "      <th>Price Increase Status</th>\n",
              "    </tr>\n",
              "  </thead>\n",
              "  <tbody>\n",
              "    <tr>\n",
              "      <th>0</th>\n",
              "      <td>SteelSeries Rival 3 RGB Kablolu Optik Oyuncu M...</td>\n",
              "      <td>2023-06-10</td>\n",
              "      <td>600</td>\n",
              "      <td>2022-06-10</td>\n",
              "      <td>289</td>\n",
              "      <td>mouse</td>\n",
              "      <td>365</td>\n",
              "      <td>107.612457</td>\n",
              "      <td>Extremely Increased</td>\n",
              "    </tr>\n",
              "    <tr>\n",
              "      <th>1</th>\n",
              "      <td>SteelSeries Rival 5 RGB Kablolu Optik Oyuncu M...</td>\n",
              "      <td>2023-06-10</td>\n",
              "      <td>1199</td>\n",
              "      <td>2022-06-10</td>\n",
              "      <td>629</td>\n",
              "      <td>mouse</td>\n",
              "      <td>365</td>\n",
              "      <td>90.620032</td>\n",
              "      <td>Extremely Increased</td>\n",
              "    </tr>\n",
              "    <tr>\n",
              "      <th>2</th>\n",
              "      <td>Xiaomi Mi Band 6</td>\n",
              "      <td>2023-06-10</td>\n",
              "      <td>838</td>\n",
              "      <td>2022-06-10</td>\n",
              "      <td>449</td>\n",
              "      <td>akilli-bileklik</td>\n",
              "      <td>365</td>\n",
              "      <td>86.636971</td>\n",
              "      <td>Extremely Increased</td>\n",
              "    </tr>\n",
              "    <tr>\n",
              "      <th>3</th>\n",
              "      <td>Pro Plan Sterilised Somonlu ve Ton Balıklı 10 ...</td>\n",
              "      <td>2023-06-10</td>\n",
              "      <td>1619</td>\n",
              "      <td>2022-06-10</td>\n",
              "      <td>760</td>\n",
              "      <td>kedi-mamasi</td>\n",
              "      <td>365</td>\n",
              "      <td>113.026316</td>\n",
              "      <td>Extremely Increased</td>\n",
              "    </tr>\n",
              "    <tr>\n",
              "      <th>4</th>\n",
              "      <td>Nutella 750 gr Kakaolu Fındık Kreması</td>\n",
              "      <td>2023-06-10</td>\n",
              "      <td>95</td>\n",
              "      <td>2022-06-11</td>\n",
              "      <td>44</td>\n",
              "      <td>ezme-krem-cikolata</td>\n",
              "      <td>364</td>\n",
              "      <td>115.909091</td>\n",
              "      <td>Extremely Increased</td>\n",
              "    </tr>\n",
              "  </tbody>\n",
              "</table>\n",
              "</div>"
            ],
            "text/plain": [
              "                                        Product Name Current Date   \n",
              "0  SteelSeries Rival 3 RGB Kablolu Optik Oyuncu M...   2023-06-10  \\\n",
              "1  SteelSeries Rival 5 RGB Kablolu Optik Oyuncu M...   2023-06-10   \n",
              "2                                   Xiaomi Mi Band 6   2023-06-10   \n",
              "3  Pro Plan Sterilised Somonlu ve Ton Balıklı 10 ...   2023-06-10   \n",
              "4              Nutella 750 gr Kakaolu Fındık Kreması   2023-06-10   \n",
              "\n",
              "   Current Price   Old Date  Old Price            Category  Days Passed   \n",
              "0            600 2022-06-10        289               mouse          365  \\\n",
              "1           1199 2022-06-10        629               mouse          365   \n",
              "2            838 2022-06-10        449     akilli-bileklik          365   \n",
              "3           1619 2022-06-10        760         kedi-mamasi          365   \n",
              "4             95 2022-06-11         44  ezme-krem-cikolata          364   \n",
              "\n",
              "   Price Increase Percentage Price Increase Status  \n",
              "0                 107.612457   Extremely Increased  \n",
              "1                  90.620032   Extremely Increased  \n",
              "2                  86.636971   Extremely Increased  \n",
              "3                 113.026316   Extremely Increased  \n",
              "4                 115.909091   Extremely Increased  "
            ]
          },
          "execution_count": 154,
          "metadata": {},
          "output_type": "execute_result"
        }
      ],
      "source": [
        "def priceIncreaseStatus(priceIncreasePercentage):\n",
        "    if priceIncreasePercentage < 0:\n",
        "        return \"Decreased\"\n",
        "    elif priceIncreasePercentage >= 0 and priceIncreasePercentage < 5:\n",
        "        return \"Stable\"\n",
        "    elif priceIncreasePercentage >= 5 and priceIncreasePercentage < 30:\n",
        "        return \"Increased\"\n",
        "    elif priceIncreasePercentage >= 30 and priceIncreasePercentage < 50:\n",
        "        return \"Highly Increased\"\n",
        "    else:\n",
        "        return \"Extremely Increased\"\n",
        "    \n",
        "\n",
        "df['Price Increase Status'] = df['Price Increase Percentage'].apply(priceIncreaseStatus)\n",
        "\n",
        "df.head()"
      ]
    },
    {
      "attachments": {},
      "cell_type": "markdown",
      "metadata": {
        "id": "NPFC7EgxM94T"
      },
      "source": [
        "### **Visualizing the \"Price Increase Status\" column with a bar plot**\n",
        "\n",
        "\n",
        "---\n",
        "\n",
        "\n",
        "\n",
        "\n"
      ]
    },
    {
      "cell_type": "code",
      "execution_count": 155,
      "metadata": {
        "id": "jcG6qDL4FEww",
        "outputId": "8a3f04d1-b66d-498b-ef19-5c47d7e92c40"
      },
      "outputs": [
        {
          "data": {
            "image/png": "[encoded data removed]",
            "text/plain": [
              "<Figure size 1000x500 with 1 Axes>"
            ]
          },
          "metadata": {},
          "output_type": "display_data"
        }
      ],
      "source": [
        "plt.figure(figsize=(10, 5))\n",
        "sns.countplot(data=df, x='Price Increase Status', hue='Price Increase Status', order = ['Decreased', 'Stable', 'Increased', 'Highly Increased', 'Extremely Increased'])\n",
        "plt.title(\"Price Increase Status\")\n",
        "plt.xlabel(\"Price Increase Status\")\n",
        "plt.ylabel(\"Frequency\")\n",
        "plt.show()"
      ]
    },
    {
      "attachments": {},
      "cell_type": "markdown",
      "metadata": {
        "id": "9sbbSGrfNB8m"
      },
      "source": [
        "### **Dropping negative price increase percentage values**\n",
        "\n",
        "\n",
        "---\n",
        "\n"
      ]
    },
    {
      "cell_type": "code",
      "execution_count": 156,
      "metadata": {
        "id": "t-KpRA4JFEww",
        "outputId": "4400aae9-516e-42af-a68c-226bef052a58"
      },
      "outputs": [
        {
          "data": {
            "image/png": "[encoded data removed]",
            "text/plain": [
              "<Figure size 1000x500 with 1 Axes>"
            ]
          },
          "metadata": {},
          "output_type": "display_data"
        }
      ],
      "source": [
        "## Check if there is negative price increase percentage\n",
        "## if there is any, drop it since it is impossible to have negative price increase percentage in Turkey's circumstances\n",
        "df = df.drop(df[df['Price Increase Percentage'] < 0].index)\n",
        "\n",
        "# Visualizing the \"Price Increase Status\" after dropping the negative price increase percentage\n",
        "plt.figure(figsize=(10, 5))\n",
        "sns.countplot(data=df, x='Price Increase Status', hue='Price Increase Status', order = ['Decreased', 'Stable', 'Increased', 'Highly Increased', 'Extremely Increased'])\n",
        "plt.title(\"Price Increase Status\")\n",
        "plt.xlabel(\"Price Increase Status\")\n",
        "plt.ylabel(\"Frequency\")\n",
        "plt.show()"
      ]
    },
    {
      "attachments": {},
      "cell_type": "markdown",
      "metadata": {
        "id": "shQqi97mNJRS"
      },
      "source": [
        "### **Clustering the products according to their categories**\n",
        "\n",
        "\n",
        "---\n",
        "\n"
      ]
    },
    {
      "cell_type": "code",
      "execution_count": 157,
      "metadata": {
        "id": "LzIRDP1JFEwx"
      },
      "outputs": [
        {
          "data": {
            "application/vnd.plotly.v1+json": {
              "config": {
                "plotlyServerURL": "https://plot.ly"
              },
              "data": [
                {
                  "alignmentgroup": "True",
                  "hovertemplate": "Category=%{x}<br>Price Increase Percentage=%{marker.color}<extra></extra>",
                  "legendgroup": "",
                  "marker": {
                    "color": [
                      279.6296296296296,
                      188.46153846153845,
                      167.23420035402668,
                      149.10714285714286,
                      141.43004115226339,
                      140.86238355901278,
                      123.94599078521306,
                      123.66863905325445,
                      116.77879628850951,
                      113.33252334035578,
                      112.5,
                      112.16718694979564,
                      108.77329192546583,
                      107.78839956349992,
                      105.71428571428572,
                      105.26315789473684,
                      100,
                      100,
                      98.68686868686869,
                      97.00085689802913,
                      96.38715463784845,
                      94.15268002165675,
                      93.33333333333333,
                      93.19170189364965,
                      92.33091787439614,
                      90.68702290076335,
                      90.12509277179304,
                      88.64628820960698,
                      87.38445576306356,
                      85.35057647171834,
                      84.23913043478261,
                      83.26659660154297,
                      83.20499108734403,
                      79.84234234234235,
                      79.84126984126983,
                      77.77211365996412,
                      77.45231510185067,
                      76.48514028172762,
                      76.35392829900839,
                      75.87295797822114,
                      75.18796992481202,
                      73.07209663074836,
                      73.0281758798869,
                      72.64918884021014,
                      72.183908045977,
                      70.97902097902099,
                      70.86933928302886,
                      70.54718791089113,
                      70.50359712230215,
                      69.86301369863014,
                      69.76744186046511,
                      69.33333333333334,
                      69.30434517060962,
                      69.23076923076923,
                      68.9035350509287,
                      68.77667035806572,
                      67.93397388415507,
                      67.38274041891724,
                      65.47475235564147,
                      64.12017617449665,
                      63.73907306613888,
                      63.27030495824723,
                      62.59780907668232,
                      61.714819016576904,
                      61.58777120315582,
                      61.45139162512006,
                      60.82251082251082,
                      60,
                      59.99979689349995,
                      58.64661654135338,
                      58.63636363636363,
                      58.447068459485415,
                      57.937056606258125,
                      57.738095238095234,
                      57.56290018698104,
                      57.275177635863486,
                      56.67389019007995,
                      56.64274329105284,
                      56.445079102626735,
                      55.980799477151706,
                      55.928787808854345,
                      55.01486915545612,
                      54.78260869565217,
                      54.166666666666664,
                      54.156407300993365,
                      53.60151191827597,
                      53.190279007566645,
                      52.94117647058824,
                      52.60987433525464,
                      52.17391304347826,
                      51.9951127615298,
                      51.52295802394302,
                      51.18926881097266,
                      51.11111111111111,
                      50.714587936627325,
                      50.0225456036073,
                      50,
                      49.44012751544132,
                      49.43008417080765,
                      49.404761904761905,
                      49.28571428571429,
                      46.86868686868687,
                      46.06025220396714,
                      45.94594594594595,
                      45.9057239057239,
                      45.64473994674217,
                      45.43343865662842,
                      45.267489711934154,
                      45.122807017543856,
                      44.81930232716707,
                      43.998254037538196,
                      43.63636363636363,
                      42.95900178253119,
                      42.81319539317967,
                      42.121212121212125,
                      41.80327868852459,
                      41.359525992006375,
                      41.27666451195863,
                      40.92712842712842,
                      40.45533606989454,
                      40.2245088868101,
                      40,
                      39.52857142857143,
                      39.24050632911392,
                      38.95348837209303,
                      38.23529411764706,
                      37.14650011769552,
                      36.40300704726691,
                      36.20211056456793,
                      35.57326172156566,
                      35.41473358078477,
                      34.91561181434599,
                      34.89911609452347,
                      34.729663007415404,
                      33.65781774517586,
                      33.482142857142854,
                      33.25128536144314,
                      32.89473684210527,
                      32.77931354200649,
                      32.03125,
                      31.735994576778214,
                      31.670732498318703,
                      31.642857142857146,
                      30.979161731009302,
                      30.46371188857283,
                      30.255847953216374,
                      29.75304434285182,
                      29.345701389629312,
                      29.078014184397162,
                      28.96607181517335,
                      28.817204301075268,
                      28.28054298642534,
                      27.27272727272727,
                      27.09030100334448,
                      27.054261867729856,
                      26.550598476605003,
                      26.543938251764956,
                      26.119402985074625,
                      24.761218237520275,
                      24.48051948051948,
                      24.46043165467626,
                      24.130457710255737,
                      24.01964382646191,
                      22.891381164541404,
                      22.22222222222222,
                      21.428571428571427,
                      20.81075702399538,
                      20.642201834862387,
                      20.622324602771528,
                      20.398962091868338,
                      19.607843137254903,
                      19.447186574531095,
                      19.230769230769234,
                      18.23340551034122,
                      17.77777777777778,
                      16.572125093173177,
                      16.194331983805668,
                      15.080728272071454,
                      13.224181360201511,
                      8.256880733944955,
                      7.8431372549019605,
                      2.564102564102564,
                      0.6872852233676976
                    ],
                    "coloraxis": "coloraxis",
                    "pattern": {
                      "shape": ""
                    }
                  },
                  "name": "",
                  "offsetgroup": "",
                  "orientation": "v",
                  "showlegend": false,
                  "textposition": "auto",
                  "type": "bar",
                  "x": [
                    "tonerler",
                    "banyo-bakim-aksesuarlari",
                    "mouse",
                    "not-defteri-bloknot",
                    "dizustu-bilgisayar-aksesuarlari",
                    "bilgisayar-oyunlari",
                    "turk-kahve-makinesi",
                    "flash-bellekler",
                    "ezme-krem-cikolata",
                    "oyuncu-mouse",
                    "dudak-bakimi-koruyucu",
                    "isiticilar",
                    "mini-midi-firinlar",
                    "akilli-bileklik",
                    "bitkisel-besin-destekleri",
                    "dis-macunlari",
                    "yara-bandi",
                    "mouse-pad",
                    "yazi-tahtasi-kalemi",
                    "anakart",
                    "sivi-deterjan",
                    "klasik-gitarlar",
                    "spiralli-defter",
                    "tasinabilir-sarj-cihazi-powerbank",
                    "kursun-kalem-ucu-min",
                    "oyuncu-klavyesi",
                    "kulaklik",
                    "tavla",
                    "kahvaltilik-gevrek",
                    "calisma-koltugu",
                    "erkek-cuzdan",
                    "akim-korumali-priz",
                    "kalemlik-kalem-kutusu",
                    "suluk-matara",
                    "silgi",
                    "tukenmez-kalem",
                    "cep-telefonlari",
                    "cay-makineleri",
                    "dis-macunu",
                    "klavye",
                    "tencere-tava-setleri",
                    "kedi-mamasi",
                    "baskul",
                    "bluetooth-kulaklik",
                    "oyuncu-kulakliklari",
                    "tirnak-makasi",
                    "oyun-kolu",
                    "cep-telefonu",
                    "tiras-bicagi",
                    "dermokozmetik-urunler",
                    "bilgisayar-cevirici-ve-adaptoru",
                    "sicak-su-torbasi",
                    "sanal-gerceklik-gozlugu",
                    "vazelin",
                    "cep-telefonu-kalemi",
                    "mekanik-kursun-versatil-kalem",
                    "fotograf-makinesi",
                    "yetiskinler-icin-oyunlar",
                    "epilasyon-aleti",
                    "gunes-kremi",
                    "tiras-makinesi",
                    "buzdolabi",
                    "tv-box",
                    "bulasik-makineleri",
                    "dis-fircalari",
                    "laptop-notebook",
                    "fosforlu-kalem",
                    "ezme-perle-kedi-mamasi",
                    "klavye-mouse",
                    "bilgisayar-kasasi",
                    "harita-kure",
                    "kopek-mamasi",
                    "kettle",
                    "termoslar",
                    "buzdolaplari",
                    "kagit-havlu",
                    "suluk",
                    "bulasik-makinesi-tableti",
                    "tiras-makineleri",
                    "xbox-series",
                    "robot-supurge",
                    "sampuan-ve-sac-kremi",
                    "terlik",
                    "kamp-aksesuari",
                    "dizustu-bilgisayar",
                    "tablet-pc",
                    "spor-ayakkabi",
                    "ocaklar",
                    "tasinabilir-hard-diskler",
                    "alarmli-saatler-radyolar",
                    "kutu-oyunu",
                    "nintendo-switch",
                    "hijyenik-pedler-ve-tamponlar",
                    "tiras-bicagi-ve-yedekleri",
                    "bayan-cuzdan",
                    "sprey-deodorantlar",
                    "makarna",
                    "ocak",
                    "dijital-fotograf-makineleri",
                    "rimeller-maskaralar",
                    "stor-perde",
                    "kadin-terlikleri-ve-sandaletleri",
                    "sabunlar",
                    "satranc",
                    "dus-jelleri-ve-banyo-kopukleri",
                    "kupa",
                    "tablet",
                    "unisex-gunes-gozlukleri",
                    "cok-satan-kitaplar",
                    "toplar",
                    "konsol-aksesuarlari",
                    "camasir-askisi",
                    "gunes-kremleri-ve-losyonlari",
                    "tuvalet-kagidi",
                    "oje",
                    "kedi-kumu",
                    "tost-makineleri",
                    "playstation-4-ps4-oyunlari",
                    "puzzle-aksesuarlari",
                    "direksiyon-seti",
                    "ankastre-mikrodalga-firinlar",
                    "tiras-jelleri-kopukleri-kremleri",
                    "espresso-makinesi",
                    "fon-perde",
                    "oyuncu-mouse-pad",
                    "makyaj-temizleyicileri",
                    "cep-telefonu-sarj-cihazi",
                    "oyuncu-koltugu",
                    "mikrodalga-firinlar",
                    "ps5",
                    "kahve-makineleri",
                    "erkek-t-shirt",
                    "su-isiticilari-kettle",
                    "masa-lambasi",
                    "akilli-saat",
                    "waffle-makinesi",
                    "bluetooth-hoparlor",
                    "hesap-makinesi",
                    "sirt-cantasi-outdoor",
                    "kamp-sandalyesi",
                    "erkek-terlikleri-ve-sandaletleri",
                    "utuler",
                    "elektro-gitarlar",
                    "fritoz",
                    "oyun-konsollari",
                    "sut",
                    "termos",
                    "kilim",
                    "tripodlar",
                    "cep-telefonu-kilifi",
                    "cakmak",
                    "el-bakimi",
                    "mutfak-havlusu",
                    "nevresim-takimi",
                    "sac-kurutma-makineleri",
                    "erkek-bakim-seti",
                    "monitor",
                    "pratik-mutfak-gerecleri",
                    "matara",
                    "cimbizlar",
                    "dus-banyo-perdesi",
                    "defter",
                    "vantilatorler",
                    "studyo-ve-sahne-ekipmanlari",
                    "agda-urunleri-ve-makineleri",
                    "toka-tac-sac-bandi",
                    "sehir-gezi-bisikletleri",
                    "kartuslar",
                    "baskul-tartilar",
                    "islemci",
                    "mat",
                    "ram",
                    "sarjli-supurge",
                    "tost-makinesi",
                    "anahtarlik",
                    "gunes-gozlugu",
                    "tenis-badminton",
                    "kemanlar",
                    "bayan-sweatshirt",
                    "masa-saati",
                    "unisex-bel-cantasi",
                    "el-yuz-havlusu",
                    "yorgan"
                  ],
                  "xaxis": "x",
                  "y": [
                    279.6296296296296,
                    188.46153846153845,
                    167.23420035402668,
                    149.10714285714286,
                    141.43004115226339,
                    140.86238355901278,
                    123.94599078521306,
                    123.66863905325445,
                    116.77879628850951,
                    113.33252334035578,
                    112.5,
                    112.16718694979564,
                    108.77329192546583,
                    107.78839956349992,
                    105.71428571428572,
                    105.26315789473684,
                    100,
                    100,
                    98.68686868686869,
                    97.00085689802913,
                    96.38715463784845,
                    94.15268002165675,
                    93.33333333333333,
                    93.19170189364965,
                    92.33091787439614,
                    90.68702290076335,
                    90.12509277179304,
                    88.64628820960698,
                    87.38445576306356,
                    85.35057647171834,
                    84.23913043478261,
                    83.26659660154297,
                    83.20499108734403,
                    79.84234234234235,
                    79.84126984126983,
                    77.77211365996412,
                    77.45231510185067,
                    76.48514028172762,
                    76.35392829900839,
                    75.87295797822114,
                    75.18796992481202,
                    73.07209663074836,
                    73.0281758798869,
                    72.64918884021014,
                    72.183908045977,
                    70.97902097902099,
                    70.86933928302886,
                    70.54718791089113,
                    70.50359712230215,
                    69.86301369863014,
                    69.76744186046511,
                    69.33333333333334,
                    69.30434517060962,
                    69.23076923076923,
                    68.9035350509287,
                    68.77667035806572,
                    67.93397388415507,
                    67.38274041891724,
                    65.47475235564147,
                    64.12017617449665,
                    63.73907306613888,
                    63.27030495824723,
                    62.59780907668232,
                    61.714819016576904,
                    61.58777120315582,
                    61.45139162512006,
                    60.82251082251082,
                    60,
                    59.99979689349995,
                    58.64661654135338,
                    58.63636363636363,
                    58.447068459485415,
                    57.937056606258125,
                    57.738095238095234,
                    57.56290018698104,
                    57.275177635863486,
                    56.67389019007995,
                    56.64274329105284,
                    56.445079102626735,
                    55.980799477151706,
                    55.928787808854345,
                    55.01486915545612,
                    54.78260869565217,
                    54.166666666666664,
                    54.156407300993365,
                    53.60151191827597,
                    53.190279007566645,
                    52.94117647058824,
                    52.60987433525464,
                    52.17391304347826,
                    51.9951127615298,
                    51.52295802394302,
                    51.18926881097266,
                    51.11111111111111,
                    50.714587936627325,
                    50.0225456036073,
                    50,
                    49.44012751544132,
                    49.43008417080765,
                    49.404761904761905,
                    49.28571428571429,
                    46.86868686868687,
                    46.06025220396714,
                    45.94594594594595,
                    45.9057239057239,
                    45.64473994674217,
                    45.43343865662842,
                    45.267489711934154,
                    45.122807017543856,
                    44.81930232716707,
                    43.998254037538196,
                    43.63636363636363,
                    42.95900178253119,
                    42.81319539317967,
                    42.121212121212125,
                    41.80327868852459,
                    41.359525992006375,
                    41.27666451195863,
                    40.92712842712842,
                    40.45533606989454,
                    40.2245088868101,
                    40,
                    39.52857142857143,
                    39.24050632911392,
                    38.95348837209303,
                    38.23529411764706,
                    37.14650011769552,
                    36.40300704726691,
                    36.20211056456793,
                    35.57326172156566,
                    35.41473358078477,
                    34.91561181434599,
                    34.89911609452347,
                    34.729663007415404,
                    33.65781774517586,
                    33.482142857142854,
                    33.25128536144314,
                    32.89473684210527,
                    32.77931354200649,
                    32.03125,
                    31.735994576778214,
                    31.670732498318703,
                    31.642857142857146,
                    30.979161731009302,
                    30.46371188857283,
                    30.255847953216374,
                    29.75304434285182,
                    29.345701389629312,
                    29.078014184397162,
                    28.96607181517335,
                    28.817204301075268,
                    28.28054298642534,
                    27.27272727272727,
                    27.09030100334448,
                    27.054261867729856,
                    26.550598476605003,
                    26.543938251764956,
                    26.119402985074625,
                    24.761218237520275,
                    24.48051948051948,
                    24.46043165467626,
                    24.130457710255737,
                    24.01964382646191,
                    22.891381164541404,
                    22.22222222222222,
                    21.428571428571427,
                    20.81075702399538,
                    20.642201834862387,
                    20.622324602771528,
                    20.398962091868338,
                    19.607843137254903,
                    19.447186574531095,
                    19.230769230769234,
                    18.23340551034122,
                    17.77777777777778,
                    16.572125093173177,
                    16.194331983805668,
                    15.080728272071454,
                    13.224181360201511,
                    8.256880733944955,
                    7.8431372549019605,
                    2.564102564102564,
                    0.6872852233676976
                  ],
                  "yaxis": "y"
                }
              ],
              "layout": {
                "barmode": "relative",
                "coloraxis": {
                  "colorbar": {
                    "title": {
                      "text": "Price Increase Percentage"
                    }
                  },
                  "colorscale": [
                    [
                      0,
                      "rgb(0,0,255)"
                    ],
                    [
                      1,
                      "rgb(255,0,0)"
                    ]
                  ]
                },
                "legend": {
                  "tracegroupgap": 0
                },
                "template": {
                  "data": {
                    "bar": [
                      {
                        "error_x": {
                          "color": "#2a3f5f"
                        },
                        "error_y": {
                          "color": "#2a3f5f"
                        },
                        "marker": {
                          "line": {
                            "color": "#E5ECF6",
                            "width": 0.5
                          },
                          "pattern": {
                            "fillmode": "overlay",
                            "size": 10,
                            "solidity": 0.2
                          }
                        },
                        "type": "bar"
                      }
                    ],
                    "barpolar": [
                      {
                        "marker": {
                          "line": {
                            "color": "#E5ECF6",
                            "width": 0.5
                          },
                          "pattern": {
                            "fillmode": "overlay",
                            "size": 10,
                            "solidity": 0.2
                          }
                        },
                        "type": "barpolar"
                      }
                    ],
                    "carpet": [
                      {
                        "aaxis": {
                          "endlinecolor": "#2a3f5f",
                          "gridcolor": "white",
                          "linecolor": "white",
                          "minorgridcolor": "white",
                          "startlinecolor": "#2a3f5f"
                        },
                        "baxis": {
                          "endlinecolor": "#2a3f5f",
                          "gridcolor": "white",
                          "linecolor": "white",
                          "minorgridcolor": "white",
                          "startlinecolor": "#2a3f5f"
                        },
                        "type": "carpet"
                      }
                    ],
                    "choropleth": [
                      {
                        "colorbar": {
                          "outlinewidth": 0,
                          "ticks": ""
                        },
                        "type": "choropleth"
                      }
                    ],
                    "contour": [
                      {
                        "colorbar": {
                          "outlinewidth": 0,
                          "ticks": ""
                        },
                        "colorscale": [
                          [
                            0,
                            "#0d0887"
                          ],
                          [
                            0.1111111111111111,
                            "#46039f"
                          ],
                          [
                            0.2222222222222222,
                            "#7201a8"
                          ],
                          [
                            0.3333333333333333,
                            "#9c179e"
                          ],
                          [
                            0.4444444444444444,
                            "#bd3786"
                          ],
                          [
                            0.5555555555555556,
                            "#d8576b"
                          ],
                          [
                            0.6666666666666666,
                            "#ed7953"
                          ],
                          [
                            0.7777777777777778,
                            "#fb9f3a"
                          ],
                          [
                            0.8888888888888888,
                            "#fdca26"
                          ],
                          [
                            1,
                            "#f0f921"
                          ]
                        ],
                        "type": "contour"
                      }
                    ],
                    "contourcarpet": [
                      {
                        "colorbar": {
                          "outlinewidth": 0,
                          "ticks": ""
                        },
                        "type": "contourcarpet"
                      }
                    ],
                    "heatmap": [
                      {
                        "colorbar": {
                          "outlinewidth": 0,
                          "ticks": ""
                        },
                        "colorscale": [
                          [
                            0,
                            "#0d0887"
                          ],
                          [
                            0.1111111111111111,
                            "#46039f"
                          ],
                          [
                            0.2222222222222222,
                            "#7201a8"
                          ],
                          [
                            0.3333333333333333,
                            "#9c179e"
                          ],
                          [
                            0.4444444444444444,
                            "#bd3786"
                          ],
                          [
                            0.5555555555555556,
                            "#d8576b"
                          ],
                          [
                            0.6666666666666666,
                            "#ed7953"
                          ],
                          [
                            0.7777777777777778,
                            "#fb9f3a"
                          ],
                          [
                            0.8888888888888888,
                            "#fdca26"
                          ],
                          [
                            1,
                            "#f0f921"
                          ]
                        ],
                        "type": "heatmap"
                      }
                    ],
                    "heatmapgl": [
                      {
                        "colorbar": {
                          "outlinewidth": 0,
                          "ticks": ""
                        },
                        "colorscale": [
                          [
                            0,
                            "#0d0887"
                          ],
                          [
                            0.1111111111111111,
                            "#46039f"
                          ],
                          [
                            0.2222222222222222,
                            "#7201a8"
                          ],
                          [
                            0.3333333333333333,
                            "#9c179e"
                          ],
                          [
                            0.4444444444444444,
                            "#bd3786"
                          ],
                          [
                            0.5555555555555556,
                            "#d8576b"
                          ],
                          [
                            0.6666666666666666,
                            "#ed7953"
                          ],
                          [
                            0.7777777777777778,
                            "#fb9f3a"
                          ],
                          [
                            0.8888888888888888,
                            "#fdca26"
                          ],
                          [
                            1,
                            "#f0f921"
                          ]
                        ],
                        "type": "heatmapgl"
                      }
                    ],
                    "histogram": [
                      {
                        "marker": {
                          "pattern": {
                            "fillmode": "overlay",
                            "size": 10,
                            "solidity": 0.2
                          }
                        },
                        "type": "histogram"
                      }
                    ],
                    "histogram2d": [
                      {
                        "colorbar": {
                          "outlinewidth": 0,
                          "ticks": ""
                        },
                        "colorscale": [
                          [
                            0,
                            "#0d0887"
                          ],
                          [
                            0.1111111111111111,
                            "#46039f"
                          ],
                          [
                            0.2222222222222222,
                            "#7201a8"
                          ],
                          [
                            0.3333333333333333,
                            "#9c179e"
                          ],
                          [
                            0.4444444444444444,
                            "#bd3786"
                          ],
                          [
                            0.5555555555555556,
                            "#d8576b"
                          ],
                          [
                            0.6666666666666666,
                            "#ed7953"
                          ],
                          [
                            0.7777777777777778,
                            "#fb9f3a"
                          ],
                          [
                            0.8888888888888888,
                            "#fdca26"
                          ],
                          [
                            1,
                            "#f0f921"
                          ]
                        ],
                        "type": "histogram2d"
                      }
                    ],
                    "histogram2dcontour": [
                      {
                        "colorbar": {
                          "outlinewidth": 0,
                          "ticks": ""
                        },
                        "colorscale": [
                          [
                            0,
                            "#0d0887"
                          ],
                          [
                            0.1111111111111111,
                            "#46039f"
                          ],
                          [
                            0.2222222222222222,
                            "#7201a8"
                          ],
                          [
                            0.3333333333333333,
                            "#9c179e"
                          ],
                          [
                            0.4444444444444444,
                            "#bd3786"
                          ],
                          [
                            0.5555555555555556,
                            "#d8576b"
                          ],
                          [
                            0.6666666666666666,
                            "#ed7953"
                          ],
                          [
                            0.7777777777777778,
                            "#fb9f3a"
                          ],
                          [
                            0.8888888888888888,
                            "#fdca26"
                          ],
                          [
                            1,
                            "#f0f921"
                          ]
                        ],
                        "type": "histogram2dcontour"
                      }
                    ],
                    "mesh3d": [
                      {
                        "colorbar": {
                          "outlinewidth": 0,
                          "ticks": ""
                        },
                        "type": "mesh3d"
                      }
                    ],
                    "parcoords": [
                      {
                        "line": {
                          "colorbar": {
                            "outlinewidth": 0,
                            "ticks": ""
                          }
                        },
                        "type": "parcoords"
                      }
                    ],
                    "pie": [
                      {
                        "automargin": true,
                        "type": "pie"
                      }
                    ],
                    "scatter": [
                      {
                        "fillpattern": {
                          "fillmode": "overlay",
                          "size": 10,
                          "solidity": 0.2
                        },
                        "type": "scatter"
                      }
                    ],
                    "scatter3d": [
                      {
                        "line": {
                          "colorbar": {
                            "outlinewidth": 0,
                            "ticks": ""
                          }
                        },
                        "marker": {
                          "colorbar": {
                            "outlinewidth": 0,
                            "ticks": ""
                          }
                        },
                        "type": "scatter3d"
                      }
                    ],
                    "scattercarpet": [
                      {
                        "marker": {
                          "colorbar": {
                            "outlinewidth": 0,
                            "ticks": ""
                          }
                        },
                        "type": "scattercarpet"
                      }
                    ],
                    "scattergeo": [
                      {
                        "marker": {
                          "colorbar": {
                            "outlinewidth": 0,
                            "ticks": ""
                          }
                        },
                        "type": "scattergeo"
                      }
                    ],
                    "scattergl": [
                      {
                        "marker": {
                          "colorbar": {
                            "outlinewidth": 0,
                            "ticks": ""
                          }
                        },
                        "type": "scattergl"
                      }
                    ],
                    "scattermapbox": [
                      {
                        "marker": {
                          "colorbar": {
                            "outlinewidth": 0,
                            "ticks": ""
                          }
                        },
                        "type": "scattermapbox"
                      }
                    ],
                    "scatterpolar": [
                      {
                        "marker": {
                          "colorbar": {
                            "outlinewidth": 0,
                            "ticks": ""
                          }
                        },
                        "type": "scatterpolar"
                      }
                    ],
                    "scatterpolargl": [
                      {
                        "marker": {
                          "colorbar": {
                            "outlinewidth": 0,
                            "ticks": ""
                          }
                        },
                        "type": "scatterpolargl"
                      }
                    ],
                    "scatterternary": [
                      {
                        "marker": {
                          "colorbar": {
                            "outlinewidth": 0,
                            "ticks": ""
                          }
                        },
                        "type": "scatterternary"
                      }
                    ],
                    "surface": [
                      {
                        "colorbar": {
                          "outlinewidth": 0,
                          "ticks": ""
                        },
                        "colorscale": [
                          [
                            0,
                            "#0d0887"
                          ],
                          [
                            0.1111111111111111,
                            "#46039f"
                          ],
                          [
                            0.2222222222222222,
                            "#7201a8"
                          ],
                          [
                            0.3333333333333333,
                            "#9c179e"
                          ],
                          [
                            0.4444444444444444,
                            "#bd3786"
                          ],
                          [
                            0.5555555555555556,
                            "#d8576b"
                          ],
                          [
                            0.6666666666666666,
                            "#ed7953"
                          ],
                          [
                            0.7777777777777778,
                            "#fb9f3a"
                          ],
                          [
                            0.8888888888888888,
                            "#fdca26"
                          ],
                          [
                            1,
                            "#f0f921"
                          ]
                        ],
                        "type": "surface"
                      }
                    ],
                    "table": [
                      {
                        "cells": {
                          "fill": {
                            "color": "#EBF0F8"
                          },
                          "line": {
                            "color": "white"
                          }
                        },
                        "header": {
                          "fill": {
                            "color": "#C8D4E3"
                          },
                          "line": {
                            "color": "white"
                          }
                        },
                        "type": "table"
                      }
                    ]
                  },
                  "layout": {
                    "annotationdefaults": {
                      "arrowcolor": "#2a3f5f",
                      "arrowhead": 0,
                      "arrowwidth": 1
                    },
                    "autotypenumbers": "strict",
                    "coloraxis": {
                      "colorbar": {
                        "outlinewidth": 0,
                        "ticks": ""
                      }
                    },
                    "colorscale": {
                      "diverging": [
                        [
                          0,
                          "#8e0152"
                        ],
                        [
                          0.1,
                          "#c51b7d"
                        ],
                        [
                          0.2,
                          "#de77ae"
                        ],
                        [
                          0.3,
                          "#f1b6da"
                        ],
                        [
                          0.4,
                          "#fde0ef"
                        ],
                        [
                          0.5,
                          "#f7f7f7"
                        ],
                        [
                          0.6,
                          "#e6f5d0"
                        ],
                        [
                          0.7,
                          "#b8e186"
                        ],
                        [
                          0.8,
                          "#7fbc41"
                        ],
                        [
                          0.9,
                          "#4d9221"
                        ],
                        [
                          1,
                          "#276419"
                        ]
                      ],
                      "sequential": [
                        [
                          0,
                          "#0d0887"
                        ],
                        [
                          0.1111111111111111,
                          "#46039f"
                        ],
                        [
                          0.2222222222222222,
                          "#7201a8"
                        ],
                        [
                          0.3333333333333333,
                          "#9c179e"
                        ],
                        [
                          0.4444444444444444,
                          "#bd3786"
                        ],
                        [
                          0.5555555555555556,
                          "#d8576b"
                        ],
                        [
                          0.6666666666666666,
                          "#ed7953"
                        ],
                        [
                          0.7777777777777778,
                          "#fb9f3a"
                        ],
                        [
                          0.8888888888888888,
                          "#fdca26"
                        ],
                        [
                          1,
                          "#f0f921"
                        ]
                      ],
                      "sequentialminus": [
                        [
                          0,
                          "#0d0887"
                        ],
                        [
                          0.1111111111111111,
                          "#46039f"
                        ],
                        [
                          0.2222222222222222,
                          "#7201a8"
                        ],
                        [
                          0.3333333333333333,
                          "#9c179e"
                        ],
                        [
                          0.4444444444444444,
                          "#bd3786"
                        ],
                        [
                          0.5555555555555556,
                          "#d8576b"
                        ],
                        [
                          0.6666666666666666,
                          "#ed7953"
                        ],
                        [
                          0.7777777777777778,
                          "#fb9f3a"
                        ],
                        [
                          0.8888888888888888,
                          "#fdca26"
                        ],
                        [
                          1,
                          "#f0f921"
                        ]
                      ]
                    },
                    "colorway": [
                      "#636efa",
                      "#EF553B",
                      "#00cc96",
                      "#ab63fa",
                      "#FFA15A",
                      "#19d3f3",
                      "#FF6692",
                      "#B6E880",
                      "#FF97FF",
                      "#FECB52"
                    ],
                    "font": {
                      "color": "#2a3f5f"
                    },
                    "geo": {
                      "bgcolor": "white",
                      "lakecolor": "white",
                      "landcolor": "#E5ECF6",
                      "showlakes": true,
                      "showland": true,
                      "subunitcolor": "white"
                    },
                    "hoverlabel": {
                      "align": "left"
                    },
                    "hovermode": "closest",
                    "mapbox": {
                      "style": "light"
                    },
                    "paper_bgcolor": "white",
                    "plot_bgcolor": "#E5ECF6",
                    "polar": {
                      "angularaxis": {
                        "gridcolor": "white",
                        "linecolor": "white",
                        "ticks": ""
                      },
                      "bgcolor": "#E5ECF6",
                      "radialaxis": {
                        "gridcolor": "white",
                        "linecolor": "white",
                        "ticks": ""
                      }
                    },
                    "scene": {
                      "xaxis": {
                        "backgroundcolor": "#E5ECF6",
                        "gridcolor": "white",
                        "gridwidth": 2,
                        "linecolor": "white",
                        "showbackground": true,
                        "ticks": "",
                        "zerolinecolor": "white"
                      },
                      "yaxis": {
                        "backgroundcolor": "#E5ECF6",
                        "gridcolor": "white",
                        "gridwidth": 2,
                        "linecolor": "white",
                        "showbackground": true,
                        "ticks": "",
                        "zerolinecolor": "white"
                      },
                      "zaxis": {
                        "backgroundcolor": "#E5ECF6",
                        "gridcolor": "white",
                        "gridwidth": 2,
                        "linecolor": "white",
                        "showbackground": true,
                        "ticks": "",
                        "zerolinecolor": "white"
                      }
                    },
                    "shapedefaults": {
                      "line": {
                        "color": "#2a3f5f"
                      }
                    },
                    "ternary": {
                      "aaxis": {
                        "gridcolor": "white",
                        "linecolor": "white",
                        "ticks": ""
                      },
                      "baxis": {
                        "gridcolor": "white",
                        "linecolor": "white",
                        "ticks": ""
                      },
                      "bgcolor": "#E5ECF6",
                      "caxis": {
                        "gridcolor": "white",
                        "linecolor": "white",
                        "ticks": ""
                      }
                    },
                    "title": {
                      "x": 0.05
                    },
                    "xaxis": {
                      "automargin": true,
                      "gridcolor": "white",
                      "linecolor": "white",
                      "ticks": "",
                      "title": {
                        "standoff": 15
                      },
                      "zerolinecolor": "white",
                      "zerolinewidth": 2
                    },
                    "yaxis": {
                      "automargin": true,
                      "gridcolor": "white",
                      "linecolor": "white",
                      "ticks": "",
                      "title": {
                        "standoff": 15
                      },
                      "zerolinecolor": "white",
                      "zerolinewidth": 2
                    }
                  }
                },
                "title": {
                  "text": "Average Price Increase Percentage by Category"
                },
                "xaxis": {
                  "anchor": "y",
                  "categoryorder": "total descending",
                  "domain": [
                    0,
                    1
                  ],
                  "title": {
                    "text": "Category"
                  }
                },
                "yaxis": {
                  "anchor": "x",
                  "domain": [
                    0,
                    1
                  ],
                  "title": {
                    "text": "Price Increase Percentage"
                  }
                }
              }
            }
          },
          "metadata": {},
          "output_type": "display_data"
        }
      ],
      "source": [
        "# Clustering the products according to their categories and showing the average price increase percentage for each category\n",
        "avg_price_increase_by_category = df.groupby('Category')['Price Increase Percentage'].mean()\n",
        "avg_price_increase_by_category = avg_price_increase_by_category.reset_index()\n",
        "# Sort the df for better readability\n",
        "avg_price_increase_by_category = avg_price_increase_by_category.sort_values(by='Price Increase Percentage', ascending=False)\n",
        "fig = px.bar(avg_price_increase_by_category, \n",
        "             x=\"Category\", \n",
        "             y=\"Price Increase Percentage\", \n",
        "             color=\"Price Increase Percentage\", \n",
        "             title='Average Price Increase Percentage by Category', \n",
        "             color_continuous_scale='Bluered')\n",
        "\n",
        "fig.update_layout(xaxis={'categoryorder':'total descending'})\n",
        "fig.show()"
      ]
    },
    {
      "cell_type": "code",
      "execution_count": 158,
      "metadata": {
        "id": "7YiheJQrFEwx",
        "outputId": "7b57c739-e726-4537-9334-48d97ee99864"
      },
      "outputs": [
        {
          "data": {
            "application/vnd.plotly.v1+json": {
              "config": {
                "plotlyServerURL": "https://plot.ly"
              },
              "data": [
                {
                  "hovertemplate": "Category=%{x}<br>Price Increase Percentage=%{y}<extra></extra>",
                  "legendgroup": "tonerler",
                  "marker": {
                    "color": "#636efa",
                    "symbol": "circle"
                  },
                  "mode": "markers",
                  "name": "tonerler",
                  "orientation": "v",
                  "showlegend": true,
                  "type": "scatter",
                  "x": [
                    "tonerler"
                  ],
                  "xaxis": "x",
                  "y": [
                    279.6296296296296
                  ],
                  "yaxis": "y"
                },
                {
                  "hovertemplate": "Category=%{x}<br>Price Increase Percentage=%{y}<extra></extra>",
                  "legendgroup": "banyo-bakim-aksesuarlari",
                  "marker": {
                    "color": "#EF553B",
                    "symbol": "circle"
                  },
                  "mode": "markers",
                  "name": "banyo-bakim-aksesuarlari",
                  "orientation": "v",
                  "showlegend": true,
                  "type": "scatter",
                  "x": [
                    "banyo-bakim-aksesuarlari"
                  ],
                  "xaxis": "x",
                  "y": [
                    188.46153846153845
                  ],
                  "yaxis": "y"
                },
                {
                  "hovertemplate": "Category=%{x}<br>Price Increase Percentage=%{y}<extra></extra>",
                  "legendgroup": "mouse",
                  "marker": {
                    "color": "#00cc96",
                    "symbol": "circle"
                  },
                  "mode": "markers",
                  "name": "mouse",
                  "orientation": "v",
                  "showlegend": true,
                  "type": "scatter",
                  "x": [
                    "mouse"
                  ],
                  "xaxis": "x",
                  "y": [
                    167.23420035402668
                  ],
                  "yaxis": "y"
                },
                {
                  "hovertemplate": "Category=%{x}<br>Price Increase Percentage=%{y}<extra></extra>",
                  "legendgroup": "not-defteri-bloknot",
                  "marker": {
                    "color": "#ab63fa",
                    "symbol": "circle"
                  },
                  "mode": "markers",
                  "name": "not-defteri-bloknot",
                  "orientation": "v",
                  "showlegend": true,
                  "type": "scatter",
                  "x": [
                    "not-defteri-bloknot"
                  ],
                  "xaxis": "x",
                  "y": [
                    149.10714285714286
                  ],
                  "yaxis": "y"
                },
                {
                  "hovertemplate": "Category=%{x}<br>Price Increase Percentage=%{y}<extra></extra>",
                  "legendgroup": "dizustu-bilgisayar-aksesuarlari",
                  "marker": {
                    "color": "#FFA15A",
                    "symbol": "circle"
                  },
                  "mode": "markers",
                  "name": "dizustu-bilgisayar-aksesuarlari",
                  "orientation": "v",
                  "showlegend": true,
                  "type": "scatter",
                  "x": [
                    "dizustu-bilgisayar-aksesuarlari"
                  ],
                  "xaxis": "x",
                  "y": [
                    141.43004115226339
                  ],
                  "yaxis": "y"
                },
                {
                  "hovertemplate": "Category=%{x}<br>Price Increase Percentage=%{y}<extra></extra>",
                  "legendgroup": "bilgisayar-oyunlari",
                  "marker": {
                    "color": "#19d3f3",
                    "symbol": "circle"
                  },
                  "mode": "markers",
                  "name": "bilgisayar-oyunlari",
                  "orientation": "v",
                  "showlegend": true,
                  "type": "scatter",
                  "x": [
                    "bilgisayar-oyunlari"
                  ],
                  "xaxis": "x",
                  "y": [
                    140.86238355901278
                  ],
                  "yaxis": "y"
                },
                {
                  "hovertemplate": "Category=%{x}<br>Price Increase Percentage=%{y}<extra></extra>",
                  "legendgroup": "turk-kahve-makinesi",
                  "marker": {
                    "color": "#FF6692",
                    "symbol": "circle"
                  },
                  "mode": "markers",
                  "name": "turk-kahve-makinesi",
                  "orientation": "v",
                  "showlegend": true,
                  "type": "scatter",
                  "x": [
                    "turk-kahve-makinesi"
                  ],
                  "xaxis": "x",
                  "y": [
                    123.94599078521306
                  ],
                  "yaxis": "y"
                },
                {
                  "hovertemplate": "Category=%{x}<br>Price Increase Percentage=%{y}<extra></extra>",
                  "legendgroup": "flash-bellekler",
                  "marker": {
                    "color": "#B6E880",
                    "symbol": "circle"
                  },
                  "mode": "markers",
                  "name": "flash-bellekler",
                  "orientation": "v",
                  "showlegend": true,
                  "type": "scatter",
                  "x": [
                    "flash-bellekler"
                  ],
                  "xaxis": "x",
                  "y": [
                    123.66863905325445
                  ],
                  "yaxis": "y"
                },
                {
                  "hovertemplate": "Category=%{x}<br>Price Increase Percentage=%{y}<extra></extra>",
                  "legendgroup": "ezme-krem-cikolata",
                  "marker": {
                    "color": "#FF97FF",
                    "symbol": "circle"
                  },
                  "mode": "markers",
                  "name": "ezme-krem-cikolata",
                  "orientation": "v",
                  "showlegend": true,
                  "type": "scatter",
                  "x": [
                    "ezme-krem-cikolata"
                  ],
                  "xaxis": "x",
                  "y": [
                    116.77879628850951
                  ],
                  "yaxis": "y"
                },
                {
                  "hovertemplate": "Category=%{x}<br>Price Increase Percentage=%{y}<extra></extra>",
                  "legendgroup": "oyuncu-mouse",
                  "marker": {
                    "color": "#FECB52",
                    "symbol": "circle"
                  },
                  "mode": "markers",
                  "name": "oyuncu-mouse",
                  "orientation": "v",
                  "showlegend": true,
                  "type": "scatter",
                  "x": [
                    "oyuncu-mouse"
                  ],
                  "xaxis": "x",
                  "y": [
                    113.33252334035578
                  ],
                  "yaxis": "y"
                },
                {
                  "hovertemplate": "Category=%{x}<br>Price Increase Percentage=%{y}<extra></extra>",
                  "legendgroup": "dudak-bakimi-koruyucu",
                  "marker": {
                    "color": "#636efa",
                    "symbol": "circle"
                  },
                  "mode": "markers",
                  "name": "dudak-bakimi-koruyucu",
                  "orientation": "v",
                  "showlegend": true,
                  "type": "scatter",
                  "x": [
                    "dudak-bakimi-koruyucu"
                  ],
                  "xaxis": "x",
                  "y": [
                    112.5
                  ],
                  "yaxis": "y"
                },
                {
                  "hovertemplate": "Category=%{x}<br>Price Increase Percentage=%{y}<extra></extra>",
                  "legendgroup": "isiticilar",
                  "marker": {
                    "color": "#EF553B",
                    "symbol": "circle"
                  },
                  "mode": "markers",
                  "name": "isiticilar",
                  "orientation": "v",
                  "showlegend": true,
                  "type": "scatter",
                  "x": [
                    "isiticilar"
                  ],
                  "xaxis": "x",
                  "y": [
                    112.16718694979564
                  ],
                  "yaxis": "y"
                },
                {
                  "hovertemplate": "Category=%{x}<br>Price Increase Percentage=%{y}<extra></extra>",
                  "legendgroup": "mini-midi-firinlar",
                  "marker": {
                    "color": "#00cc96",
                    "symbol": "circle"
                  },
                  "mode": "markers",
                  "name": "mini-midi-firinlar",
                  "orientation": "v",
                  "showlegend": true,
                  "type": "scatter",
                  "x": [
                    "mini-midi-firinlar"
                  ],
                  "xaxis": "x",
                  "y": [
                    108.77329192546583
                  ],
                  "yaxis": "y"
                },
                {
                  "hovertemplate": "Category=%{x}<br>Price Increase Percentage=%{y}<extra></extra>",
                  "legendgroup": "akilli-bileklik",
                  "marker": {
                    "color": "#ab63fa",
                    "symbol": "circle"
                  },
                  "mode": "markers",
                  "name": "akilli-bileklik",
                  "orientation": "v",
                  "showlegend": true,
                  "type": "scatter",
                  "x": [
                    "akilli-bileklik"
                  ],
                  "xaxis": "x",
                  "y": [
                    107.78839956349992
                  ],
                  "yaxis": "y"
                },
                {
                  "hovertemplate": "Category=%{x}<br>Price Increase Percentage=%{y}<extra></extra>",
                  "legendgroup": "bitkisel-besin-destekleri",
                  "marker": {
                    "color": "#FFA15A",
                    "symbol": "circle"
                  },
                  "mode": "markers",
                  "name": "bitkisel-besin-destekleri",
                  "orientation": "v",
                  "showlegend": true,
                  "type": "scatter",
                  "x": [
                    "bitkisel-besin-destekleri"
                  ],
                  "xaxis": "x",
                  "y": [
                    105.71428571428572
                  ],
                  "yaxis": "y"
                },
                {
                  "hovertemplate": "Category=%{x}<br>Price Increase Percentage=%{y}<extra></extra>",
                  "legendgroup": "dis-macunlari",
                  "marker": {
                    "color": "#19d3f3",
                    "symbol": "circle"
                  },
                  "mode": "markers",
                  "name": "dis-macunlari",
                  "orientation": "v",
                  "showlegend": true,
                  "type": "scatter",
                  "x": [
                    "dis-macunlari"
                  ],
                  "xaxis": "x",
                  "y": [
                    105.26315789473684
                  ],
                  "yaxis": "y"
                },
                {
                  "hovertemplate": "Category=%{x}<br>Price Increase Percentage=%{y}<extra></extra>",
                  "legendgroup": "yara-bandi",
                  "marker": {
                    "color": "#FF6692",
                    "symbol": "circle"
                  },
                  "mode": "markers",
                  "name": "yara-bandi",
                  "orientation": "v",
                  "showlegend": true,
                  "type": "scatter",
                  "x": [
                    "yara-bandi"
                  ],
                  "xaxis": "x",
                  "y": [
                    100
                  ],
                  "yaxis": "y"
                },
                {
                  "hovertemplate": "Category=%{x}<br>Price Increase Percentage=%{y}<extra></extra>",
                  "legendgroup": "mouse-pad",
                  "marker": {
                    "color": "#B6E880",
                    "symbol": "circle"
                  },
                  "mode": "markers",
                  "name": "mouse-pad",
                  "orientation": "v",
                  "showlegend": true,
                  "type": "scatter",
                  "x": [
                    "mouse-pad"
                  ],
                  "xaxis": "x",
                  "y": [
                    100
                  ],
                  "yaxis": "y"
                },
                {
                  "hovertemplate": "Category=%{x}<br>Price Increase Percentage=%{y}<extra></extra>",
                  "legendgroup": "yazi-tahtasi-kalemi",
                  "marker": {
                    "color": "#FF97FF",
                    "symbol": "circle"
                  },
                  "mode": "markers",
                  "name": "yazi-tahtasi-kalemi",
                  "orientation": "v",
                  "showlegend": true,
                  "type": "scatter",
                  "x": [
                    "yazi-tahtasi-kalemi"
                  ],
                  "xaxis": "x",
                  "y": [
                    98.68686868686869
                  ],
                  "yaxis": "y"
                },
                {
                  "hovertemplate": "Category=%{x}<br>Price Increase Percentage=%{y}<extra></extra>",
                  "legendgroup": "anakart",
                  "marker": {
                    "color": "#FECB52",
                    "symbol": "circle"
                  },
                  "mode": "markers",
                  "name": "anakart",
                  "orientation": "v",
                  "showlegend": true,
                  "type": "scatter",
                  "x": [
                    "anakart"
                  ],
                  "xaxis": "x",
                  "y": [
                    97.00085689802913
                  ],
                  "yaxis": "y"
                },
                {
                  "hovertemplate": "Category=%{x}<br>Price Increase Percentage=%{y}<extra></extra>",
                  "legendgroup": "sivi-deterjan",
                  "marker": {
                    "color": "#636efa",
                    "symbol": "circle"
                  },
                  "mode": "markers",
                  "name": "sivi-deterjan",
                  "orientation": "v",
                  "showlegend": true,
                  "type": "scatter",
                  "x": [
                    "sivi-deterjan"
                  ],
                  "xaxis": "x",
                  "y": [
                    96.38715463784845
                  ],
                  "yaxis": "y"
                },
                {
                  "hovertemplate": "Category=%{x}<br>Price Increase Percentage=%{y}<extra></extra>",
                  "legendgroup": "klasik-gitarlar",
                  "marker": {
                    "color": "#EF553B",
                    "symbol": "circle"
                  },
                  "mode": "markers",
                  "name": "klasik-gitarlar",
                  "orientation": "v",
                  "showlegend": true,
                  "type": "scatter",
                  "x": [
                    "klasik-gitarlar"
                  ],
                  "xaxis": "x",
                  "y": [
                    94.15268002165675
                  ],
                  "yaxis": "y"
                },
                {
                  "hovertemplate": "Category=%{x}<br>Price Increase Percentage=%{y}<extra></extra>",
                  "legendgroup": "spiralli-defter",
                  "marker": {
                    "color": "#00cc96",
                    "symbol": "circle"
                  },
                  "mode": "markers",
                  "name": "spiralli-defter",
                  "orientation": "v",
                  "showlegend": true,
                  "type": "scatter",
                  "x": [
                    "spiralli-defter"
                  ],
                  "xaxis": "x",
                  "y": [
                    93.33333333333333
                  ],
                  "yaxis": "y"
                },
                {
                  "hovertemplate": "Category=%{x}<br>Price Increase Percentage=%{y}<extra></extra>",
                  "legendgroup": "tasinabilir-sarj-cihazi-powerbank",
                  "marker": {
                    "color": "#ab63fa",
                    "symbol": "circle"
                  },
                  "mode": "markers",
                  "name": "tasinabilir-sarj-cihazi-powerbank",
                  "orientation": "v",
                  "showlegend": true,
                  "type": "scatter",
                  "x": [
                    "tasinabilir-sarj-cihazi-powerbank"
                  ],
                  "xaxis": "x",
                  "y": [
                    93.19170189364965
                  ],
                  "yaxis": "y"
                },
                {
                  "hovertemplate": "Category=%{x}<br>Price Increase Percentage=%{y}<extra></extra>",
                  "legendgroup": "kursun-kalem-ucu-min",
                  "marker": {
                    "color": "#FFA15A",
                    "symbol": "circle"
                  },
                  "mode": "markers",
                  "name": "kursun-kalem-ucu-min",
                  "orientation": "v",
                  "showlegend": true,
                  "type": "scatter",
                  "x": [
                    "kursun-kalem-ucu-min"
                  ],
                  "xaxis": "x",
                  "y": [
                    92.33091787439614
                  ],
                  "yaxis": "y"
                },
                {
                  "hovertemplate": "Category=%{x}<br>Price Increase Percentage=%{y}<extra></extra>",
                  "legendgroup": "oyuncu-klavyesi",
                  "marker": {
                    "color": "#19d3f3",
                    "symbol": "circle"
                  },
                  "mode": "markers",
                  "name": "oyuncu-klavyesi",
                  "orientation": "v",
                  "showlegend": true,
                  "type": "scatter",
                  "x": [
                    "oyuncu-klavyesi"
                  ],
                  "xaxis": "x",
                  "y": [
                    90.68702290076335
                  ],
                  "yaxis": "y"
                },
                {
                  "hovertemplate": "Category=%{x}<br>Price Increase Percentage=%{y}<extra></extra>",
                  "legendgroup": "kulaklik",
                  "marker": {
                    "color": "#FF6692",
                    "symbol": "circle"
                  },
                  "mode": "markers",
                  "name": "kulaklik",
                  "orientation": "v",
                  "showlegend": true,
                  "type": "scatter",
                  "x": [
                    "kulaklik"
                  ],
                  "xaxis": "x",
                  "y": [
                    90.12509277179304
                  ],
                  "yaxis": "y"
                },
                {
                  "hovertemplate": "Category=%{x}<br>Price Increase Percentage=%{y}<extra></extra>",
                  "legendgroup": "tavla",
                  "marker": {
                    "color": "#B6E880",
                    "symbol": "circle"
                  },
                  "mode": "markers",
                  "name": "tavla",
                  "orientation": "v",
                  "showlegend": true,
                  "type": "scatter",
                  "x": [
                    "tavla"
                  ],
                  "xaxis": "x",
                  "y": [
                    88.64628820960698
                  ],
                  "yaxis": "y"
                },
                {
                  "hovertemplate": "Category=%{x}<br>Price Increase Percentage=%{y}<extra></extra>",
                  "legendgroup": "kahvaltilik-gevrek",
                  "marker": {
                    "color": "#FF97FF",
                    "symbol": "circle"
                  },
                  "mode": "markers",
                  "name": "kahvaltilik-gevrek",
                  "orientation": "v",
                  "showlegend": true,
                  "type": "scatter",
                  "x": [
                    "kahvaltilik-gevrek"
                  ],
                  "xaxis": "x",
                  "y": [
                    87.38445576306356
                  ],
                  "yaxis": "y"
                },
                {
                  "hovertemplate": "Category=%{x}<br>Price Increase Percentage=%{y}<extra></extra>",
                  "legendgroup": "calisma-koltugu",
                  "marker": {
                    "color": "#FECB52",
                    "symbol": "circle"
                  },
                  "mode": "markers",
                  "name": "calisma-koltugu",
                  "orientation": "v",
                  "showlegend": true,
                  "type": "scatter",
                  "x": [
                    "calisma-koltugu"
                  ],
                  "xaxis": "x",
                  "y": [
                    85.35057647171834
                  ],
                  "yaxis": "y"
                },
                {
                  "hovertemplate": "Category=%{x}<br>Price Increase Percentage=%{y}<extra></extra>",
                  "legendgroup": "erkek-cuzdan",
                  "marker": {
                    "color": "#636efa",
                    "symbol": "circle"
                  },
                  "mode": "markers",
                  "name": "erkek-cuzdan",
                  "orientation": "v",
                  "showlegend": true,
                  "type": "scatter",
                  "x": [
                    "erkek-cuzdan"
                  ],
                  "xaxis": "x",
                  "y": [
                    84.23913043478261
                  ],
                  "yaxis": "y"
                },
                {
                  "hovertemplate": "Category=%{x}<br>Price Increase Percentage=%{y}<extra></extra>",
                  "legendgroup": "akim-korumali-priz",
                  "marker": {
                    "color": "#EF553B",
                    "symbol": "circle"
                  },
                  "mode": "markers",
                  "name": "akim-korumali-priz",
                  "orientation": "v",
                  "showlegend": true,
                  "type": "scatter",
                  "x": [
                    "akim-korumali-priz"
                  ],
                  "xaxis": "x",
                  "y": [
                    83.26659660154297
                  ],
                  "yaxis": "y"
                },
                {
                  "hovertemplate": "Category=%{x}<br>Price Increase Percentage=%{y}<extra></extra>",
                  "legendgroup": "kalemlik-kalem-kutusu",
                  "marker": {
                    "color": "#00cc96",
                    "symbol": "circle"
                  },
                  "mode": "markers",
                  "name": "kalemlik-kalem-kutusu",
                  "orientation": "v",
                  "showlegend": true,
                  "type": "scatter",
                  "x": [
                    "kalemlik-kalem-kutusu"
                  ],
                  "xaxis": "x",
                  "y": [
                    83.20499108734403
                  ],
                  "yaxis": "y"
                },
                {
                  "hovertemplate": "Category=%{x}<br>Price Increase Percentage=%{y}<extra></extra>",
                  "legendgroup": "suluk-matara",
                  "marker": {
                    "color": "#ab63fa",
                    "symbol": "circle"
                  },
                  "mode": "markers",
                  "name": "suluk-matara",
                  "orientation": "v",
                  "showlegend": true,
                  "type": "scatter",
                  "x": [
                    "suluk-matara"
                  ],
                  "xaxis": "x",
                  "y": [
                    79.84234234234235
                  ],
                  "yaxis": "y"
                },
                {
                  "hovertemplate": "Category=%{x}<br>Price Increase Percentage=%{y}<extra></extra>",
                  "legendgroup": "silgi",
                  "marker": {
                    "color": "#FFA15A",
                    "symbol": "circle"
                  },
                  "mode": "markers",
                  "name": "silgi",
                  "orientation": "v",
                  "showlegend": true,
                  "type": "scatter",
                  "x": [
                    "silgi"
                  ],
                  "xaxis": "x",
                  "y": [
                    79.84126984126983
                  ],
                  "yaxis": "y"
                },
                {
                  "hovertemplate": "Category=%{x}<br>Price Increase Percentage=%{y}<extra></extra>",
                  "legendgroup": "tukenmez-kalem",
                  "marker": {
                    "color": "#19d3f3",
                    "symbol": "circle"
                  },
                  "mode": "markers",
                  "name": "tukenmez-kalem",
                  "orientation": "v",
                  "showlegend": true,
                  "type": "scatter",
                  "x": [
                    "tukenmez-kalem"
                  ],
                  "xaxis": "x",
                  "y": [
                    77.77211365996412
                  ],
                  "yaxis": "y"
                },
                {
                  "hovertemplate": "Category=%{x}<br>Price Increase Percentage=%{y}<extra></extra>",
                  "legendgroup": "cep-telefonlari",
                  "marker": {
                    "color": "#FF6692",
                    "symbol": "circle"
                  },
                  "mode": "markers",
                  "name": "cep-telefonlari",
                  "orientation": "v",
                  "showlegend": true,
                  "type": "scatter",
                  "x": [
                    "cep-telefonlari"
                  ],
                  "xaxis": "x",
                  "y": [
                    77.45231510185067
                  ],
                  "yaxis": "y"
                },
                {
                  "hovertemplate": "Category=%{x}<br>Price Increase Percentage=%{y}<extra></extra>",
                  "legendgroup": "cay-makineleri",
                  "marker": {
                    "color": "#B6E880",
                    "symbol": "circle"
                  },
                  "mode": "markers",
                  "name": "cay-makineleri",
                  "orientation": "v",
                  "showlegend": true,
                  "type": "scatter",
                  "x": [
                    "cay-makineleri"
                  ],
                  "xaxis": "x",
                  "y": [
                    76.48514028172762
                  ],
                  "yaxis": "y"
                },
                {
                  "hovertemplate": "Category=%{x}<br>Price Increase Percentage=%{y}<extra></extra>",
                  "legendgroup": "dis-macunu",
                  "marker": {
                    "color": "#FF97FF",
                    "symbol": "circle"
                  },
                  "mode": "markers",
                  "name": "dis-macunu",
                  "orientation": "v",
                  "showlegend": true,
                  "type": "scatter",
                  "x": [
                    "dis-macunu"
                  ],
                  "xaxis": "x",
                  "y": [
                    76.35392829900839
                  ],
                  "yaxis": "y"
                },
                {
                  "hovertemplate": "Category=%{x}<br>Price Increase Percentage=%{y}<extra></extra>",
                  "legendgroup": "klavye",
                  "marker": {
                    "color": "#FECB52",
                    "symbol": "circle"
                  },
                  "mode": "markers",
                  "name": "klavye",
                  "orientation": "v",
                  "showlegend": true,
                  "type": "scatter",
                  "x": [
                    "klavye"
                  ],
                  "xaxis": "x",
                  "y": [
                    75.87295797822114
                  ],
                  "yaxis": "y"
                },
                {
                  "hovertemplate": "Category=%{x}<br>Price Increase Percentage=%{y}<extra></extra>",
                  "legendgroup": "tencere-tava-setleri",
                  "marker": {
                    "color": "#636efa",
                    "symbol": "circle"
                  },
                  "mode": "markers",
                  "name": "tencere-tava-setleri",
                  "orientation": "v",
                  "showlegend": true,
                  "type": "scatter",
                  "x": [
                    "tencere-tava-setleri"
                  ],
                  "xaxis": "x",
                  "y": [
                    75.18796992481202
                  ],
                  "yaxis": "y"
                },
                {
                  "hovertemplate": "Category=%{x}<br>Price Increase Percentage=%{y}<extra></extra>",
                  "legendgroup": "kedi-mamasi",
                  "marker": {
                    "color": "#EF553B",
                    "symbol": "circle"
                  },
                  "mode": "markers",
                  "name": "kedi-mamasi",
                  "orientation": "v",
                  "showlegend": true,
                  "type": "scatter",
                  "x": [
                    "kedi-mamasi"
                  ],
                  "xaxis": "x",
                  "y": [
                    73.07209663074836
                  ],
                  "yaxis": "y"
                },
                {
                  "hovertemplate": "Category=%{x}<br>Price Increase Percentage=%{y}<extra></extra>",
                  "legendgroup": "baskul",
                  "marker": {
                    "color": "#00cc96",
                    "symbol": "circle"
                  },
                  "mode": "markers",
                  "name": "baskul",
                  "orientation": "v",
                  "showlegend": true,
                  "type": "scatter",
                  "x": [
                    "baskul"
                  ],
                  "xaxis": "x",
                  "y": [
                    73.0281758798869
                  ],
                  "yaxis": "y"
                },
                {
                  "hovertemplate": "Category=%{x}<br>Price Increase Percentage=%{y}<extra></extra>",
                  "legendgroup": "bluetooth-kulaklik",
                  "marker": {
                    "color": "#ab63fa",
                    "symbol": "circle"
                  },
                  "mode": "markers",
                  "name": "bluetooth-kulaklik",
                  "orientation": "v",
                  "showlegend": true,
                  "type": "scatter",
                  "x": [
                    "bluetooth-kulaklik"
                  ],
                  "xaxis": "x",
                  "y": [
                    72.64918884021014
                  ],
                  "yaxis": "y"
                },
                {
                  "hovertemplate": "Category=%{x}<br>Price Increase Percentage=%{y}<extra></extra>",
                  "legendgroup": "oyuncu-kulakliklari",
                  "marker": {
                    "color": "#FFA15A",
                    "symbol": "circle"
                  },
                  "mode": "markers",
                  "name": "oyuncu-kulakliklari",
                  "orientation": "v",
                  "showlegend": true,
                  "type": "scatter",
                  "x": [
                    "oyuncu-kulakliklari"
                  ],
                  "xaxis": "x",
                  "y": [
                    72.183908045977
                  ],
                  "yaxis": "y"
                },
                {
                  "hovertemplate": "Category=%{x}<br>Price Increase Percentage=%{y}<extra></extra>",
                  "legendgroup": "tirnak-makasi",
                  "marker": {
                    "color": "#19d3f3",
                    "symbol": "circle"
                  },
                  "mode": "markers",
                  "name": "tirnak-makasi",
                  "orientation": "v",
                  "showlegend": true,
                  "type": "scatter",
                  "x": [
                    "tirnak-makasi"
                  ],
                  "xaxis": "x",
                  "y": [
                    70.97902097902099
                  ],
                  "yaxis": "y"
                },
                {
                  "hovertemplate": "Category=%{x}<br>Price Increase Percentage=%{y}<extra></extra>",
                  "legendgroup": "oyun-kolu",
                  "marker": {
                    "color": "#FF6692",
                    "symbol": "circle"
                  },
                  "mode": "markers",
                  "name": "oyun-kolu",
                  "orientation": "v",
                  "showlegend": true,
                  "type": "scatter",
                  "x": [
                    "oyun-kolu"
                  ],
                  "xaxis": "x",
                  "y": [
                    70.86933928302886
                  ],
                  "yaxis": "y"
                },
                {
                  "hovertemplate": "Category=%{x}<br>Price Increase Percentage=%{y}<extra></extra>",
                  "legendgroup": "cep-telefonu",
                  "marker": {
                    "color": "#B6E880",
                    "symbol": "circle"
                  },
                  "mode": "markers",
                  "name": "cep-telefonu",
                  "orientation": "v",
                  "showlegend": true,
                  "type": "scatter",
                  "x": [
                    "cep-telefonu"
                  ],
                  "xaxis": "x",
                  "y": [
                    70.54718791089113
                  ],
                  "yaxis": "y"
                },
                {
                  "hovertemplate": "Category=%{x}<br>Price Increase Percentage=%{y}<extra></extra>",
                  "legendgroup": "tiras-bicagi",
                  "marker": {
                    "color": "#FF97FF",
                    "symbol": "circle"
                  },
                  "mode": "markers",
                  "name": "tiras-bicagi",
                  "orientation": "v",
                  "showlegend": true,
                  "type": "scatter",
                  "x": [
                    "tiras-bicagi"
                  ],
                  "xaxis": "x",
                  "y": [
                    70.50359712230215
                  ],
                  "yaxis": "y"
                },
                {
                  "hovertemplate": "Category=%{x}<br>Price Increase Percentage=%{y}<extra></extra>",
                  "legendgroup": "dermokozmetik-urunler",
                  "marker": {
                    "color": "#FECB52",
                    "symbol": "circle"
                  },
                  "mode": "markers",
                  "name": "dermokozmetik-urunler",
                  "orientation": "v",
                  "showlegend": true,
                  "type": "scatter",
                  "x": [
                    "dermokozmetik-urunler"
                  ],
                  "xaxis": "x",
                  "y": [
                    69.86301369863014
                  ],
                  "yaxis": "y"
                },
                {
                  "hovertemplate": "Category=%{x}<br>Price Increase Percentage=%{y}<extra></extra>",
                  "legendgroup": "bilgisayar-cevirici-ve-adaptoru",
                  "marker": {
                    "color": "#636efa",
                    "symbol": "circle"
                  },
                  "mode": "markers",
                  "name": "bilgisayar-cevirici-ve-adaptoru",
                  "orientation": "v",
                  "showlegend": true,
                  "type": "scatter",
                  "x": [
                    "bilgisayar-cevirici-ve-adaptoru"
                  ],
                  "xaxis": "x",
                  "y": [
                    69.76744186046511
                  ],
                  "yaxis": "y"
                },
                {
                  "hovertemplate": "Category=%{x}<br>Price Increase Percentage=%{y}<extra></extra>",
                  "legendgroup": "sicak-su-torbasi",
                  "marker": {
                    "color": "#EF553B",
                    "symbol": "circle"
                  },
                  "mode": "markers",
                  "name": "sicak-su-torbasi",
                  "orientation": "v",
                  "showlegend": true,
                  "type": "scatter",
                  "x": [
                    "sicak-su-torbasi"
                  ],
                  "xaxis": "x",
                  "y": [
                    69.33333333333334
                  ],
                  "yaxis": "y"
                },
                {
                  "hovertemplate": "Category=%{x}<br>Price Increase Percentage=%{y}<extra></extra>",
                  "legendgroup": "sanal-gerceklik-gozlugu",
                  "marker": {
                    "color": "#00cc96",
                    "symbol": "circle"
                  },
                  "mode": "markers",
                  "name": "sanal-gerceklik-gozlugu",
                  "orientation": "v",
                  "showlegend": true,
                  "type": "scatter",
                  "x": [
                    "sanal-gerceklik-gozlugu"
                  ],
                  "xaxis": "x",
                  "y": [
                    69.30434517060962
                  ],
                  "yaxis": "y"
                },
                {
                  "hovertemplate": "Category=%{x}<br>Price Increase Percentage=%{y}<extra></extra>",
                  "legendgroup": "vazelin",
                  "marker": {
                    "color": "#ab63fa",
                    "symbol": "circle"
                  },
                  "mode": "markers",
                  "name": "vazelin",
                  "orientation": "v",
                  "showlegend": true,
                  "type": "scatter",
                  "x": [
                    "vazelin"
                  ],
                  "xaxis": "x",
                  "y": [
                    69.23076923076923
                  ],
                  "yaxis": "y"
                },
                {
                  "hovertemplate": "Category=%{x}<br>Price Increase Percentage=%{y}<extra></extra>",
                  "legendgroup": "cep-telefonu-kalemi",
                  "marker": {
                    "color": "#FFA15A",
                    "symbol": "circle"
                  },
                  "mode": "markers",
                  "name": "cep-telefonu-kalemi",
                  "orientation": "v",
                  "showlegend": true,
                  "type": "scatter",
                  "x": [
                    "cep-telefonu-kalemi"
                  ],
                  "xaxis": "x",
                  "y": [
                    68.9035350509287
                  ],
                  "yaxis": "y"
                },
                {
                  "hovertemplate": "Category=%{x}<br>Price Increase Percentage=%{y}<extra></extra>",
                  "legendgroup": "mekanik-kursun-versatil-kalem",
                  "marker": {
                    "color": "#19d3f3",
                    "symbol": "circle"
                  },
                  "mode": "markers",
                  "name": "mekanik-kursun-versatil-kalem",
                  "orientation": "v",
                  "showlegend": true,
                  "type": "scatter",
                  "x": [
                    "mekanik-kursun-versatil-kalem"
                  ],
                  "xaxis": "x",
                  "y": [
                    68.77667035806572
                  ],
                  "yaxis": "y"
                },
                {
                  "hovertemplate": "Category=%{x}<br>Price Increase Percentage=%{y}<extra></extra>",
                  "legendgroup": "fotograf-makinesi",
                  "marker": {
                    "color": "#FF6692",
                    "symbol": "circle"
                  },
                  "mode": "markers",
                  "name": "fotograf-makinesi",
                  "orientation": "v",
                  "showlegend": true,
                  "type": "scatter",
                  "x": [
                    "fotograf-makinesi"
                  ],
                  "xaxis": "x",
                  "y": [
                    67.93397388415507
                  ],
                  "yaxis": "y"
                },
                {
                  "hovertemplate": "Category=%{x}<br>Price Increase Percentage=%{y}<extra></extra>",
                  "legendgroup": "yetiskinler-icin-oyunlar",
                  "marker": {
                    "color": "#B6E880",
                    "symbol": "circle"
                  },
                  "mode": "markers",
                  "name": "yetiskinler-icin-oyunlar",
                  "orientation": "v",
                  "showlegend": true,
                  "type": "scatter",
                  "x": [
                    "yetiskinler-icin-oyunlar"
                  ],
                  "xaxis": "x",
                  "y": [
                    67.38274041891724
                  ],
                  "yaxis": "y"
                },
                {
                  "hovertemplate": "Category=%{x}<br>Price Increase Percentage=%{y}<extra></extra>",
                  "legendgroup": "epilasyon-aleti",
                  "marker": {
                    "color": "#FF97FF",
                    "symbol": "circle"
                  },
                  "mode": "markers",
                  "name": "epilasyon-aleti",
                  "orientation": "v",
                  "showlegend": true,
                  "type": "scatter",
                  "x": [
                    "epilasyon-aleti"
                  ],
                  "xaxis": "x",
                  "y": [
                    65.47475235564147
                  ],
                  "yaxis": "y"
                },
                {
                  "hovertemplate": "Category=%{x}<br>Price Increase Percentage=%{y}<extra></extra>",
                  "legendgroup": "gunes-kremi",
                  "marker": {
                    "color": "#FECB52",
                    "symbol": "circle"
                  },
                  "mode": "markers",
                  "name": "gunes-kremi",
                  "orientation": "v",
                  "showlegend": true,
                  "type": "scatter",
                  "x": [
                    "gunes-kremi"
                  ],
                  "xaxis": "x",
                  "y": [
                    64.12017617449665
                  ],
                  "yaxis": "y"
                },
                {
                  "hovertemplate": "Category=%{x}<br>Price Increase Percentage=%{y}<extra></extra>",
                  "legendgroup": "tiras-makinesi",
                  "marker": {
                    "color": "#636efa",
                    "symbol": "circle"
                  },
                  "mode": "markers",
                  "name": "tiras-makinesi",
                  "orientation": "v",
                  "showlegend": true,
                  "type": "scatter",
                  "x": [
                    "tiras-makinesi"
                  ],
                  "xaxis": "x",
                  "y": [
                    63.73907306613888
                  ],
                  "yaxis": "y"
                },
                {
                  "hovertemplate": "Category=%{x}<br>Price Increase Percentage=%{y}<extra></extra>",
                  "legendgroup": "buzdolabi",
                  "marker": {
                    "color": "#EF553B",
                    "symbol": "circle"
                  },
                  "mode": "markers",
                  "name": "buzdolabi",
                  "orientation": "v",
                  "showlegend": true,
                  "type": "scatter",
                  "x": [
                    "buzdolabi"
                  ],
                  "xaxis": "x",
                  "y": [
                    63.27030495824723
                  ],
                  "yaxis": "y"
                },
                {
                  "hovertemplate": "Category=%{x}<br>Price Increase Percentage=%{y}<extra></extra>",
                  "legendgroup": "tv-box",
                  "marker": {
                    "color": "#00cc96",
                    "symbol": "circle"
                  },
                  "mode": "markers",
                  "name": "tv-box",
                  "orientation": "v",
                  "showlegend": true,
                  "type": "scatter",
                  "x": [
                    "tv-box"
                  ],
                  "xaxis": "x",
                  "y": [
                    62.59780907668232
                  ],
                  "yaxis": "y"
                },
                {
                  "hovertemplate": "Category=%{x}<br>Price Increase Percentage=%{y}<extra></extra>",
                  "legendgroup": "bulasik-makineleri",
                  "marker": {
                    "color": "#ab63fa",
                    "symbol": "circle"
                  },
                  "mode": "markers",
                  "name": "bulasik-makineleri",
                  "orientation": "v",
                  "showlegend": true,
                  "type": "scatter",
                  "x": [
                    "bulasik-makineleri"
                  ],
                  "xaxis": "x",
                  "y": [
                    61.714819016576904
                  ],
                  "yaxis": "y"
                },
                {
                  "hovertemplate": "Category=%{x}<br>Price Increase Percentage=%{y}<extra></extra>",
                  "legendgroup": "dis-fircalari",
                  "marker": {
                    "color": "#FFA15A",
                    "symbol": "circle"
                  },
                  "mode": "markers",
                  "name": "dis-fircalari",
                  "orientation": "v",
                  "showlegend": true,
                  "type": "scatter",
                  "x": [
                    "dis-fircalari"
                  ],
                  "xaxis": "x",
                  "y": [
                    61.58777120315582
                  ],
                  "yaxis": "y"
                },
                {
                  "hovertemplate": "Category=%{x}<br>Price Increase Percentage=%{y}<extra></extra>",
                  "legendgroup": "laptop-notebook",
                  "marker": {
                    "color": "#19d3f3",
                    "symbol": "circle"
                  },
                  "mode": "markers",
                  "name": "laptop-notebook",
                  "orientation": "v",
                  "showlegend": true,
                  "type": "scatter",
                  "x": [
                    "laptop-notebook"
                  ],
                  "xaxis": "x",
                  "y": [
                    61.45139162512006
                  ],
                  "yaxis": "y"
                },
                {
                  "hovertemplate": "Category=%{x}<br>Price Increase Percentage=%{y}<extra></extra>",
                  "legendgroup": "fosforlu-kalem",
                  "marker": {
                    "color": "#FF6692",
                    "symbol": "circle"
                  },
                  "mode": "markers",
                  "name": "fosforlu-kalem",
                  "orientation": "v",
                  "showlegend": true,
                  "type": "scatter",
                  "x": [
                    "fosforlu-kalem"
                  ],
                  "xaxis": "x",
                  "y": [
                    60.82251082251082
                  ],
                  "yaxis": "y"
                },
                {
                  "hovertemplate": "Category=%{x}<br>Price Increase Percentage=%{y}<extra></extra>",
                  "legendgroup": "ezme-perle-kedi-mamasi",
                  "marker": {
                    "color": "#B6E880",
                    "symbol": "circle"
                  },
                  "mode": "markers",
                  "name": "ezme-perle-kedi-mamasi",
                  "orientation": "v",
                  "showlegend": true,
                  "type": "scatter",
                  "x": [
                    "ezme-perle-kedi-mamasi"
                  ],
                  "xaxis": "x",
                  "y": [
                    60
                  ],
                  "yaxis": "y"
                },
                {
                  "hovertemplate": "Category=%{x}<br>Price Increase Percentage=%{y}<extra></extra>",
                  "legendgroup": "klavye-mouse",
                  "marker": {
                    "color": "#FF97FF",
                    "symbol": "circle"
                  },
                  "mode": "markers",
                  "name": "klavye-mouse",
                  "orientation": "v",
                  "showlegend": true,
                  "type": "scatter",
                  "x": [
                    "klavye-mouse"
                  ],
                  "xaxis": "x",
                  "y": [
                    59.99979689349995
                  ],
                  "yaxis": "y"
                },
                {
                  "hovertemplate": "Category=%{x}<br>Price Increase Percentage=%{y}<extra></extra>",
                  "legendgroup": "bilgisayar-kasasi",
                  "marker": {
                    "color": "#FECB52",
                    "symbol": "circle"
                  },
                  "mode": "markers",
                  "name": "bilgisayar-kasasi",
                  "orientation": "v",
                  "showlegend": true,
                  "type": "scatter",
                  "x": [
                    "bilgisayar-kasasi"
                  ],
                  "xaxis": "x",
                  "y": [
                    58.64661654135338
                  ],
                  "yaxis": "y"
                },
                {
                  "hovertemplate": "Category=%{x}<br>Price Increase Percentage=%{y}<extra></extra>",
                  "legendgroup": "harita-kure",
                  "marker": {
                    "color": "#636efa",
                    "symbol": "circle"
                  },
                  "mode": "markers",
                  "name": "harita-kure",
                  "orientation": "v",
                  "showlegend": true,
                  "type": "scatter",
                  "x": [
                    "harita-kure"
                  ],
                  "xaxis": "x",
                  "y": [
                    58.63636363636363
                  ],
                  "yaxis": "y"
                },
                {
                  "hovertemplate": "Category=%{x}<br>Price Increase Percentage=%{y}<extra></extra>",
                  "legendgroup": "kopek-mamasi",
                  "marker": {
                    "color": "#EF553B",
                    "symbol": "circle"
                  },
                  "mode": "markers",
                  "name": "kopek-mamasi",
                  "orientation": "v",
                  "showlegend": true,
                  "type": "scatter",
                  "x": [
                    "kopek-mamasi"
                  ],
                  "xaxis": "x",
                  "y": [
                    58.447068459485415
                  ],
                  "yaxis": "y"
                },
                {
                  "hovertemplate": "Category=%{x}<br>Price Increase Percentage=%{y}<extra></extra>",
                  "legendgroup": "kettle",
                  "marker": {
                    "color": "#00cc96",
                    "symbol": "circle"
                  },
                  "mode": "markers",
                  "name": "kettle",
                  "orientation": "v",
                  "showlegend": true,
                  "type": "scatter",
                  "x": [
                    "kettle"
                  ],
                  "xaxis": "x",
                  "y": [
                    57.937056606258125
                  ],
                  "yaxis": "y"
                },
                {
                  "hovertemplate": "Category=%{x}<br>Price Increase Percentage=%{y}<extra></extra>",
                  "legendgroup": "termoslar",
                  "marker": {
                    "color": "#ab63fa",
                    "symbol": "circle"
                  },
                  "mode": "markers",
                  "name": "termoslar",
                  "orientation": "v",
                  "showlegend": true,
                  "type": "scatter",
                  "x": [
                    "termoslar"
                  ],
                  "xaxis": "x",
                  "y": [
                    57.738095238095234
                  ],
                  "yaxis": "y"
                },
                {
                  "hovertemplate": "Category=%{x}<br>Price Increase Percentage=%{y}<extra></extra>",
                  "legendgroup": "buzdolaplari",
                  "marker": {
                    "color": "#FFA15A",
                    "symbol": "circle"
                  },
                  "mode": "markers",
                  "name": "buzdolaplari",
                  "orientation": "v",
                  "showlegend": true,
                  "type": "scatter",
                  "x": [
                    "buzdolaplari"
                  ],
                  "xaxis": "x",
                  "y": [
                    57.56290018698104
                  ],
                  "yaxis": "y"
                },
                {
                  "hovertemplate": "Category=%{x}<br>Price Increase Percentage=%{y}<extra></extra>",
                  "legendgroup": "kagit-havlu",
                  "marker": {
                    "color": "#19d3f3",
                    "symbol": "circle"
                  },
                  "mode": "markers",
                  "name": "kagit-havlu",
                  "orientation": "v",
                  "showlegend": true,
                  "type": "scatter",
                  "x": [
                    "kagit-havlu"
                  ],
                  "xaxis": "x",
                  "y": [
                    57.275177635863486
                  ],
                  "yaxis": "y"
                },
                {
                  "hovertemplate": "Category=%{x}<br>Price Increase Percentage=%{y}<extra></extra>",
                  "legendgroup": "suluk",
                  "marker": {
                    "color": "#FF6692",
                    "symbol": "circle"
                  },
                  "mode": "markers",
                  "name": "suluk",
                  "orientation": "v",
                  "showlegend": true,
                  "type": "scatter",
                  "x": [
                    "suluk"
                  ],
                  "xaxis": "x",
                  "y": [
                    56.67389019007995
                  ],
                  "yaxis": "y"
                },
                {
                  "hovertemplate": "Category=%{x}<br>Price Increase Percentage=%{y}<extra></extra>",
                  "legendgroup": "bulasik-makinesi-tableti",
                  "marker": {
                    "color": "#B6E880",
                    "symbol": "circle"
                  },
                  "mode": "markers",
                  "name": "bulasik-makinesi-tableti",
                  "orientation": "v",
                  "showlegend": true,
                  "type": "scatter",
                  "x": [
                    "bulasik-makinesi-tableti"
                  ],
                  "xaxis": "x",
                  "y": [
                    56.64274329105284
                  ],
                  "yaxis": "y"
                },
                {
                  "hovertemplate": "Category=%{x}<br>Price Increase Percentage=%{y}<extra></extra>",
                  "legendgroup": "tiras-makineleri",
                  "marker": {
                    "color": "#FF97FF",
                    "symbol": "circle"
                  },
                  "mode": "markers",
                  "name": "tiras-makineleri",
                  "orientation": "v",
                  "showlegend": true,
                  "type": "scatter",
                  "x": [
                    "tiras-makineleri"
                  ],
                  "xaxis": "x",
                  "y": [
                    56.445079102626735
                  ],
                  "yaxis": "y"
                },
                {
                  "hovertemplate": "Category=%{x}<br>Price Increase Percentage=%{y}<extra></extra>",
                  "legendgroup": "xbox-series",
                  "marker": {
                    "color": "#FECB52",
                    "symbol": "circle"
                  },
                  "mode": "markers",
                  "name": "xbox-series",
                  "orientation": "v",
                  "showlegend": true,
                  "type": "scatter",
                  "x": [
                    "xbox-series"
                  ],
                  "xaxis": "x",
                  "y": [
                    55.980799477151706
                  ],
                  "yaxis": "y"
                },
                {
                  "hovertemplate": "Category=%{x}<br>Price Increase Percentage=%{y}<extra></extra>",
                  "legendgroup": "robot-supurge",
                  "marker": {
                    "color": "#636efa",
                    "symbol": "circle"
                  },
                  "mode": "markers",
                  "name": "robot-supurge",
                  "orientation": "v",
                  "showlegend": true,
                  "type": "scatter",
                  "x": [
                    "robot-supurge"
                  ],
                  "xaxis": "x",
                  "y": [
                    55.928787808854345
                  ],
                  "yaxis": "y"
                },
                {
                  "hovertemplate": "Category=%{x}<br>Price Increase Percentage=%{y}<extra></extra>",
                  "legendgroup": "sampuan-ve-sac-kremi",
                  "marker": {
                    "color": "#EF553B",
                    "symbol": "circle"
                  },
                  "mode": "markers",
                  "name": "sampuan-ve-sac-kremi",
                  "orientation": "v",
                  "showlegend": true,
                  "type": "scatter",
                  "x": [
                    "sampuan-ve-sac-kremi"
                  ],
                  "xaxis": "x",
                  "y": [
                    55.01486915545612
                  ],
                  "yaxis": "y"
                },
                {
                  "hovertemplate": "Category=%{x}<br>Price Increase Percentage=%{y}<extra></extra>",
                  "legendgroup": "terlik",
                  "marker": {
                    "color": "#00cc96",
                    "symbol": "circle"
                  },
                  "mode": "markers",
                  "name": "terlik",
                  "orientation": "v",
                  "showlegend": true,
                  "type": "scatter",
                  "x": [
                    "terlik"
                  ],
                  "xaxis": "x",
                  "y": [
                    54.78260869565217
                  ],
                  "yaxis": "y"
                },
                {
                  "hovertemplate": "Category=%{x}<br>Price Increase Percentage=%{y}<extra></extra>",
                  "legendgroup": "kamp-aksesuari",
                  "marker": {
                    "color": "#ab63fa",
                    "symbol": "circle"
                  },
                  "mode": "markers",
                  "name": "kamp-aksesuari",
                  "orientation": "v",
                  "showlegend": true,
                  "type": "scatter",
                  "x": [
                    "kamp-aksesuari"
                  ],
                  "xaxis": "x",
                  "y": [
                    54.166666666666664
                  ],
                  "yaxis": "y"
                },
                {
                  "hovertemplate": "Category=%{x}<br>Price Increase Percentage=%{y}<extra></extra>",
                  "legendgroup": "dizustu-bilgisayar",
                  "marker": {
                    "color": "#FFA15A",
                    "symbol": "circle"
                  },
                  "mode": "markers",
                  "name": "dizustu-bilgisayar",
                  "orientation": "v",
                  "showlegend": true,
                  "type": "scatter",
                  "x": [
                    "dizustu-bilgisayar"
                  ],
                  "xaxis": "x",
                  "y": [
                    54.156407300993365
                  ],
                  "yaxis": "y"
                },
                {
                  "hovertemplate": "Category=%{x}<br>Price Increase Percentage=%{y}<extra></extra>",
                  "legendgroup": "tablet-pc",
                  "marker": {
                    "color": "#19d3f3",
                    "symbol": "circle"
                  },
                  "mode": "markers",
                  "name": "tablet-pc",
                  "orientation": "v",
                  "showlegend": true,
                  "type": "scatter",
                  "x": [
                    "tablet-pc"
                  ],
                  "xaxis": "x",
                  "y": [
                    53.60151191827597
                  ],
                  "yaxis": "y"
                },
                {
                  "hovertemplate": "Category=%{x}<br>Price Increase Percentage=%{y}<extra></extra>",
                  "legendgroup": "spor-ayakkabi",
                  "marker": {
                    "color": "#FF6692",
                    "symbol": "circle"
                  },
                  "mode": "markers",
                  "name": "spor-ayakkabi",
                  "orientation": "v",
                  "showlegend": true,
                  "type": "scatter",
                  "x": [
                    "spor-ayakkabi"
                  ],
                  "xaxis": "x",
                  "y": [
                    53.190279007566645
                  ],
                  "yaxis": "y"
                },
                {
                  "hovertemplate": "Category=%{x}<br>Price Increase Percentage=%{y}<extra></extra>",
                  "legendgroup": "ocaklar",
                  "marker": {
                    "color": "#B6E880",
                    "symbol": "circle"
                  },
                  "mode": "markers",
                  "name": "ocaklar",
                  "orientation": "v",
                  "showlegend": true,
                  "type": "scatter",
                  "x": [
                    "ocaklar"
                  ],
                  "xaxis": "x",
                  "y": [
                    52.94117647058824
                  ],
                  "yaxis": "y"
                },
                {
                  "hovertemplate": "Category=%{x}<br>Price Increase Percentage=%{y}<extra></extra>",
                  "legendgroup": "tasinabilir-hard-diskler",
                  "marker": {
                    "color": "#FF97FF",
                    "symbol": "circle"
                  },
                  "mode": "markers",
                  "name": "tasinabilir-hard-diskler",
                  "orientation": "v",
                  "showlegend": true,
                  "type": "scatter",
                  "x": [
                    "tasinabilir-hard-diskler"
                  ],
                  "xaxis": "x",
                  "y": [
                    52.60987433525464
                  ],
                  "yaxis": "y"
                },
                {
                  "hovertemplate": "Category=%{x}<br>Price Increase Percentage=%{y}<extra></extra>",
                  "legendgroup": "alarmli-saatler-radyolar",
                  "marker": {
                    "color": "#FECB52",
                    "symbol": "circle"
                  },
                  "mode": "markers",
                  "name": "alarmli-saatler-radyolar",
                  "orientation": "v",
                  "showlegend": true,
                  "type": "scatter",
                  "x": [
                    "alarmli-saatler-radyolar"
                  ],
                  "xaxis": "x",
                  "y": [
                    52.17391304347826
                  ],
                  "yaxis": "y"
                },
                {
                  "hovertemplate": "Category=%{x}<br>Price Increase Percentage=%{y}<extra></extra>",
                  "legendgroup": "kutu-oyunu",
                  "marker": {
                    "color": "#636efa",
                    "symbol": "circle"
                  },
                  "mode": "markers",
                  "name": "kutu-oyunu",
                  "orientation": "v",
                  "showlegend": true,
                  "type": "scatter",
                  "x": [
                    "kutu-oyunu"
                  ],
                  "xaxis": "x",
                  "y": [
                    51.9951127615298
                  ],
                  "yaxis": "y"
                },
                {
                  "hovertemplate": "Category=%{x}<br>Price Increase Percentage=%{y}<extra></extra>",
                  "legendgroup": "nintendo-switch",
                  "marker": {
                    "color": "#EF553B",
                    "symbol": "circle"
                  },
                  "mode": "markers",
                  "name": "nintendo-switch",
                  "orientation": "v",
                  "showlegend": true,
                  "type": "scatter",
                  "x": [
                    "nintendo-switch"
                  ],
                  "xaxis": "x",
                  "y": [
                    51.52295802394302
                  ],
                  "yaxis": "y"
                },
                {
                  "hovertemplate": "Category=%{x}<br>Price Increase Percentage=%{y}<extra></extra>",
                  "legendgroup": "hijyenik-pedler-ve-tamponlar",
                  "marker": {
                    "color": "#00cc96",
                    "symbol": "circle"
                  },
                  "mode": "markers",
                  "name": "hijyenik-pedler-ve-tamponlar",
                  "orientation": "v",
                  "showlegend": true,
                  "type": "scatter",
                  "x": [
                    "hijyenik-pedler-ve-tamponlar"
                  ],
                  "xaxis": "x",
                  "y": [
                    51.18926881097266
                  ],
                  "yaxis": "y"
                },
                {
                  "hovertemplate": "Category=%{x}<br>Price Increase Percentage=%{y}<extra></extra>",
                  "legendgroup": "tiras-bicagi-ve-yedekleri",
                  "marker": {
                    "color": "#ab63fa",
                    "symbol": "circle"
                  },
                  "mode": "markers",
                  "name": "tiras-bicagi-ve-yedekleri",
                  "orientation": "v",
                  "showlegend": true,
                  "type": "scatter",
                  "x": [
                    "tiras-bicagi-ve-yedekleri"
                  ],
                  "xaxis": "x",
                  "y": [
                    51.11111111111111
                  ],
                  "yaxis": "y"
                },
                {
                  "hovertemplate": "Category=%{x}<br>Price Increase Percentage=%{y}<extra></extra>",
                  "legendgroup": "bayan-cuzdan",
                  "marker": {
                    "color": "#FFA15A",
                    "symbol": "circle"
                  },
                  "mode": "markers",
                  "name": "bayan-cuzdan",
                  "orientation": "v",
                  "showlegend": true,
                  "type": "scatter",
                  "x": [
                    "bayan-cuzdan"
                  ],
                  "xaxis": "x",
                  "y": [
                    50.714587936627325
                  ],
                  "yaxis": "y"
                },
                {
                  "hovertemplate": "Category=%{x}<br>Price Increase Percentage=%{y}<extra></extra>",
                  "legendgroup": "sprey-deodorantlar",
                  "marker": {
                    "color": "#19d3f3",
                    "symbol": "circle"
                  },
                  "mode": "markers",
                  "name": "sprey-deodorantlar",
                  "orientation": "v",
                  "showlegend": true,
                  "type": "scatter",
                  "x": [
                    "sprey-deodorantlar"
                  ],
                  "xaxis": "x",
                  "y": [
                    50.0225456036073
                  ],
                  "yaxis": "y"
                },
                {
                  "hovertemplate": "Category=%{x}<br>Price Increase Percentage=%{y}<extra></extra>",
                  "legendgroup": "makarna",
                  "marker": {
                    "color": "#FF6692",
                    "symbol": "circle"
                  },
                  "mode": "markers",
                  "name": "makarna",
                  "orientation": "v",
                  "showlegend": true,
                  "type": "scatter",
                  "x": [
                    "makarna"
                  ],
                  "xaxis": "x",
                  "y": [
                    50
                  ],
                  "yaxis": "y"
                },
                {
                  "hovertemplate": "Category=%{x}<br>Price Increase Percentage=%{y}<extra></extra>",
                  "legendgroup": "ocak",
                  "marker": {
                    "color": "#B6E880",
                    "symbol": "circle"
                  },
                  "mode": "markers",
                  "name": "ocak",
                  "orientation": "v",
                  "showlegend": true,
                  "type": "scatter",
                  "x": [
                    "ocak"
                  ],
                  "xaxis": "x",
                  "y": [
                    49.44012751544132
                  ],
                  "yaxis": "y"
                },
                {
                  "hovertemplate": "Category=%{x}<br>Price Increase Percentage=%{y}<extra></extra>",
                  "legendgroup": "dijital-fotograf-makineleri",
                  "marker": {
                    "color": "#FF97FF",
                    "symbol": "circle"
                  },
                  "mode": "markers",
                  "name": "dijital-fotograf-makineleri",
                  "orientation": "v",
                  "showlegend": true,
                  "type": "scatter",
                  "x": [
                    "dijital-fotograf-makineleri"
                  ],
                  "xaxis": "x",
                  "y": [
                    49.43008417080765
                  ],
                  "yaxis": "y"
                },
                {
                  "hovertemplate": "Category=%{x}<br>Price Increase Percentage=%{y}<extra></extra>",
                  "legendgroup": "rimeller-maskaralar",
                  "marker": {
                    "color": "#FECB52",
                    "symbol": "circle"
                  },
                  "mode": "markers",
                  "name": "rimeller-maskaralar",
                  "orientation": "v",
                  "showlegend": true,
                  "type": "scatter",
                  "x": [
                    "rimeller-maskaralar"
                  ],
                  "xaxis": "x",
                  "y": [
                    49.404761904761905
                  ],
                  "yaxis": "y"
                },
                {
                  "hovertemplate": "Category=%{x}<br>Price Increase Percentage=%{y}<extra></extra>",
                  "legendgroup": "stor-perde",
                  "marker": {
                    "color": "#636efa",
                    "symbol": "circle"
                  },
                  "mode": "markers",
                  "name": "stor-perde",
                  "orientation": "v",
                  "showlegend": true,
                  "type": "scatter",
                  "x": [
                    "stor-perde"
                  ],
                  "xaxis": "x",
                  "y": [
                    49.28571428571429
                  ],
                  "yaxis": "y"
                },
                {
                  "hovertemplate": "Category=%{x}<br>Price Increase Percentage=%{y}<extra></extra>",
                  "legendgroup": "kadin-terlikleri-ve-sandaletleri",
                  "marker": {
                    "color": "#EF553B",
                    "symbol": "circle"
                  },
                  "mode": "markers",
                  "name": "kadin-terlikleri-ve-sandaletleri",
                  "orientation": "v",
                  "showlegend": true,
                  "type": "scatter",
                  "x": [
                    "kadin-terlikleri-ve-sandaletleri"
                  ],
                  "xaxis": "x",
                  "y": [
                    46.86868686868687
                  ],
                  "yaxis": "y"
                },
                {
                  "hovertemplate": "Category=%{x}<br>Price Increase Percentage=%{y}<extra></extra>",
                  "legendgroup": "sabunlar",
                  "marker": {
                    "color": "#00cc96",
                    "symbol": "circle"
                  },
                  "mode": "markers",
                  "name": "sabunlar",
                  "orientation": "v",
                  "showlegend": true,
                  "type": "scatter",
                  "x": [
                    "sabunlar"
                  ],
                  "xaxis": "x",
                  "y": [
                    46.06025220396714
                  ],
                  "yaxis": "y"
                },
                {
                  "hovertemplate": "Category=%{x}<br>Price Increase Percentage=%{y}<extra></extra>",
                  "legendgroup": "satranc",
                  "marker": {
                    "color": "#ab63fa",
                    "symbol": "circle"
                  },
                  "mode": "markers",
                  "name": "satranc",
                  "orientation": "v",
                  "showlegend": true,
                  "type": "scatter",
                  "x": [
                    "satranc"
                  ],
                  "xaxis": "x",
                  "y": [
                    45.94594594594595
                  ],
                  "yaxis": "y"
                },
                {
                  "hovertemplate": "Category=%{x}<br>Price Increase Percentage=%{y}<extra></extra>",
                  "legendgroup": "dus-jelleri-ve-banyo-kopukleri",
                  "marker": {
                    "color": "#FFA15A",
                    "symbol": "circle"
                  },
                  "mode": "markers",
                  "name": "dus-jelleri-ve-banyo-kopukleri",
                  "orientation": "v",
                  "showlegend": true,
                  "type": "scatter",
                  "x": [
                    "dus-jelleri-ve-banyo-kopukleri"
                  ],
                  "xaxis": "x",
                  "y": [
                    45.9057239057239
                  ],
                  "yaxis": "y"
                },
                {
                  "hovertemplate": "Category=%{x}<br>Price Increase Percentage=%{y}<extra></extra>",
                  "legendgroup": "kupa",
                  "marker": {
                    "color": "#19d3f3",
                    "symbol": "circle"
                  },
                  "mode": "markers",
                  "name": "kupa",
                  "orientation": "v",
                  "showlegend": true,
                  "type": "scatter",
                  "x": [
                    "kupa"
                  ],
                  "xaxis": "x",
                  "y": [
                    45.64473994674217
                  ],
                  "yaxis": "y"
                },
                {
                  "hovertemplate": "Category=%{x}<br>Price Increase Percentage=%{y}<extra></extra>",
                  "legendgroup": "tablet",
                  "marker": {
                    "color": "#FF6692",
                    "symbol": "circle"
                  },
                  "mode": "markers",
                  "name": "tablet",
                  "orientation": "v",
                  "showlegend": true,
                  "type": "scatter",
                  "x": [
                    "tablet"
                  ],
                  "xaxis": "x",
                  "y": [
                    45.43343865662842
                  ],
                  "yaxis": "y"
                },
                {
                  "hovertemplate": "Category=%{x}<br>Price Increase Percentage=%{y}<extra></extra>",
                  "legendgroup": "unisex-gunes-gozlukleri",
                  "marker": {
                    "color": "#B6E880",
                    "symbol": "circle"
                  },
                  "mode": "markers",
                  "name": "unisex-gunes-gozlukleri",
                  "orientation": "v",
                  "showlegend": true,
                  "type": "scatter",
                  "x": [
                    "unisex-gunes-gozlukleri"
                  ],
                  "xaxis": "x",
                  "y": [
                    45.267489711934154
                  ],
                  "yaxis": "y"
                },
                {
                  "hovertemplate": "Category=%{x}<br>Price Increase Percentage=%{y}<extra></extra>",
                  "legendgroup": "cok-satan-kitaplar",
                  "marker": {
                    "color": "#FF97FF",
                    "symbol": "circle"
                  },
                  "mode": "markers",
                  "name": "cok-satan-kitaplar",
                  "orientation": "v",
                  "showlegend": true,
                  "type": "scatter",
                  "x": [
                    "cok-satan-kitaplar"
                  ],
                  "xaxis": "x",
                  "y": [
                    45.122807017543856
                  ],
                  "yaxis": "y"
                },
                {
                  "hovertemplate": "Category=%{x}<br>Price Increase Percentage=%{y}<extra></extra>",
                  "legendgroup": "toplar",
                  "marker": {
                    "color": "#FECB52",
                    "symbol": "circle"
                  },
                  "mode": "markers",
                  "name": "toplar",
                  "orientation": "v",
                  "showlegend": true,
                  "type": "scatter",
                  "x": [
                    "toplar"
                  ],
                  "xaxis": "x",
                  "y": [
                    44.81930232716707
                  ],
                  "yaxis": "y"
                },
                {
                  "hovertemplate": "Category=%{x}<br>Price Increase Percentage=%{y}<extra></extra>",
                  "legendgroup": "konsol-aksesuarlari",
                  "marker": {
                    "color": "#636efa",
                    "symbol": "circle"
                  },
                  "mode": "markers",
                  "name": "konsol-aksesuarlari",
                  "orientation": "v",
                  "showlegend": true,
                  "type": "scatter",
                  "x": [
                    "konsol-aksesuarlari"
                  ],
                  "xaxis": "x",
                  "y": [
                    43.998254037538196
                  ],
                  "yaxis": "y"
                },
                {
                  "hovertemplate": "Category=%{x}<br>Price Increase Percentage=%{y}<extra></extra>",
                  "legendgroup": "camasir-askisi",
                  "marker": {
                    "color": "#EF553B",
                    "symbol": "circle"
                  },
                  "mode": "markers",
                  "name": "camasir-askisi",
                  "orientation": "v",
                  "showlegend": true,
                  "type": "scatter",
                  "x": [
                    "camasir-askisi"
                  ],
                  "xaxis": "x",
                  "y": [
                    43.63636363636363
                  ],
                  "yaxis": "y"
                },
                {
                  "hovertemplate": "Category=%{x}<br>Price Increase Percentage=%{y}<extra></extra>",
                  "legendgroup": "gunes-kremleri-ve-losyonlari",
                  "marker": {
                    "color": "#00cc96",
                    "symbol": "circle"
                  },
                  "mode": "markers",
                  "name": "gunes-kremleri-ve-losyonlari",
                  "orientation": "v",
                  "showlegend": true,
                  "type": "scatter",
                  "x": [
                    "gunes-kremleri-ve-losyonlari"
                  ],
                  "xaxis": "x",
                  "y": [
                    42.95900178253119
                  ],
                  "yaxis": "y"
                },
                {
                  "hovertemplate": "Category=%{x}<br>Price Increase Percentage=%{y}<extra></extra>",
                  "legendgroup": "tuvalet-kagidi",
                  "marker": {
                    "color": "#ab63fa",
                    "symbol": "circle"
                  },
                  "mode": "markers",
                  "name": "tuvalet-kagidi",
                  "orientation": "v",
                  "showlegend": true,
                  "type": "scatter",
                  "x": [
                    "tuvalet-kagidi"
                  ],
                  "xaxis": "x",
                  "y": [
                    42.81319539317967
                  ],
                  "yaxis": "y"
                },
                {
                  "hovertemplate": "Category=%{x}<br>Price Increase Percentage=%{y}<extra></extra>",
                  "legendgroup": "oje",
                  "marker": {
                    "color": "#FFA15A",
                    "symbol": "circle"
                  },
                  "mode": "markers",
                  "name": "oje",
                  "orientation": "v",
                  "showlegend": true,
                  "type": "scatter",
                  "x": [
                    "oje"
                  ],
                  "xaxis": "x",
                  "y": [
                    42.121212121212125
                  ],
                  "yaxis": "y"
                },
                {
                  "hovertemplate": "Category=%{x}<br>Price Increase Percentage=%{y}<extra></extra>",
                  "legendgroup": "kedi-kumu",
                  "marker": {
                    "color": "#19d3f3",
                    "symbol": "circle"
                  },
                  "mode": "markers",
                  "name": "kedi-kumu",
                  "orientation": "v",
                  "showlegend": true,
                  "type": "scatter",
                  "x": [
                    "kedi-kumu"
                  ],
                  "xaxis": "x",
                  "y": [
                    41.80327868852459
                  ],
                  "yaxis": "y"
                },
                {
                  "hovertemplate": "Category=%{x}<br>Price Increase Percentage=%{y}<extra></extra>",
                  "legendgroup": "tost-makineleri",
                  "marker": {
                    "color": "#FF6692",
                    "symbol": "circle"
                  },
                  "mode": "markers",
                  "name": "tost-makineleri",
                  "orientation": "v",
                  "showlegend": true,
                  "type": "scatter",
                  "x": [
                    "tost-makineleri"
                  ],
                  "xaxis": "x",
                  "y": [
                    41.359525992006375
                  ],
                  "yaxis": "y"
                },
                {
                  "hovertemplate": "Category=%{x}<br>Price Increase Percentage=%{y}<extra></extra>",
                  "legendgroup": "playstation-4-ps4-oyunlari",
                  "marker": {
                    "color": "#B6E880",
                    "symbol": "circle"
                  },
                  "mode": "markers",
                  "name": "playstation-4-ps4-oyunlari",
                  "orientation": "v",
                  "showlegend": true,
                  "type": "scatter",
                  "x": [
                    "playstation-4-ps4-oyunlari"
                  ],
                  "xaxis": "x",
                  "y": [
                    41.27666451195863
                  ],
                  "yaxis": "y"
                },
                {
                  "hovertemplate": "Category=%{x}<br>Price Increase Percentage=%{y}<extra></extra>",
                  "legendgroup": "puzzle-aksesuarlari",
                  "marker": {
                    "color": "#FF97FF",
                    "symbol": "circle"
                  },
                  "mode": "markers",
                  "name": "puzzle-aksesuarlari",
                  "orientation": "v",
                  "showlegend": true,
                  "type": "scatter",
                  "x": [
                    "puzzle-aksesuarlari"
                  ],
                  "xaxis": "x",
                  "y": [
                    40.92712842712842
                  ],
                  "yaxis": "y"
                },
                {
                  "hovertemplate": "Category=%{x}<br>Price Increase Percentage=%{y}<extra></extra>",
                  "legendgroup": "direksiyon-seti",
                  "marker": {
                    "color": "#FECB52",
                    "symbol": "circle"
                  },
                  "mode": "markers",
                  "name": "direksiyon-seti",
                  "orientation": "v",
                  "showlegend": true,
                  "type": "scatter",
                  "x": [
                    "direksiyon-seti"
                  ],
                  "xaxis": "x",
                  "y": [
                    40.45533606989454
                  ],
                  "yaxis": "y"
                },
                {
                  "hovertemplate": "Category=%{x}<br>Price Increase Percentage=%{y}<extra></extra>",
                  "legendgroup": "ankastre-mikrodalga-firinlar",
                  "marker": {
                    "color": "#636efa",
                    "symbol": "circle"
                  },
                  "mode": "markers",
                  "name": "ankastre-mikrodalga-firinlar",
                  "orientation": "v",
                  "showlegend": true,
                  "type": "scatter",
                  "x": [
                    "ankastre-mikrodalga-firinlar"
                  ],
                  "xaxis": "x",
                  "y": [
                    40.2245088868101
                  ],
                  "yaxis": "y"
                },
                {
                  "hovertemplate": "Category=%{x}<br>Price Increase Percentage=%{y}<extra></extra>",
                  "legendgroup": "tiras-jelleri-kopukleri-kremleri",
                  "marker": {
                    "color": "#EF553B",
                    "symbol": "circle"
                  },
                  "mode": "markers",
                  "name": "tiras-jelleri-kopukleri-kremleri",
                  "orientation": "v",
                  "showlegend": true,
                  "type": "scatter",
                  "x": [
                    "tiras-jelleri-kopukleri-kremleri"
                  ],
                  "xaxis": "x",
                  "y": [
                    40
                  ],
                  "yaxis": "y"
                },
                {
                  "hovertemplate": "Category=%{x}<br>Price Increase Percentage=%{y}<extra></extra>",
                  "legendgroup": "espresso-makinesi",
                  "marker": {
                    "color": "#00cc96",
                    "symbol": "circle"
                  },
                  "mode": "markers",
                  "name": "espresso-makinesi",
                  "orientation": "v",
                  "showlegend": true,
                  "type": "scatter",
                  "x": [
                    "espresso-makinesi"
                  ],
                  "xaxis": "x",
                  "y": [
                    39.52857142857143
                  ],
                  "yaxis": "y"
                },
                {
                  "hovertemplate": "Category=%{x}<br>Price Increase Percentage=%{y}<extra></extra>",
                  "legendgroup": "fon-perde",
                  "marker": {
                    "color": "#ab63fa",
                    "symbol": "circle"
                  },
                  "mode": "markers",
                  "name": "fon-perde",
                  "orientation": "v",
                  "showlegend": true,
                  "type": "scatter",
                  "x": [
                    "fon-perde"
                  ],
                  "xaxis": "x",
                  "y": [
                    39.24050632911392
                  ],
                  "yaxis": "y"
                },
                {
                  "hovertemplate": "Category=%{x}<br>Price Increase Percentage=%{y}<extra></extra>",
                  "legendgroup": "oyuncu-mouse-pad",
                  "marker": {
                    "color": "#FFA15A",
                    "symbol": "circle"
                  },
                  "mode": "markers",
                  "name": "oyuncu-mouse-pad",
                  "orientation": "v",
                  "showlegend": true,
                  "type": "scatter",
                  "x": [
                    "oyuncu-mouse-pad"
                  ],
                  "xaxis": "x",
                  "y": [
                    38.95348837209303
                  ],
                  "yaxis": "y"
                },
                {
                  "hovertemplate": "Category=%{x}<br>Price Increase Percentage=%{y}<extra></extra>",
                  "legendgroup": "makyaj-temizleyicileri",
                  "marker": {
                    "color": "#19d3f3",
                    "symbol": "circle"
                  },
                  "mode": "markers",
                  "name": "makyaj-temizleyicileri",
                  "orientation": "v",
                  "showlegend": true,
                  "type": "scatter",
                  "x": [
                    "makyaj-temizleyicileri"
                  ],
                  "xaxis": "x",
                  "y": [
                    38.23529411764706
                  ],
                  "yaxis": "y"
                },
                {
                  "hovertemplate": "Category=%{x}<br>Price Increase Percentage=%{y}<extra></extra>",
                  "legendgroup": "cep-telefonu-sarj-cihazi",
                  "marker": {
                    "color": "#FF6692",
                    "symbol": "circle"
                  },
                  "mode": "markers",
                  "name": "cep-telefonu-sarj-cihazi",
                  "orientation": "v",
                  "showlegend": true,
                  "type": "scatter",
                  "x": [
                    "cep-telefonu-sarj-cihazi"
                  ],
                  "xaxis": "x",
                  "y": [
                    37.14650011769552
                  ],
                  "yaxis": "y"
                },
                {
                  "hovertemplate": "Category=%{x}<br>Price Increase Percentage=%{y}<extra></extra>",
                  "legendgroup": "oyuncu-koltugu",
                  "marker": {
                    "color": "#B6E880",
                    "symbol": "circle"
                  },
                  "mode": "markers",
                  "name": "oyuncu-koltugu",
                  "orientation": "v",
                  "showlegend": true,
                  "type": "scatter",
                  "x": [
                    "oyuncu-koltugu"
                  ],
                  "xaxis": "x",
                  "y": [
                    36.40300704726691
                  ],
                  "yaxis": "y"
                },
                {
                  "hovertemplate": "Category=%{x}<br>Price Increase Percentage=%{y}<extra></extra>",
                  "legendgroup": "mikrodalga-firinlar",
                  "marker": {
                    "color": "#FF97FF",
                    "symbol": "circle"
                  },
                  "mode": "markers",
                  "name": "mikrodalga-firinlar",
                  "orientation": "v",
                  "showlegend": true,
                  "type": "scatter",
                  "x": [
                    "mikrodalga-firinlar"
                  ],
                  "xaxis": "x",
                  "y": [
                    36.20211056456793
                  ],
                  "yaxis": "y"
                },
                {
                  "hovertemplate": "Category=%{x}<br>Price Increase Percentage=%{y}<extra></extra>",
                  "legendgroup": "ps5",
                  "marker": {
                    "color": "#FECB52",
                    "symbol": "circle"
                  },
                  "mode": "markers",
                  "name": "ps5",
                  "orientation": "v",
                  "showlegend": true,
                  "type": "scatter",
                  "x": [
                    "ps5"
                  ],
                  "xaxis": "x",
                  "y": [
                    35.57326172156566
                  ],
                  "yaxis": "y"
                },
                {
                  "hovertemplate": "Category=%{x}<br>Price Increase Percentage=%{y}<extra></extra>",
                  "legendgroup": "kahve-makineleri",
                  "marker": {
                    "color": "#636efa",
                    "symbol": "circle"
                  },
                  "mode": "markers",
                  "name": "kahve-makineleri",
                  "orientation": "v",
                  "showlegend": true,
                  "type": "scatter",
                  "x": [
                    "kahve-makineleri"
                  ],
                  "xaxis": "x",
                  "y": [
                    35.41473358078477
                  ],
                  "yaxis": "y"
                },
                {
                  "hovertemplate": "Category=%{x}<br>Price Increase Percentage=%{y}<extra></extra>",
                  "legendgroup": "erkek-t-shirt",
                  "marker": {
                    "color": "#EF553B",
                    "symbol": "circle"
                  },
                  "mode": "markers",
                  "name": "erkek-t-shirt",
                  "orientation": "v",
                  "showlegend": true,
                  "type": "scatter",
                  "x": [
                    "erkek-t-shirt"
                  ],
                  "xaxis": "x",
                  "y": [
                    34.91561181434599
                  ],
                  "yaxis": "y"
                },
                {
                  "hovertemplate": "Category=%{x}<br>Price Increase Percentage=%{y}<extra></extra>",
                  "legendgroup": "su-isiticilari-kettle",
                  "marker": {
                    "color": "#00cc96",
                    "symbol": "circle"
                  },
                  "mode": "markers",
                  "name": "su-isiticilari-kettle",
                  "orientation": "v",
                  "showlegend": true,
                  "type": "scatter",
                  "x": [
                    "su-isiticilari-kettle"
                  ],
                  "xaxis": "x",
                  "y": [
                    34.89911609452347
                  ],
                  "yaxis": "y"
                },
                {
                  "hovertemplate": "Category=%{x}<br>Price Increase Percentage=%{y}<extra></extra>",
                  "legendgroup": "masa-lambasi",
                  "marker": {
                    "color": "#ab63fa",
                    "symbol": "circle"
                  },
                  "mode": "markers",
                  "name": "masa-lambasi",
                  "orientation": "v",
                  "showlegend": true,
                  "type": "scatter",
                  "x": [
                    "masa-lambasi"
                  ],
                  "xaxis": "x",
                  "y": [
                    34.729663007415404
                  ],
                  "yaxis": "y"
                },
                {
                  "hovertemplate": "Category=%{x}<br>Price Increase Percentage=%{y}<extra></extra>",
                  "legendgroup": "akilli-saat",
                  "marker": {
                    "color": "#FFA15A",
                    "symbol": "circle"
                  },
                  "mode": "markers",
                  "name": "akilli-saat",
                  "orientation": "v",
                  "showlegend": true,
                  "type": "scatter",
                  "x": [
                    "akilli-saat"
                  ],
                  "xaxis": "x",
                  "y": [
                    33.65781774517586
                  ],
                  "yaxis": "y"
                },
                {
                  "hovertemplate": "Category=%{x}<br>Price Increase Percentage=%{y}<extra></extra>",
                  "legendgroup": "waffle-makinesi",
                  "marker": {
                    "color": "#19d3f3",
                    "symbol": "circle"
                  },
                  "mode": "markers",
                  "name": "waffle-makinesi",
                  "orientation": "v",
                  "showlegend": true,
                  "type": "scatter",
                  "x": [
                    "waffle-makinesi"
                  ],
                  "xaxis": "x",
                  "y": [
                    33.482142857142854
                  ],
                  "yaxis": "y"
                },
                {
                  "hovertemplate": "Category=%{x}<br>Price Increase Percentage=%{y}<extra></extra>",
                  "legendgroup": "bluetooth-hoparlor",
                  "marker": {
                    "color": "#FF6692",
                    "symbol": "circle"
                  },
                  "mode": "markers",
                  "name": "bluetooth-hoparlor",
                  "orientation": "v",
                  "showlegend": true,
                  "type": "scatter",
                  "x": [
                    "bluetooth-hoparlor"
                  ],
                  "xaxis": "x",
                  "y": [
                    33.25128536144314
                  ],
                  "yaxis": "y"
                },
                {
                  "hovertemplate": "Category=%{x}<br>Price Increase Percentage=%{y}<extra></extra>",
                  "legendgroup": "hesap-makinesi",
                  "marker": {
                    "color": "#B6E880",
                    "symbol": "circle"
                  },
                  "mode": "markers",
                  "name": "hesap-makinesi",
                  "orientation": "v",
                  "showlegend": true,
                  "type": "scatter",
                  "x": [
                    "hesap-makinesi"
                  ],
                  "xaxis": "x",
                  "y": [
                    32.89473684210527
                  ],
                  "yaxis": "y"
                },
                {
                  "hovertemplate": "Category=%{x}<br>Price Increase Percentage=%{y}<extra></extra>",
                  "legendgroup": "sirt-cantasi-outdoor",
                  "marker": {
                    "color": "#FF97FF",
                    "symbol": "circle"
                  },
                  "mode": "markers",
                  "name": "sirt-cantasi-outdoor",
                  "orientation": "v",
                  "showlegend": true,
                  "type": "scatter",
                  "x": [
                    "sirt-cantasi-outdoor"
                  ],
                  "xaxis": "x",
                  "y": [
                    32.77931354200649
                  ],
                  "yaxis": "y"
                },
                {
                  "hovertemplate": "Category=%{x}<br>Price Increase Percentage=%{y}<extra></extra>",
                  "legendgroup": "kamp-sandalyesi",
                  "marker": {
                    "color": "#FECB52",
                    "symbol": "circle"
                  },
                  "mode": "markers",
                  "name": "kamp-sandalyesi",
                  "orientation": "v",
                  "showlegend": true,
                  "type": "scatter",
                  "x": [
                    "kamp-sandalyesi"
                  ],
                  "xaxis": "x",
                  "y": [
                    32.03125
                  ],
                  "yaxis": "y"
                },
                {
                  "hovertemplate": "Category=%{x}<br>Price Increase Percentage=%{y}<extra></extra>",
                  "legendgroup": "erkek-terlikleri-ve-sandaletleri",
                  "marker": {
                    "color": "#636efa",
                    "symbol": "circle"
                  },
                  "mode": "markers",
                  "name": "erkek-terlikleri-ve-sandaletleri",
                  "orientation": "v",
                  "showlegend": true,
                  "type": "scatter",
                  "x": [
                    "erkek-terlikleri-ve-sandaletleri"
                  ],
                  "xaxis": "x",
                  "y": [
                    31.735994576778214
                  ],
                  "yaxis": "y"
                },
                {
                  "hovertemplate": "Category=%{x}<br>Price Increase Percentage=%{y}<extra></extra>",
                  "legendgroup": "utuler",
                  "marker": {
                    "color": "#EF553B",
                    "symbol": "circle"
                  },
                  "mode": "markers",
                  "name": "utuler",
                  "orientation": "v",
                  "showlegend": true,
                  "type": "scatter",
                  "x": [
                    "utuler"
                  ],
                  "xaxis": "x",
                  "y": [
                    31.670732498318703
                  ],
                  "yaxis": "y"
                },
                {
                  "hovertemplate": "Category=%{x}<br>Price Increase Percentage=%{y}<extra></extra>",
                  "legendgroup": "elektro-gitarlar",
                  "marker": {
                    "color": "#00cc96",
                    "symbol": "circle"
                  },
                  "mode": "markers",
                  "name": "elektro-gitarlar",
                  "orientation": "v",
                  "showlegend": true,
                  "type": "scatter",
                  "x": [
                    "elektro-gitarlar"
                  ],
                  "xaxis": "x",
                  "y": [
                    31.642857142857146
                  ],
                  "yaxis": "y"
                },
                {
                  "hovertemplate": "Category=%{x}<br>Price Increase Percentage=%{y}<extra></extra>",
                  "legendgroup": "fritoz",
                  "marker": {
                    "color": "#ab63fa",
                    "symbol": "circle"
                  },
                  "mode": "markers",
                  "name": "fritoz",
                  "orientation": "v",
                  "showlegend": true,
                  "type": "scatter",
                  "x": [
                    "fritoz"
                  ],
                  "xaxis": "x",
                  "y": [
                    30.979161731009302
                  ],
                  "yaxis": "y"
                },
                {
                  "hovertemplate": "Category=%{x}<br>Price Increase Percentage=%{y}<extra></extra>",
                  "legendgroup": "oyun-konsollari",
                  "marker": {
                    "color": "#FFA15A",
                    "symbol": "circle"
                  },
                  "mode": "markers",
                  "name": "oyun-konsollari",
                  "orientation": "v",
                  "showlegend": true,
                  "type": "scatter",
                  "x": [
                    "oyun-konsollari"
                  ],
                  "xaxis": "x",
                  "y": [
                    30.46371188857283
                  ],
                  "yaxis": "y"
                },
                {
                  "hovertemplate": "Category=%{x}<br>Price Increase Percentage=%{y}<extra></extra>",
                  "legendgroup": "sut",
                  "marker": {
                    "color": "#19d3f3",
                    "symbol": "circle"
                  },
                  "mode": "markers",
                  "name": "sut",
                  "orientation": "v",
                  "showlegend": true,
                  "type": "scatter",
                  "x": [
                    "sut"
                  ],
                  "xaxis": "x",
                  "y": [
                    30.255847953216374
                  ],
                  "yaxis": "y"
                },
                {
                  "hovertemplate": "Category=%{x}<br>Price Increase Percentage=%{y}<extra></extra>",
                  "legendgroup": "termos",
                  "marker": {
                    "color": "#FF6692",
                    "symbol": "circle"
                  },
                  "mode": "markers",
                  "name": "termos",
                  "orientation": "v",
                  "showlegend": true,
                  "type": "scatter",
                  "x": [
                    "termos"
                  ],
                  "xaxis": "x",
                  "y": [
                    29.75304434285182
                  ],
                  "yaxis": "y"
                },
                {
                  "hovertemplate": "Category=%{x}<br>Price Increase Percentage=%{y}<extra></extra>",
                  "legendgroup": "kilim",
                  "marker": {
                    "color": "#B6E880",
                    "symbol": "circle"
                  },
                  "mode": "markers",
                  "name": "kilim",
                  "orientation": "v",
                  "showlegend": true,
                  "type": "scatter",
                  "x": [
                    "kilim"
                  ],
                  "xaxis": "x",
                  "y": [
                    29.345701389629312
                  ],
                  "yaxis": "y"
                },
                {
                  "hovertemplate": "Category=%{x}<br>Price Increase Percentage=%{y}<extra></extra>",
                  "legendgroup": "tripodlar",
                  "marker": {
                    "color": "#FF97FF",
                    "symbol": "circle"
                  },
                  "mode": "markers",
                  "name": "tripodlar",
                  "orientation": "v",
                  "showlegend": true,
                  "type": "scatter",
                  "x": [
                    "tripodlar"
                  ],
                  "xaxis": "x",
                  "y": [
                    29.078014184397162
                  ],
                  "yaxis": "y"
                },
                {
                  "hovertemplate": "Category=%{x}<br>Price Increase Percentage=%{y}<extra></extra>",
                  "legendgroup": "cep-telefonu-kilifi",
                  "marker": {
                    "color": "#FECB52",
                    "symbol": "circle"
                  },
                  "mode": "markers",
                  "name": "cep-telefonu-kilifi",
                  "orientation": "v",
                  "showlegend": true,
                  "type": "scatter",
                  "x": [
                    "cep-telefonu-kilifi"
                  ],
                  "xaxis": "x",
                  "y": [
                    28.96607181517335
                  ],
                  "yaxis": "y"
                },
                {
                  "hovertemplate": "Category=%{x}<br>Price Increase Percentage=%{y}<extra></extra>",
                  "legendgroup": "cakmak",
                  "marker": {
                    "color": "#636efa",
                    "symbol": "circle"
                  },
                  "mode": "markers",
                  "name": "cakmak",
                  "orientation": "v",
                  "showlegend": true,
                  "type": "scatter",
                  "x": [
                    "cakmak"
                  ],
                  "xaxis": "x",
                  "y": [
                    28.817204301075268
                  ],
                  "yaxis": "y"
                },
                {
                  "hovertemplate": "Category=%{x}<br>Price Increase Percentage=%{y}<extra></extra>",
                  "legendgroup": "el-bakimi",
                  "marker": {
                    "color": "#EF553B",
                    "symbol": "circle"
                  },
                  "mode": "markers",
                  "name": "el-bakimi",
                  "orientation": "v",
                  "showlegend": true,
                  "type": "scatter",
                  "x": [
                    "el-bakimi"
                  ],
                  "xaxis": "x",
                  "y": [
                    28.28054298642534
                  ],
                  "yaxis": "y"
                },
                {
                  "hovertemplate": "Category=%{x}<br>Price Increase Percentage=%{y}<extra></extra>",
                  "legendgroup": "mutfak-havlusu",
                  "marker": {
                    "color": "#00cc96",
                    "symbol": "circle"
                  },
                  "mode": "markers",
                  "name": "mutfak-havlusu",
                  "orientation": "v",
                  "showlegend": true,
                  "type": "scatter",
                  "x": [
                    "mutfak-havlusu"
                  ],
                  "xaxis": "x",
                  "y": [
                    27.27272727272727
                  ],
                  "yaxis": "y"
                },
                {
                  "hovertemplate": "Category=%{x}<br>Price Increase Percentage=%{y}<extra></extra>",
                  "legendgroup": "nevresim-takimi",
                  "marker": {
                    "color": "#ab63fa",
                    "symbol": "circle"
                  },
                  "mode": "markers",
                  "name": "nevresim-takimi",
                  "orientation": "v",
                  "showlegend": true,
                  "type": "scatter",
                  "x": [
                    "nevresim-takimi"
                  ],
                  "xaxis": "x",
                  "y": [
                    27.09030100334448
                  ],
                  "yaxis": "y"
                },
                {
                  "hovertemplate": "Category=%{x}<br>Price Increase Percentage=%{y}<extra></extra>",
                  "legendgroup": "sac-kurutma-makineleri",
                  "marker": {
                    "color": "#FFA15A",
                    "symbol": "circle"
                  },
                  "mode": "markers",
                  "name": "sac-kurutma-makineleri",
                  "orientation": "v",
                  "showlegend": true,
                  "type": "scatter",
                  "x": [
                    "sac-kurutma-makineleri"
                  ],
                  "xaxis": "x",
                  "y": [
                    27.054261867729856
                  ],
                  "yaxis": "y"
                },
                {
                  "hovertemplate": "Category=%{x}<br>Price Increase Percentage=%{y}<extra></extra>",
                  "legendgroup": "erkek-bakim-seti",
                  "marker": {
                    "color": "#19d3f3",
                    "symbol": "circle"
                  },
                  "mode": "markers",
                  "name": "erkek-bakim-seti",
                  "orientation": "v",
                  "showlegend": true,
                  "type": "scatter",
                  "x": [
                    "erkek-bakim-seti"
                  ],
                  "xaxis": "x",
                  "y": [
                    26.550598476605003
                  ],
                  "yaxis": "y"
                },
                {
                  "hovertemplate": "Category=%{x}<br>Price Increase Percentage=%{y}<extra></extra>",
                  "legendgroup": "monitor",
                  "marker": {
                    "color": "#FF6692",
                    "symbol": "circle"
                  },
                  "mode": "markers",
                  "name": "monitor",
                  "orientation": "v",
                  "showlegend": true,
                  "type": "scatter",
                  "x": [
                    "monitor"
                  ],
                  "xaxis": "x",
                  "y": [
                    26.543938251764956
                  ],
                  "yaxis": "y"
                },
                {
                  "hovertemplate": "Category=%{x}<br>Price Increase Percentage=%{y}<extra></extra>",
                  "legendgroup": "pratik-mutfak-gerecleri",
                  "marker": {
                    "color": "#B6E880",
                    "symbol": "circle"
                  },
                  "mode": "markers",
                  "name": "pratik-mutfak-gerecleri",
                  "orientation": "v",
                  "showlegend": true,
                  "type": "scatter",
                  "x": [
                    "pratik-mutfak-gerecleri"
                  ],
                  "xaxis": "x",
                  "y": [
                    26.119402985074625
                  ],
                  "yaxis": "y"
                },
                {
                  "hovertemplate": "Category=%{x}<br>Price Increase Percentage=%{y}<extra></extra>",
                  "legendgroup": "matara",
                  "marker": {
                    "color": "#FF97FF",
                    "symbol": "circle"
                  },
                  "mode": "markers",
                  "name": "matara",
                  "orientation": "v",
                  "showlegend": true,
                  "type": "scatter",
                  "x": [
                    "matara"
                  ],
                  "xaxis": "x",
                  "y": [
                    24.761218237520275
                  ],
                  "yaxis": "y"
                },
                {
                  "hovertemplate": "Category=%{x}<br>Price Increase Percentage=%{y}<extra></extra>",
                  "legendgroup": "cimbizlar",
                  "marker": {
                    "color": "#FECB52",
                    "symbol": "circle"
                  },
                  "mode": "markers",
                  "name": "cimbizlar",
                  "orientation": "v",
                  "showlegend": true,
                  "type": "scatter",
                  "x": [
                    "cimbizlar"
                  ],
                  "xaxis": "x",
                  "y": [
                    24.48051948051948
                  ],
                  "yaxis": "y"
                },
                {
                  "hovertemplate": "Category=%{x}<br>Price Increase Percentage=%{y}<extra></extra>",
                  "legendgroup": "dus-banyo-perdesi",
                  "marker": {
                    "color": "#636efa",
                    "symbol": "circle"
                  },
                  "mode": "markers",
                  "name": "dus-banyo-perdesi",
                  "orientation": "v",
                  "showlegend": true,
                  "type": "scatter",
                  "x": [
                    "dus-banyo-perdesi"
                  ],
                  "xaxis": "x",
                  "y": [
                    24.46043165467626
                  ],
                  "yaxis": "y"
                },
                {
                  "hovertemplate": "Category=%{x}<br>Price Increase Percentage=%{y}<extra></extra>",
                  "legendgroup": "defter",
                  "marker": {
                    "color": "#EF553B",
                    "symbol": "circle"
                  },
                  "mode": "markers",
                  "name": "defter",
                  "orientation": "v",
                  "showlegend": true,
                  "type": "scatter",
                  "x": [
                    "defter"
                  ],
                  "xaxis": "x",
                  "y": [
                    24.130457710255737
                  ],
                  "yaxis": "y"
                },
                {
                  "hovertemplate": "Category=%{x}<br>Price Increase Percentage=%{y}<extra></extra>",
                  "legendgroup": "vantilatorler",
                  "marker": {
                    "color": "#00cc96",
                    "symbol": "circle"
                  },
                  "mode": "markers",
                  "name": "vantilatorler",
                  "orientation": "v",
                  "showlegend": true,
                  "type": "scatter",
                  "x": [
                    "vantilatorler"
                  ],
                  "xaxis": "x",
                  "y": [
                    24.01964382646191
                  ],
                  "yaxis": "y"
                },
                {
                  "hovertemplate": "Category=%{x}<br>Price Increase Percentage=%{y}<extra></extra>",
                  "legendgroup": "studyo-ve-sahne-ekipmanlari",
                  "marker": {
                    "color": "#ab63fa",
                    "symbol": "circle"
                  },
                  "mode": "markers",
                  "name": "studyo-ve-sahne-ekipmanlari",
                  "orientation": "v",
                  "showlegend": true,
                  "type": "scatter",
                  "x": [
                    "studyo-ve-sahne-ekipmanlari"
                  ],
                  "xaxis": "x",
                  "y": [
                    22.891381164541404
                  ],
                  "yaxis": "y"
                },
                {
                  "hovertemplate": "Category=%{x}<br>Price Increase Percentage=%{y}<extra></extra>",
                  "legendgroup": "agda-urunleri-ve-makineleri",
                  "marker": {
                    "color": "#FFA15A",
                    "symbol": "circle"
                  },
                  "mode": "markers",
                  "name": "agda-urunleri-ve-makineleri",
                  "orientation": "v",
                  "showlegend": true,
                  "type": "scatter",
                  "x": [
                    "agda-urunleri-ve-makineleri"
                  ],
                  "xaxis": "x",
                  "y": [
                    22.22222222222222
                  ],
                  "yaxis": "y"
                },
                {
                  "hovertemplate": "Category=%{x}<br>Price Increase Percentage=%{y}<extra></extra>",
                  "legendgroup": "toka-tac-sac-bandi",
                  "marker": {
                    "color": "#19d3f3",
                    "symbol": "circle"
                  },
                  "mode": "markers",
                  "name": "toka-tac-sac-bandi",
                  "orientation": "v",
                  "showlegend": true,
                  "type": "scatter",
                  "x": [
                    "toka-tac-sac-bandi"
                  ],
                  "xaxis": "x",
                  "y": [
                    21.428571428571427
                  ],
                  "yaxis": "y"
                },
                {
                  "hovertemplate": "Category=%{x}<br>Price Increase Percentage=%{y}<extra></extra>",
                  "legendgroup": "sehir-gezi-bisikletleri",
                  "marker": {
                    "color": "#FF6692",
                    "symbol": "circle"
                  },
                  "mode": "markers",
                  "name": "sehir-gezi-bisikletleri",
                  "orientation": "v",
                  "showlegend": true,
                  "type": "scatter",
                  "x": [
                    "sehir-gezi-bisikletleri"
                  ],
                  "xaxis": "x",
                  "y": [
                    20.81075702399538
                  ],
                  "yaxis": "y"
                },
                {
                  "hovertemplate": "Category=%{x}<br>Price Increase Percentage=%{y}<extra></extra>",
                  "legendgroup": "kartuslar",
                  "marker": {
                    "color": "#B6E880",
                    "symbol": "circle"
                  },
                  "mode": "markers",
                  "name": "kartuslar",
                  "orientation": "v",
                  "showlegend": true,
                  "type": "scatter",
                  "x": [
                    "kartuslar"
                  ],
                  "xaxis": "x",
                  "y": [
                    20.642201834862387
                  ],
                  "yaxis": "y"
                },
                {
                  "hovertemplate": "Category=%{x}<br>Price Increase Percentage=%{y}<extra></extra>",
                  "legendgroup": "baskul-tartilar",
                  "marker": {
                    "color": "#FF97FF",
                    "symbol": "circle"
                  },
                  "mode": "markers",
                  "name": "baskul-tartilar",
                  "orientation": "v",
                  "showlegend": true,
                  "type": "scatter",
                  "x": [
                    "baskul-tartilar"
                  ],
                  "xaxis": "x",
                  "y": [
                    20.622324602771528
                  ],
                  "yaxis": "y"
                },
                {
                  "hovertemplate": "Category=%{x}<br>Price Increase Percentage=%{y}<extra></extra>",
                  "legendgroup": "islemci",
                  "marker": {
                    "color": "#FECB52",
                    "symbol": "circle"
                  },
                  "mode": "markers",
                  "name": "islemci",
                  "orientation": "v",
                  "showlegend": true,
                  "type": "scatter",
                  "x": [
                    "islemci"
                  ],
                  "xaxis": "x",
                  "y": [
                    20.398962091868338
                  ],
                  "yaxis": "y"
                },
                {
                  "hovertemplate": "Category=%{x}<br>Price Increase Percentage=%{y}<extra></extra>",
                  "legendgroup": "mat",
                  "marker": {
                    "color": "#636efa",
                    "symbol": "circle"
                  },
                  "mode": "markers",
                  "name": "mat",
                  "orientation": "v",
                  "showlegend": true,
                  "type": "scatter",
                  "x": [
                    "mat"
                  ],
                  "xaxis": "x",
                  "y": [
                    19.607843137254903
                  ],
                  "yaxis": "y"
                },
                {
                  "hovertemplate": "Category=%{x}<br>Price Increase Percentage=%{y}<extra></extra>",
                  "legendgroup": "ram",
                  "marker": {
                    "color": "#EF553B",
                    "symbol": "circle"
                  },
                  "mode": "markers",
                  "name": "ram",
                  "orientation": "v",
                  "showlegend": true,
                  "type": "scatter",
                  "x": [
                    "ram"
                  ],
                  "xaxis": "x",
                  "y": [
                    19.447186574531095
                  ],
                  "yaxis": "y"
                },
                {
                  "hovertemplate": "Category=%{x}<br>Price Increase Percentage=%{y}<extra></extra>",
                  "legendgroup": "sarjli-supurge",
                  "marker": {
                    "color": "#00cc96",
                    "symbol": "circle"
                  },
                  "mode": "markers",
                  "name": "sarjli-supurge",
                  "orientation": "v",
                  "showlegend": true,
                  "type": "scatter",
                  "x": [
                    "sarjli-supurge"
                  ],
                  "xaxis": "x",
                  "y": [
                    19.230769230769234
                  ],
                  "yaxis": "y"
                },
                {
                  "hovertemplate": "Category=%{x}<br>Price Increase Percentage=%{y}<extra></extra>",
                  "legendgroup": "tost-makinesi",
                  "marker": {
                    "color": "#ab63fa",
                    "symbol": "circle"
                  },
                  "mode": "markers",
                  "name": "tost-makinesi",
                  "orientation": "v",
                  "showlegend": true,
                  "type": "scatter",
                  "x": [
                    "tost-makinesi"
                  ],
                  "xaxis": "x",
                  "y": [
                    18.23340551034122
                  ],
                  "yaxis": "y"
                },
                {
                  "hovertemplate": "Category=%{x}<br>Price Increase Percentage=%{y}<extra></extra>",
                  "legendgroup": "anahtarlik",
                  "marker": {
                    "color": "#FFA15A",
                    "symbol": "circle"
                  },
                  "mode": "markers",
                  "name": "anahtarlik",
                  "orientation": "v",
                  "showlegend": true,
                  "type": "scatter",
                  "x": [
                    "anahtarlik"
                  ],
                  "xaxis": "x",
                  "y": [
                    17.77777777777778
                  ],
                  "yaxis": "y"
                },
                {
                  "hovertemplate": "Category=%{x}<br>Price Increase Percentage=%{y}<extra></extra>",
                  "legendgroup": "gunes-gozlugu",
                  "marker": {
                    "color": "#19d3f3",
                    "symbol": "circle"
                  },
                  "mode": "markers",
                  "name": "gunes-gozlugu",
                  "orientation": "v",
                  "showlegend": true,
                  "type": "scatter",
                  "x": [
                    "gunes-gozlugu"
                  ],
                  "xaxis": "x",
                  "y": [
                    16.572125093173177
                  ],
                  "yaxis": "y"
                },
                {
                  "hovertemplate": "Category=%{x}<br>Price Increase Percentage=%{y}<extra></extra>",
                  "legendgroup": "tenis-badminton",
                  "marker": {
                    "color": "#FF6692",
                    "symbol": "circle"
                  },
                  "mode": "markers",
                  "name": "tenis-badminton",
                  "orientation": "v",
                  "showlegend": true,
                  "type": "scatter",
                  "x": [
                    "tenis-badminton"
                  ],
                  "xaxis": "x",
                  "y": [
                    16.194331983805668
                  ],
                  "yaxis": "y"
                },
                {
                  "hovertemplate": "Category=%{x}<br>Price Increase Percentage=%{y}<extra></extra>",
                  "legendgroup": "kemanlar",
                  "marker": {
                    "color": "#B6E880",
                    "symbol": "circle"
                  },
                  "mode": "markers",
                  "name": "kemanlar",
                  "orientation": "v",
                  "showlegend": true,
                  "type": "scatter",
                  "x": [
                    "kemanlar"
                  ],
                  "xaxis": "x",
                  "y": [
                    15.080728272071454
                  ],
                  "yaxis": "y"
                },
                {
                  "hovertemplate": "Category=%{x}<br>Price Increase Percentage=%{y}<extra></extra>",
                  "legendgroup": "bayan-sweatshirt",
                  "marker": {
                    "color": "#FF97FF",
                    "symbol": "circle"
                  },
                  "mode": "markers",
                  "name": "bayan-sweatshirt",
                  "orientation": "v",
                  "showlegend": true,
                  "type": "scatter",
                  "x": [
                    "bayan-sweatshirt"
                  ],
                  "xaxis": "x",
                  "y": [
                    13.224181360201511
                  ],
                  "yaxis": "y"
                },
                {
                  "hovertemplate": "Category=%{x}<br>Price Increase Percentage=%{y}<extra></extra>",
                  "legendgroup": "masa-saati",
                  "marker": {
                    "color": "#FECB52",
                    "symbol": "circle"
                  },
                  "mode": "markers",
                  "name": "masa-saati",
                  "orientation": "v",
                  "showlegend": true,
                  "type": "scatter",
                  "x": [
                    "masa-saati"
                  ],
                  "xaxis": "x",
                  "y": [
                    8.256880733944955
                  ],
                  "yaxis": "y"
                },
                {
                  "hovertemplate": "Category=%{x}<br>Price Increase Percentage=%{y}<extra></extra>",
                  "legendgroup": "unisex-bel-cantasi",
                  "marker": {
                    "color": "#636efa",
                    "symbol": "circle"
                  },
                  "mode": "markers",
                  "name": "unisex-bel-cantasi",
                  "orientation": "v",
                  "showlegend": true,
                  "type": "scatter",
                  "x": [
                    "unisex-bel-cantasi"
                  ],
                  "xaxis": "x",
                  "y": [
                    7.8431372549019605
                  ],
                  "yaxis": "y"
                },
                {
                  "hovertemplate": "Category=%{x}<br>Price Increase Percentage=%{y}<extra></extra>",
                  "legendgroup": "el-yuz-havlusu",
                  "marker": {
                    "color": "#EF553B",
                    "symbol": "circle"
                  },
                  "mode": "markers",
                  "name": "el-yuz-havlusu",
                  "orientation": "v",
                  "showlegend": true,
                  "type": "scatter",
                  "x": [
                    "el-yuz-havlusu"
                  ],
                  "xaxis": "x",
                  "y": [
                    2.564102564102564
                  ],
                  "yaxis": "y"
                },
                {
                  "hovertemplate": "Category=%{x}<br>Price Increase Percentage=%{y}<extra></extra>",
                  "legendgroup": "yorgan",
                  "marker": {
                    "color": "#00cc96",
                    "symbol": "circle"
                  },
                  "mode": "markers",
                  "name": "yorgan",
                  "orientation": "v",
                  "showlegend": true,
                  "type": "scatter",
                  "x": [
                    "yorgan"
                  ],
                  "xaxis": "x",
                  "y": [
                    0.6872852233676976
                  ],
                  "yaxis": "y"
                }
              ],
              "layout": {
                "legend": {
                  "title": {
                    "text": "Category"
                  },
                  "tracegroupgap": 0
                },
                "margin": {
                  "t": 60
                },
                "template": {
                  "data": {
                    "bar": [
                      {
                        "error_x": {
                          "color": "#2a3f5f"
                        },
                        "error_y": {
                          "color": "#2a3f5f"
                        },
                        "marker": {
                          "line": {
                            "color": "#E5ECF6",
                            "width": 0.5
                          },
                          "pattern": {
                            "fillmode": "overlay",
                            "size": 10,
                            "solidity": 0.2
                          }
                        },
                        "type": "bar"
                      }
                    ],
                    "barpolar": [
                      {
                        "marker": {
                          "line": {
                            "color": "#E5ECF6",
                            "width": 0.5
                          },
                          "pattern": {
                            "fillmode": "overlay",
                            "size": 10,
                            "solidity": 0.2
                          }
                        },
                        "type": "barpolar"
                      }
                    ],
                    "carpet": [
                      {
                        "aaxis": {
                          "endlinecolor": "#2a3f5f",
                          "gridcolor": "white",
                          "linecolor": "white",
                          "minorgridcolor": "white",
                          "startlinecolor": "#2a3f5f"
                        },
                        "baxis": {
                          "endlinecolor": "#2a3f5f",
                          "gridcolor": "white",
                          "linecolor": "white",
                          "minorgridcolor": "white",
                          "startlinecolor": "#2a3f5f"
                        },
                        "type": "carpet"
                      }
                    ],
                    "choropleth": [
                      {
                        "colorbar": {
                          "outlinewidth": 0,
                          "ticks": ""
                        },
                        "type": "choropleth"
                      }
                    ],
                    "contour": [
                      {
                        "colorbar": {
                          "outlinewidth": 0,
                          "ticks": ""
                        },
                        "colorscale": [
                          [
                            0,
                            "#0d0887"
                          ],
                          [
                            0.1111111111111111,
                            "#46039f"
                          ],
                          [
                            0.2222222222222222,
                            "#7201a8"
                          ],
                          [
                            0.3333333333333333,
                            "#9c179e"
                          ],
                          [
                            0.4444444444444444,
                            "#bd3786"
                          ],
                          [
                            0.5555555555555556,
                            "#d8576b"
                          ],
                          [
                            0.6666666666666666,
                            "#ed7953"
                          ],
                          [
                            0.7777777777777778,
                            "#fb9f3a"
                          ],
                          [
                            0.8888888888888888,
                            "#fdca26"
                          ],
                          [
                            1,
                            "#f0f921"
                          ]
                        ],
                        "type": "contour"
                      }
                    ],
                    "contourcarpet": [
                      {
                        "colorbar": {
                          "outlinewidth": 0,
                          "ticks": ""
                        },
                        "type": "contourcarpet"
                      }
                    ],
                    "heatmap": [
                      {
                        "colorbar": {
                          "outlinewidth": 0,
                          "ticks": ""
                        },
                        "colorscale": [
                          [
                            0,
                            "#0d0887"
                          ],
                          [
                            0.1111111111111111,
                            "#46039f"
                          ],
                          [
                            0.2222222222222222,
                            "#7201a8"
                          ],
                          [
                            0.3333333333333333,
                            "#9c179e"
                          ],
                          [
                            0.4444444444444444,
                            "#bd3786"
                          ],
                          [
                            0.5555555555555556,
                            "#d8576b"
                          ],
                          [
                            0.6666666666666666,
                            "#ed7953"
                          ],
                          [
                            0.7777777777777778,
                            "#fb9f3a"
                          ],
                          [
                            0.8888888888888888,
                            "#fdca26"
                          ],
                          [
                            1,
                            "#f0f921"
                          ]
                        ],
                        "type": "heatmap"
                      }
                    ],
                    "heatmapgl": [
                      {
                        "colorbar": {
                          "outlinewidth": 0,
                          "ticks": ""
                        },
                        "colorscale": [
                          [
                            0,
                            "#0d0887"
                          ],
                          [
                            0.1111111111111111,
                            "#46039f"
                          ],
                          [
                            0.2222222222222222,
                            "#7201a8"
                          ],
                          [
                            0.3333333333333333,
                            "#9c179e"
                          ],
                          [
                            0.4444444444444444,
                            "#bd3786"
                          ],
                          [
                            0.5555555555555556,
                            "#d8576b"
                          ],
                          [
                            0.6666666666666666,
                            "#ed7953"
                          ],
                          [
                            0.7777777777777778,
                            "#fb9f3a"
                          ],
                          [
                            0.8888888888888888,
                            "#fdca26"
                          ],
                          [
                            1,
                            "#f0f921"
                          ]
                        ],
                        "type": "heatmapgl"
                      }
                    ],
                    "histogram": [
                      {
                        "marker": {
                          "pattern": {
                            "fillmode": "overlay",
                            "size": 10,
                            "solidity": 0.2
                          }
                        },
                        "type": "histogram"
                      }
                    ],
                    "histogram2d": [
                      {
                        "colorbar": {
                          "outlinewidth": 0,
                          "ticks": ""
                        },
                        "colorscale": [
                          [
                            0,
                            "#0d0887"
                          ],
                          [
                            0.1111111111111111,
                            "#46039f"
                          ],
                          [
                            0.2222222222222222,
                            "#7201a8"
                          ],
                          [
                            0.3333333333333333,
                            "#9c179e"
                          ],
                          [
                            0.4444444444444444,
                            "#bd3786"
                          ],
                          [
                            0.5555555555555556,
                            "#d8576b"
                          ],
                          [
                            0.6666666666666666,
                            "#ed7953"
                          ],
                          [
                            0.7777777777777778,
                            "#fb9f3a"
                          ],
                          [
                            0.8888888888888888,
                            "#fdca26"
                          ],
                          [
                            1,
                            "#f0f921"
                          ]
                        ],
                        "type": "histogram2d"
                      }
                    ],
                    "histogram2dcontour": [
                      {
                        "colorbar": {
                          "outlinewidth": 0,
                          "ticks": ""
                        },
                        "colorscale": [
                          [
                            0,
                            "#0d0887"
                          ],
                          [
                            0.1111111111111111,
                            "#46039f"
                          ],
                          [
                            0.2222222222222222,
                            "#7201a8"
                          ],
                          [
                            0.3333333333333333,
                            "#9c179e"
                          ],
                          [
                            0.4444444444444444,
                            "#bd3786"
                          ],
                          [
                            0.5555555555555556,
                            "#d8576b"
                          ],
                          [
                            0.6666666666666666,
                            "#ed7953"
                          ],
                          [
                            0.7777777777777778,
                            "#fb9f3a"
                          ],
                          [
                            0.8888888888888888,
                            "#fdca26"
                          ],
                          [
                            1,
                            "#f0f921"
                          ]
                        ],
                        "type": "histogram2dcontour"
                      }
                    ],
                    "mesh3d": [
                      {
                        "colorbar": {
                          "outlinewidth": 0,
                          "ticks": ""
                        },
                        "type": "mesh3d"
                      }
                    ],
                    "parcoords": [
                      {
                        "line": {
                          "colorbar": {
                            "outlinewidth": 0,
                            "ticks": ""
                          }
                        },
                        "type": "parcoords"
                      }
                    ],
                    "pie": [
                      {
                        "automargin": true,
                        "type": "pie"
                      }
                    ],
                    "scatter": [
                      {
                        "fillpattern": {
                          "fillmode": "overlay",
                          "size": 10,
                          "solidity": 0.2
                        },
                        "type": "scatter"
                      }
                    ],
                    "scatter3d": [
                      {
                        "line": {
                          "colorbar": {
                            "outlinewidth": 0,
                            "ticks": ""
                          }
                        },
                        "marker": {
                          "colorbar": {
                            "outlinewidth": 0,
                            "ticks": ""
                          }
                        },
                        "type": "scatter3d"
                      }
                    ],
                    "scattercarpet": [
                      {
                        "marker": {
                          "colorbar": {
                            "outlinewidth": 0,
                            "ticks": ""
                          }
                        },
                        "type": "scattercarpet"
                      }
                    ],
                    "scattergeo": [
                      {
                        "marker": {
                          "colorbar": {
                            "outlinewidth": 0,
                            "ticks": ""
                          }
                        },
                        "type": "scattergeo"
                      }
                    ],
                    "scattergl": [
                      {
                        "marker": {
                          "colorbar": {
                            "outlinewidth": 0,
                            "ticks": ""
                          }
                        },
                        "type": "scattergl"
                      }
                    ],
                    "scattermapbox": [
                      {
                        "marker": {
                          "colorbar": {
                            "outlinewidth": 0,
                            "ticks": ""
                          }
                        },
                        "type": "scattermapbox"
                      }
                    ],
                    "scatterpolar": [
                      {
                        "marker": {
                          "colorbar": {
                            "outlinewidth": 0,
                            "ticks": ""
                          }
                        },
                        "type": "scatterpolar"
                      }
                    ],
                    "scatterpolargl": [
                      {
                        "marker": {
                          "colorbar": {
                            "outlinewidth": 0,
                            "ticks": ""
                          }
                        },
                        "type": "scatterpolargl"
                      }
                    ],
                    "scatterternary": [
                      {
                        "marker": {
                          "colorbar": {
                            "outlinewidth": 0,
                            "ticks": ""
                          }
                        },
                        "type": "scatterternary"
                      }
                    ],
                    "surface": [
                      {
                        "colorbar": {
                          "outlinewidth": 0,
                          "ticks": ""
                        },
                        "colorscale": [
                          [
                            0,
                            "#0d0887"
                          ],
                          [
                            0.1111111111111111,
                            "#46039f"
                          ],
                          [
                            0.2222222222222222,
                            "#7201a8"
                          ],
                          [
                            0.3333333333333333,
                            "#9c179e"
                          ],
                          [
                            0.4444444444444444,
                            "#bd3786"
                          ],
                          [
                            0.5555555555555556,
                            "#d8576b"
                          ],
                          [
                            0.6666666666666666,
                            "#ed7953"
                          ],
                          [
                            0.7777777777777778,
                            "#fb9f3a"
                          ],
                          [
                            0.8888888888888888,
                            "#fdca26"
                          ],
                          [
                            1,
                            "#f0f921"
                          ]
                        ],
                        "type": "surface"
                      }
                    ],
                    "table": [
                      {
                        "cells": {
                          "fill": {
                            "color": "#EBF0F8"
                          },
                          "line": {
                            "color": "white"
                          }
                        },
                        "header": {
                          "fill": {
                            "color": "#C8D4E3"
                          },
                          "line": {
                            "color": "white"
                          }
                        },
                        "type": "table"
                      }
                    ]
                  },
                  "layout": {
                    "annotationdefaults": {
                      "arrowcolor": "#2a3f5f",
                      "arrowhead": 0,
                      "arrowwidth": 1
                    },
                    "autotypenumbers": "strict",
                    "coloraxis": {
                      "colorbar": {
                        "outlinewidth": 0,
                        "ticks": ""
                      }
                    },
                    "colorscale": {
                      "diverging": [
                        [
                          0,
                          "#8e0152"
                        ],
                        [
                          0.1,
                          "#c51b7d"
                        ],
                        [
                          0.2,
                          "#de77ae"
                        ],
                        [
                          0.3,
                          "#f1b6da"
                        ],
                        [
                          0.4,
                          "#fde0ef"
                        ],
                        [
                          0.5,
                          "#f7f7f7"
                        ],
                        [
                          0.6,
                          "#e6f5d0"
                        ],
                        [
                          0.7,
                          "#b8e186"
                        ],
                        [
                          0.8,
                          "#7fbc41"
                        ],
                        [
                          0.9,
                          "#4d9221"
                        ],
                        [
                          1,
                          "#276419"
                        ]
                      ],
                      "sequential": [
                        [
                          0,
                          "#0d0887"
                        ],
                        [
                          0.1111111111111111,
                          "#46039f"
                        ],
                        [
                          0.2222222222222222,
                          "#7201a8"
                        ],
                        [
                          0.3333333333333333,
                          "#9c179e"
                        ],
                        [
                          0.4444444444444444,
                          "#bd3786"
                        ],
                        [
                          0.5555555555555556,
                          "#d8576b"
                        ],
                        [
                          0.6666666666666666,
                          "#ed7953"
                        ],
                        [
                          0.7777777777777778,
                          "#fb9f3a"
                        ],
                        [
                          0.8888888888888888,
                          "#fdca26"
                        ],
                        [
                          1,
                          "#f0f921"
                        ]
                      ],
                      "sequentialminus": [
                        [
                          0,
                          "#0d0887"
                        ],
                        [
                          0.1111111111111111,
                          "#46039f"
                        ],
                        [
                          0.2222222222222222,
                          "#7201a8"
                        ],
                        [
                          0.3333333333333333,
                          "#9c179e"
                        ],
                        [
                          0.4444444444444444,
                          "#bd3786"
                        ],
                        [
                          0.5555555555555556,
                          "#d8576b"
                        ],
                        [
                          0.6666666666666666,
                          "#ed7953"
                        ],
                        [
                          0.7777777777777778,
                          "#fb9f3a"
                        ],
                        [
                          0.8888888888888888,
                          "#fdca26"
                        ],
                        [
                          1,
                          "#f0f921"
                        ]
                      ]
                    },
                    "colorway": [
                      "#636efa",
                      "#EF553B",
                      "#00cc96",
                      "#ab63fa",
                      "#FFA15A",
                      "#19d3f3",
                      "#FF6692",
                      "#B6E880",
                      "#FF97FF",
                      "#FECB52"
                    ],
                    "font": {
                      "color": "#2a3f5f"
                    },
                    "geo": {
                      "bgcolor": "white",
                      "lakecolor": "white",
                      "landcolor": "#E5ECF6",
                      "showlakes": true,
                      "showland": true,
                      "subunitcolor": "white"
                    },
                    "hoverlabel": {
                      "align": "left"
                    },
                    "hovermode": "closest",
                    "mapbox": {
                      "style": "light"
                    },
                    "paper_bgcolor": "white",
                    "plot_bgcolor": "#E5ECF6",
                    "polar": {
                      "angularaxis": {
                        "gridcolor": "white",
                        "linecolor": "white",
                        "ticks": ""
                      },
                      "bgcolor": "#E5ECF6",
                      "radialaxis": {
                        "gridcolor": "white",
                        "linecolor": "white",
                        "ticks": ""
                      }
                    },
                    "scene": {
                      "xaxis": {
                        "backgroundcolor": "#E5ECF6",
                        "gridcolor": "white",
                        "gridwidth": 2,
                        "linecolor": "white",
                        "showbackground": true,
                        "ticks": "",
                        "zerolinecolor": "white"
                      },
                      "yaxis": {
                        "backgroundcolor": "#E5ECF6",
                        "gridcolor": "white",
                        "gridwidth": 2,
                        "linecolor": "white",
                        "showbackground": true,
                        "ticks": "",
                        "zerolinecolor": "white"
                      },
                      "zaxis": {
                        "backgroundcolor": "#E5ECF6",
                        "gridcolor": "white",
                        "gridwidth": 2,
                        "linecolor": "white",
                        "showbackground": true,
                        "ticks": "",
                        "zerolinecolor": "white"
                      }
                    },
                    "shapedefaults": {
                      "line": {
                        "color": "#2a3f5f"
                      }
                    },
                    "ternary": {
                      "aaxis": {
                        "gridcolor": "white",
                        "linecolor": "white",
                        "ticks": ""
                      },
                      "baxis": {
                        "gridcolor": "white",
                        "linecolor": "white",
                        "ticks": ""
                      },
                      "bgcolor": "#E5ECF6",
                      "caxis": {
                        "gridcolor": "white",
                        "linecolor": "white",
                        "ticks": ""
                      }
                    },
                    "title": {
                      "x": 0.05
                    },
                    "xaxis": {
                      "automargin": true,
                      "gridcolor": "white",
                      "linecolor": "white",
                      "ticks": "",
                      "title": {
                        "standoff": 15
                      },
                      "zerolinecolor": "white",
                      "zerolinewidth": 2
                    },
                    "yaxis": {
                      "automargin": true,
                      "gridcolor": "white",
                      "linecolor": "white",
                      "ticks": "",
                      "title": {
                        "standoff": 15
                      },
                      "zerolinecolor": "white",
                      "zerolinewidth": 2
                    }
                  }
                },
                "xaxis": {
                  "anchor": "y",
                  "categoryarray": [
                    "tonerler",
                    "banyo-bakim-aksesuarlari",
                    "mouse",
                    "not-defteri-bloknot",
                    "dizustu-bilgisayar-aksesuarlari",
                    "bilgisayar-oyunlari",
                    "turk-kahve-makinesi",
                    "flash-bellekler",
                    "ezme-krem-cikolata",
                    "oyuncu-mouse",
                    "dudak-bakimi-koruyucu",
                    "isiticilar",
                    "mini-midi-firinlar",
                    "akilli-bileklik",
                    "bitkisel-besin-destekleri",
                    "dis-macunlari",
                    "yara-bandi",
                    "mouse-pad",
                    "yazi-tahtasi-kalemi",
                    "anakart",
                    "sivi-deterjan",
                    "klasik-gitarlar",
                    "spiralli-defter",
                    "tasinabilir-sarj-cihazi-powerbank",
                    "kursun-kalem-ucu-min",
                    "oyuncu-klavyesi",
                    "kulaklik",
                    "tavla",
                    "kahvaltilik-gevrek",
                    "calisma-koltugu",
                    "erkek-cuzdan",
                    "akim-korumali-priz",
                    "kalemlik-kalem-kutusu",
                    "suluk-matara",
                    "silgi",
                    "tukenmez-kalem",
                    "cep-telefonlari",
                    "cay-makineleri",
                    "dis-macunu",
                    "klavye",
                    "tencere-tava-setleri",
                    "kedi-mamasi",
                    "baskul",
                    "bluetooth-kulaklik",
                    "oyuncu-kulakliklari",
                    "tirnak-makasi",
                    "oyun-kolu",
                    "cep-telefonu",
                    "tiras-bicagi",
                    "dermokozmetik-urunler",
                    "bilgisayar-cevirici-ve-adaptoru",
                    "sicak-su-torbasi",
                    "sanal-gerceklik-gozlugu",
                    "vazelin",
                    "cep-telefonu-kalemi",
                    "mekanik-kursun-versatil-kalem",
                    "fotograf-makinesi",
                    "yetiskinler-icin-oyunlar",
                    "epilasyon-aleti",
                    "gunes-kremi",
                    "tiras-makinesi",
                    "buzdolabi",
                    "tv-box",
                    "bulasik-makineleri",
                    "dis-fircalari",
                    "laptop-notebook",
                    "fosforlu-kalem",
                    "ezme-perle-kedi-mamasi",
                    "klavye-mouse",
                    "bilgisayar-kasasi",
                    "harita-kure",
                    "kopek-mamasi",
                    "kettle",
                    "termoslar",
                    "buzdolaplari",
                    "kagit-havlu",
                    "suluk",
                    "bulasik-makinesi-tableti",
                    "tiras-makineleri",
                    "xbox-series",
                    "robot-supurge",
                    "sampuan-ve-sac-kremi",
                    "terlik",
                    "kamp-aksesuari",
                    "dizustu-bilgisayar",
                    "tablet-pc",
                    "spor-ayakkabi",
                    "ocaklar",
                    "tasinabilir-hard-diskler",
                    "alarmli-saatler-radyolar",
                    "kutu-oyunu",
                    "nintendo-switch",
                    "hijyenik-pedler-ve-tamponlar",
                    "tiras-bicagi-ve-yedekleri",
                    "bayan-cuzdan",
                    "sprey-deodorantlar",
                    "makarna",
                    "ocak",
                    "dijital-fotograf-makineleri",
                    "rimeller-maskaralar",
                    "stor-perde",
                    "kadin-terlikleri-ve-sandaletleri",
                    "sabunlar",
                    "satranc",
                    "dus-jelleri-ve-banyo-kopukleri",
                    "kupa",
                    "tablet",
                    "unisex-gunes-gozlukleri",
                    "cok-satan-kitaplar",
                    "toplar",
                    "konsol-aksesuarlari",
                    "camasir-askisi",
                    "gunes-kremleri-ve-losyonlari",
                    "tuvalet-kagidi",
                    "oje",
                    "kedi-kumu",
                    "tost-makineleri",
                    "playstation-4-ps4-oyunlari",
                    "puzzle-aksesuarlari",
                    "direksiyon-seti",
                    "ankastre-mikrodalga-firinlar",
                    "tiras-jelleri-kopukleri-kremleri",
                    "espresso-makinesi",
                    "fon-perde",
                    "oyuncu-mouse-pad",
                    "makyaj-temizleyicileri",
                    "cep-telefonu-sarj-cihazi",
                    "oyuncu-koltugu",
                    "mikrodalga-firinlar",
                    "ps5",
                    "kahve-makineleri",
                    "erkek-t-shirt",
                    "su-isiticilari-kettle",
                    "masa-lambasi",
                    "akilli-saat",
                    "waffle-makinesi",
                    "bluetooth-hoparlor",
                    "hesap-makinesi",
                    "sirt-cantasi-outdoor",
                    "kamp-sandalyesi",
                    "erkek-terlikleri-ve-sandaletleri",
                    "utuler",
                    "elektro-gitarlar",
                    "fritoz",
                    "oyun-konsollari",
                    "sut",
                    "termos",
                    "kilim",
                    "tripodlar",
                    "cep-telefonu-kilifi",
                    "cakmak",
                    "el-bakimi",
                    "mutfak-havlusu",
                    "nevresim-takimi",
                    "sac-kurutma-makineleri",
                    "erkek-bakim-seti",
                    "monitor",
                    "pratik-mutfak-gerecleri",
                    "matara",
                    "cimbizlar",
                    "dus-banyo-perdesi",
                    "defter",
                    "vantilatorler",
                    "studyo-ve-sahne-ekipmanlari",
                    "agda-urunleri-ve-makineleri",
                    "toka-tac-sac-bandi",
                    "sehir-gezi-bisikletleri",
                    "kartuslar",
                    "baskul-tartilar",
                    "islemci",
                    "mat",
                    "ram",
                    "sarjli-supurge",
                    "tost-makinesi",
                    "anahtarlik",
                    "gunes-gozlugu",
                    "tenis-badminton",
                    "kemanlar",
                    "bayan-sweatshirt",
                    "masa-saati",
                    "unisex-bel-cantasi",
                    "el-yuz-havlusu",
                    "yorgan"
                  ],
                  "categoryorder": "array",
                  "domain": [
                    0,
                    1
                  ],
                  "title": {
                    "text": "Category"
                  }
                },
                "yaxis": {
                  "anchor": "x",
                  "domain": [
                    0,
                    1
                  ],
                  "title": {
                    "text": "Price Increase Percentage"
                  }
                }
              }
            }
          },
          "metadata": {},
          "output_type": "display_data"
        }
      ],
      "source": [
        "# Do the same thing with interactive plot\n",
        "fig = px.scatter(avg_price_increase_by_category, x='Category', y='Price Increase Percentage', color='Category')\n",
        "fig.show()"
      ]
    },
    {
      "attachments": {},
      "cell_type": "markdown",
      "metadata": {},
      "source": [
        "# ***Finally..***\n",
        "## Average Price Increase Percentage in our bucket.\n",
        "\n",
        "\n",
        "---\n",
        "\n"
      ]
    },
    {
      "cell_type": "code",
      "execution_count": 159,
      "metadata": {
        "id": "3IGscopiFEwx",
        "outputId": "0b4131ff-61cd-49e8-bf53-e86897aa9871"
      },
      "outputs": [
        {
          "name": "stdout",
          "output_type": "stream",
          "text": [
            "Average Price Increase Percentage:  61.72444017304235\n",
            "Inflation:  61.72444017304235\n"
          ]
        }
      ],
      "source": [
        "# Calculating the enflation according to the dataset that we have\n",
        "def inflationCalculator(df):\n",
        "    # Calculating the average price increase percentage\n",
        "    avgPriceIncreasePercentage = df['Price Increase Percentage'].mean()\n",
        "\n",
        "    print(\"Average Price Increase Percentage: \", avgPriceIncreasePercentage)\n",
        "    \n",
        "    # Calculating the inflation\n",
        "    inflation = avgPriceIncreasePercentage / 100 + 1  # 100 + 1 because the percentage is in the form of 1.05, 1.1, 1.15 etc.\n",
        "\n",
        "    inflationPercentage = (inflation - 1) * 100\n",
        "    \n",
        "    # Returning the inflation\n",
        "    return inflationPercentage\n",
        "\n",
        "print(\"Inflation: \", inflationCalculator(df))"
      ]
    },
    {
      "attachments": {},
      "cell_type": "markdown",
      "metadata": {},
      "source": [
        "## Comparing Average Price Increase Percentage and Officially Announced Inflation Rates\n",
        "\n",
        "# Officially Announced Inflation Rates:\n",
        "\n",
        "* TUIK: 2022 1 June 2022 to 2023 End of May 39.59%\n",
        "* ENAG: 2022 1 June 2022 to 2023 End of May 109.01%\n",
        "* ITO: 2022 1 June 2022 to 2023 End of May 56.05%\n",
        "* Calculated Average Annual Price Increase Rate in Daily Expenditures of Young People 61.72"
      ]
    },
    {
      "cell_type": "code",
      "execution_count": 160,
      "metadata": {},
      "outputs": [
        {
          "name": "stdout",
          "output_type": "stream",
          "text": [
            "Average Price Increase Percentage:  61.72444017304235\n"
          ]
        },
        {
          "data": {
            "application/vnd.plotly.v1+json": {
              "config": {
                "plotlyServerURL": "https://plot.ly"
              },
              "data": [
                {
                  "alignmentgroup": "True",
                  "hovertemplate": "Source=%{x}<br>Inflation Rate=%{marker.color}<extra></extra>",
                  "legendgroup": "",
                  "marker": {
                    "color": [
                      109.01,
                      61.72,
                      56.05,
                      39.59
                    ],
                    "coloraxis": "coloraxis",
                    "pattern": {
                      "shape": ""
                    }
                  },
                  "name": "",
                  "offsetgroup": "",
                  "orientation": "v",
                  "showlegend": false,
                  "text": [
                    109.01,
                    61.72,
                    56.05,
                    39.59
                  ],
                  "textposition": "auto",
                  "type": "bar",
                  "x": [
                    "ENAG",
                    "Our Avg Increase",
                    "ITO",
                    "TUIK"
                  ],
                  "xaxis": "x",
                  "y": [
                    109.01,
                    61.72,
                    56.05,
                    39.59
                  ],
                  "yaxis": "y"
                }
              ],
              "layout": {
                "barmode": "relative",
                "coloraxis": {
                  "colorbar": {
                    "title": {
                      "text": "Inflation Rate"
                    }
                  },
                  "colorscale": [
                    [
                      0,
                      "#440154"
                    ],
                    [
                      0.1111111111111111,
                      "#482878"
                    ],
                    [
                      0.2222222222222222,
                      "#3e4989"
                    ],
                    [
                      0.3333333333333333,
                      "#31688e"
                    ],
                    [
                      0.4444444444444444,
                      "#26828e"
                    ],
                    [
                      0.5555555555555556,
                      "#1f9e89"
                    ],
                    [
                      0.6666666666666666,
                      "#35b779"
                    ],
                    [
                      0.7777777777777778,
                      "#6ece58"
                    ],
                    [
                      0.8888888888888888,
                      "#b5de2b"
                    ],
                    [
                      1,
                      "#fde725"
                    ]
                  ]
                },
                "legend": {
                  "tracegroupgap": 0
                },
                "margin": {
                  "t": 60
                },
                "template": {
                  "data": {
                    "bar": [
                      {
                        "error_x": {
                          "color": "#2a3f5f"
                        },
                        "error_y": {
                          "color": "#2a3f5f"
                        },
                        "marker": {
                          "line": {
                            "color": "#E5ECF6",
                            "width": 0.5
                          },
                          "pattern": {
                            "fillmode": "overlay",
                            "size": 10,
                            "solidity": 0.2
                          }
                        },
                        "type": "bar"
                      }
                    ],
                    "barpolar": [
                      {
                        "marker": {
                          "line": {
                            "color": "#E5ECF6",
                            "width": 0.5
                          },
                          "pattern": {
                            "fillmode": "overlay",
                            "size": 10,
                            "solidity": 0.2
                          }
                        },
                        "type": "barpolar"
                      }
                    ],
                    "carpet": [
                      {
                        "aaxis": {
                          "endlinecolor": "#2a3f5f",
                          "gridcolor": "white",
                          "linecolor": "white",
                          "minorgridcolor": "white",
                          "startlinecolor": "#2a3f5f"
                        },
                        "baxis": {
                          "endlinecolor": "#2a3f5f",
                          "gridcolor": "white",
                          "linecolor": "white",
                          "minorgridcolor": "white",
                          "startlinecolor": "#2a3f5f"
                        },
                        "type": "carpet"
                      }
                    ],
                    "choropleth": [
                      {
                        "colorbar": {
                          "outlinewidth": 0,
                          "ticks": ""
                        },
                        "type": "choropleth"
                      }
                    ],
                    "contour": [
                      {
                        "colorbar": {
                          "outlinewidth": 0,
                          "ticks": ""
                        },
                        "colorscale": [
                          [
                            0,
                            "#0d0887"
                          ],
                          [
                            0.1111111111111111,
                            "#46039f"
                          ],
                          [
                            0.2222222222222222,
                            "#7201a8"
                          ],
                          [
                            0.3333333333333333,
                            "#9c179e"
                          ],
                          [
                            0.4444444444444444,
                            "#bd3786"
                          ],
                          [
                            0.5555555555555556,
                            "#d8576b"
                          ],
                          [
                            0.6666666666666666,
                            "#ed7953"
                          ],
                          [
                            0.7777777777777778,
                            "#fb9f3a"
                          ],
                          [
                            0.8888888888888888,
                            "#fdca26"
                          ],
                          [
                            1,
                            "#f0f921"
                          ]
                        ],
                        "type": "contour"
                      }
                    ],
                    "contourcarpet": [
                      {
                        "colorbar": {
                          "outlinewidth": 0,
                          "ticks": ""
                        },
                        "type": "contourcarpet"
                      }
                    ],
                    "heatmap": [
                      {
                        "colorbar": {
                          "outlinewidth": 0,
                          "ticks": ""
                        },
                        "colorscale": [
                          [
                            0,
                            "#0d0887"
                          ],
                          [
                            0.1111111111111111,
                            "#46039f"
                          ],
                          [
                            0.2222222222222222,
                            "#7201a8"
                          ],
                          [
                            0.3333333333333333,
                            "#9c179e"
                          ],
                          [
                            0.4444444444444444,
                            "#bd3786"
                          ],
                          [
                            0.5555555555555556,
                            "#d8576b"
                          ],
                          [
                            0.6666666666666666,
                            "#ed7953"
                          ],
                          [
                            0.7777777777777778,
                            "#fb9f3a"
                          ],
                          [
                            0.8888888888888888,
                            "#fdca26"
                          ],
                          [
                            1,
                            "#f0f921"
                          ]
                        ],
                        "type": "heatmap"
                      }
                    ],
                    "heatmapgl": [
                      {
                        "colorbar": {
                          "outlinewidth": 0,
                          "ticks": ""
                        },
                        "colorscale": [
                          [
                            0,
                            "#0d0887"
                          ],
                          [
                            0.1111111111111111,
                            "#46039f"
                          ],
                          [
                            0.2222222222222222,
                            "#7201a8"
                          ],
                          [
                            0.3333333333333333,
                            "#9c179e"
                          ],
                          [
                            0.4444444444444444,
                            "#bd3786"
                          ],
                          [
                            0.5555555555555556,
                            "#d8576b"
                          ],
                          [
                            0.6666666666666666,
                            "#ed7953"
                          ],
                          [
                            0.7777777777777778,
                            "#fb9f3a"
                          ],
                          [
                            0.8888888888888888,
                            "#fdca26"
                          ],
                          [
                            1,
                            "#f0f921"
                          ]
                        ],
                        "type": "heatmapgl"
                      }
                    ],
                    "histogram": [
                      {
                        "marker": {
                          "pattern": {
                            "fillmode": "overlay",
                            "size": 10,
                            "solidity": 0.2
                          }
                        },
                        "type": "histogram"
                      }
                    ],
                    "histogram2d": [
                      {
                        "colorbar": {
                          "outlinewidth": 0,
                          "ticks": ""
                        },
                        "colorscale": [
                          [
                            0,
                            "#0d0887"
                          ],
                          [
                            0.1111111111111111,
                            "#46039f"
                          ],
                          [
                            0.2222222222222222,
                            "#7201a8"
                          ],
                          [
                            0.3333333333333333,
                            "#9c179e"
                          ],
                          [
                            0.4444444444444444,
                            "#bd3786"
                          ],
                          [
                            0.5555555555555556,
                            "#d8576b"
                          ],
                          [
                            0.6666666666666666,
                            "#ed7953"
                          ],
                          [
                            0.7777777777777778,
                            "#fb9f3a"
                          ],
                          [
                            0.8888888888888888,
                            "#fdca26"
                          ],
                          [
                            1,
                            "#f0f921"
                          ]
                        ],
                        "type": "histogram2d"
                      }
                    ],
                    "histogram2dcontour": [
                      {
                        "colorbar": {
                          "outlinewidth": 0,
                          "ticks": ""
                        },
                        "colorscale": [
                          [
                            0,
                            "#0d0887"
                          ],
                          [
                            0.1111111111111111,
                            "#46039f"
                          ],
                          [
                            0.2222222222222222,
                            "#7201a8"
                          ],
                          [
                            0.3333333333333333,
                            "#9c179e"
                          ],
                          [
                            0.4444444444444444,
                            "#bd3786"
                          ],
                          [
                            0.5555555555555556,
                            "#d8576b"
                          ],
                          [
                            0.6666666666666666,
                            "#ed7953"
                          ],
                          [
                            0.7777777777777778,
                            "#fb9f3a"
                          ],
                          [
                            0.8888888888888888,
                            "#fdca26"
                          ],
                          [
                            1,
                            "#f0f921"
                          ]
                        ],
                        "type": "histogram2dcontour"
                      }
                    ],
                    "mesh3d": [
                      {
                        "colorbar": {
                          "outlinewidth": 0,
                          "ticks": ""
                        },
                        "type": "mesh3d"
                      }
                    ],
                    "parcoords": [
                      {
                        "line": {
                          "colorbar": {
                            "outlinewidth": 0,
                            "ticks": ""
                          }
                        },
                        "type": "parcoords"
                      }
                    ],
                    "pie": [
                      {
                        "automargin": true,
                        "type": "pie"
                      }
                    ],
                    "scatter": [
                      {
                        "fillpattern": {
                          "fillmode": "overlay",
                          "size": 10,
                          "solidity": 0.2
                        },
                        "type": "scatter"
                      }
                    ],
                    "scatter3d": [
                      {
                        "line": {
                          "colorbar": {
                            "outlinewidth": 0,
                            "ticks": ""
                          }
                        },
                        "marker": {
                          "colorbar": {
                            "outlinewidth": 0,
                            "ticks": ""
                          }
                        },
                        "type": "scatter3d"
                      }
                    ],
                    "scattercarpet": [
                      {
                        "marker": {
                          "colorbar": {
                            "outlinewidth": 0,
                            "ticks": ""
                          }
                        },
                        "type": "scattercarpet"
                      }
                    ],
                    "scattergeo": [
                      {
                        "marker": {
                          "colorbar": {
                            "outlinewidth": 0,
                            "ticks": ""
                          }
                        },
                        "type": "scattergeo"
                      }
                    ],
                    "scattergl": [
                      {
                        "marker": {
                          "colorbar": {
                            "outlinewidth": 0,
                            "ticks": ""
                          }
                        },
                        "type": "scattergl"
                      }
                    ],
                    "scattermapbox": [
                      {
                        "marker": {
                          "colorbar": {
                            "outlinewidth": 0,
                            "ticks": ""
                          }
                        },
                        "type": "scattermapbox"
                      }
                    ],
                    "scatterpolar": [
                      {
                        "marker": {
                          "colorbar": {
                            "outlinewidth": 0,
                            "ticks": ""
                          }
                        },
                        "type": "scatterpolar"
                      }
                    ],
                    "scatterpolargl": [
                      {
                        "marker": {
                          "colorbar": {
                            "outlinewidth": 0,
                            "ticks": ""
                          }
                        },
                        "type": "scatterpolargl"
                      }
                    ],
                    "scatterternary": [
                      {
                        "marker": {
                          "colorbar": {
                            "outlinewidth": 0,
                            "ticks": ""
                          }
                        },
                        "type": "scatterternary"
                      }
                    ],
                    "surface": [
                      {
                        "colorbar": {
                          "outlinewidth": 0,
                          "ticks": ""
                        },
                        "colorscale": [
                          [
                            0,
                            "#0d0887"
                          ],
                          [
                            0.1111111111111111,
                            "#46039f"
                          ],
                          [
                            0.2222222222222222,
                            "#7201a8"
                          ],
                          [
                            0.3333333333333333,
                            "#9c179e"
                          ],
                          [
                            0.4444444444444444,
                            "#bd3786"
                          ],
                          [
                            0.5555555555555556,
                            "#d8576b"
                          ],
                          [
                            0.6666666666666666,
                            "#ed7953"
                          ],
                          [
                            0.7777777777777778,
                            "#fb9f3a"
                          ],
                          [
                            0.8888888888888888,
                            "#fdca26"
                          ],
                          [
                            1,
                            "#f0f921"
                          ]
                        ],
                        "type": "surface"
                      }
                    ],
                    "table": [
                      {
                        "cells": {
                          "fill": {
                            "color": "#EBF0F8"
                          },
                          "line": {
                            "color": "white"
                          }
                        },
                        "header": {
                          "fill": {
                            "color": "#C8D4E3"
                          },
                          "line": {
                            "color": "white"
                          }
                        },
                        "type": "table"
                      }
                    ]
                  },
                  "layout": {
                    "annotationdefaults": {
                      "arrowcolor": "#2a3f5f",
                      "arrowhead": 0,
                      "arrowwidth": 1
                    },
                    "autotypenumbers": "strict",
                    "coloraxis": {
                      "colorbar": {
                        "outlinewidth": 0,
                        "ticks": ""
                      }
                    },
                    "colorscale": {
                      "diverging": [
                        [
                          0,
                          "#8e0152"
                        ],
                        [
                          0.1,
                          "#c51b7d"
                        ],
                        [
                          0.2,
                          "#de77ae"
                        ],
                        [
                          0.3,
                          "#f1b6da"
                        ],
                        [
                          0.4,
                          "#fde0ef"
                        ],
                        [
                          0.5,
                          "#f7f7f7"
                        ],
                        [
                          0.6,
                          "#e6f5d0"
                        ],
                        [
                          0.7,
                          "#b8e186"
                        ],
                        [
                          0.8,
                          "#7fbc41"
                        ],
                        [
                          0.9,
                          "#4d9221"
                        ],
                        [
                          1,
                          "#276419"
                        ]
                      ],
                      "sequential": [
                        [
                          0,
                          "#0d0887"
                        ],
                        [
                          0.1111111111111111,
                          "#46039f"
                        ],
                        [
                          0.2222222222222222,
                          "#7201a8"
                        ],
                        [
                          0.3333333333333333,
                          "#9c179e"
                        ],
                        [
                          0.4444444444444444,
                          "#bd3786"
                        ],
                        [
                          0.5555555555555556,
                          "#d8576b"
                        ],
                        [
                          0.6666666666666666,
                          "#ed7953"
                        ],
                        [
                          0.7777777777777778,
                          "#fb9f3a"
                        ],
                        [
                          0.8888888888888888,
                          "#fdca26"
                        ],
                        [
                          1,
                          "#f0f921"
                        ]
                      ],
                      "sequentialminus": [
                        [
                          0,
                          "#0d0887"
                        ],
                        [
                          0.1111111111111111,
                          "#46039f"
                        ],
                        [
                          0.2222222222222222,
                          "#7201a8"
                        ],
                        [
                          0.3333333333333333,
                          "#9c179e"
                        ],
                        [
                          0.4444444444444444,
                          "#bd3786"
                        ],
                        [
                          0.5555555555555556,
                          "#d8576b"
                        ],
                        [
                          0.6666666666666666,
                          "#ed7953"
                        ],
                        [
                          0.7777777777777778,
                          "#fb9f3a"
                        ],
                        [
                          0.8888888888888888,
                          "#fdca26"
                        ],
                        [
                          1,
                          "#f0f921"
                        ]
                      ]
                    },
                    "colorway": [
                      "#636efa",
                      "#EF553B",
                      "#00cc96",
                      "#ab63fa",
                      "#FFA15A",
                      "#19d3f3",
                      "#FF6692",
                      "#B6E880",
                      "#FF97FF",
                      "#FECB52"
                    ],
                    "font": {
                      "color": "#2a3f5f"
                    },
                    "geo": {
                      "bgcolor": "white",
                      "lakecolor": "white",
                      "landcolor": "#E5ECF6",
                      "showlakes": true,
                      "showland": true,
                      "subunitcolor": "white"
                    },
                    "hoverlabel": {
                      "align": "left"
                    },
                    "hovermode": "closest",
                    "mapbox": {
                      "style": "light"
                    },
                    "paper_bgcolor": "white",
                    "plot_bgcolor": "#E5ECF6",
                    "polar": {
                      "angularaxis": {
                        "gridcolor": "white",
                        "linecolor": "white",
                        "ticks": ""
                      },
                      "bgcolor": "#E5ECF6",
                      "radialaxis": {
                        "gridcolor": "white",
                        "linecolor": "white",
                        "ticks": ""
                      }
                    },
                    "scene": {
                      "xaxis": {
                        "backgroundcolor": "#E5ECF6",
                        "gridcolor": "white",
                        "gridwidth": 2,
                        "linecolor": "white",
                        "showbackground": true,
                        "ticks": "",
                        "zerolinecolor": "white"
                      },
                      "yaxis": {
                        "backgroundcolor": "#E5ECF6",
                        "gridcolor": "white",
                        "gridwidth": 2,
                        "linecolor": "white",
                        "showbackground": true,
                        "ticks": "",
                        "zerolinecolor": "white"
                      },
                      "zaxis": {
                        "backgroundcolor": "#E5ECF6",
                        "gridcolor": "white",
                        "gridwidth": 2,
                        "linecolor": "white",
                        "showbackground": true,
                        "ticks": "",
                        "zerolinecolor": "white"
                      }
                    },
                    "shapedefaults": {
                      "line": {
                        "color": "#2a3f5f"
                      }
                    },
                    "ternary": {
                      "aaxis": {
                        "gridcolor": "white",
                        "linecolor": "white",
                        "ticks": ""
                      },
                      "baxis": {
                        "gridcolor": "white",
                        "linecolor": "white",
                        "ticks": ""
                      },
                      "bgcolor": "#E5ECF6",
                      "caxis": {
                        "gridcolor": "white",
                        "linecolor": "white",
                        "ticks": ""
                      }
                    },
                    "title": {
                      "x": 0.05
                    },
                    "xaxis": {
                      "automargin": true,
                      "gridcolor": "white",
                      "linecolor": "white",
                      "ticks": "",
                      "title": {
                        "standoff": 15
                      },
                      "zerolinecolor": "white",
                      "zerolinewidth": 2
                    },
                    "yaxis": {
                      "automargin": true,
                      "gridcolor": "white",
                      "linecolor": "white",
                      "ticks": "",
                      "title": {
                        "standoff": 15
                      },
                      "zerolinecolor": "white",
                      "zerolinewidth": 2
                    }
                  }
                },
                "title": {
                  "text": "Comparison of Inflation Rates"
                },
                "xaxis": {
                  "anchor": "y",
                  "domain": [
                    0,
                    1
                  ],
                  "title": {
                    "text": "Source"
                  }
                },
                "yaxis": {
                  "anchor": "x",
                  "domain": [
                    0,
                    1
                  ],
                  "title": {
                    "text": "Inflation Rate (%)"
                  }
                }
              }
            }
          },
          "metadata": {},
          "output_type": "display_data"
        }
      ],
      "source": [
        "tuik = 39.59\n",
        "enag = 109.01\n",
        "ito = 56.05\n",
        "ourAvgPriceIncreasePercentage = round(inflationCalculator(df),2)\n",
        "\n",
        "labels = ['TUIK', 'ENAG', 'ITO', 'Our Avg Increase']\n",
        "inflation_rates = [tuik, enag, ito, ourAvgPriceIncreasePercentage]\n",
        "\n",
        "dfCompare = pd.DataFrame({\n",
        "    'Source': ['TUIK', 'ENAG', 'ITO', 'Our Avg Increase'],\n",
        "    'Inflation Rate': [tuik, enag, ito, ourAvgPriceIncreasePercentage]\n",
        "})\n",
        "\n",
        "# Sort the DataFrame by 'Inflation Rate' in Descending order\n",
        "dfCompare = dfCompare.sort_values('Inflation Rate', ascending=False)\n",
        "\n",
        "# Create a bar chart\n",
        "fig = px.bar(dfCompare, x='Source', y='Inflation Rate', text='Inflation Rate', color='Inflation Rate', color_continuous_scale='Viridis')\n",
        "\n",
        "# Customize aspect\n",
        "fig.update_layout(title_text='Comparison of Inflation Rates', yaxis=dict(title='Inflation Rate (%)'))\n",
        "\n",
        "fig.show()"
      ]
    },
    {
      "attachments": {},
      "cell_type": "markdown",
      "metadata": {},
      "source": [
        "# As can see from the bar chart above, the officially announced annual inflation rates are not accurately reflecting the average price increase percentage on the youth generation's shopping cart. Therefore, we reject H0."
      ]
    },
    {
      "attachments": {},
      "cell_type": "markdown",
      "metadata": {
        "id": "rczxncZpNPMg"
      },
      "source": [
        "# **Unsupervised Learning**\n",
        "## **K-Means**"
      ]
    },
    {
      "cell_type": "code",
      "execution_count": 161,
      "metadata": {},
      "outputs": [
        {
          "data": {
            "image/png": "[encoded data removed]",
            "text/plain": [
              "<Figure size 640x480 with 1 Axes>"
            ]
          },
          "metadata": {},
          "output_type": "display_data"
        }
      ],
      "source": [
        "df_numeric = df.select_dtypes(include=[np.number])\n",
        "scaler = StandardScaler()\n",
        "df_scaled = scaler.fit_transform(df_numeric)\n",
        "\n",
        "#CHOOSING THE RIGHT NUMBER OF CLUSTERS WITH ELBOW METHOD\n",
        "wcss = []\n",
        "# Create all possible cluster solutions with a loop\n",
        "for i in range(1, 11):\n",
        "    kmeans = KMeans(n_clusters=i, init='k-means++', max_iter=300, n_init=10, random_state=0)\n",
        "    kmeans.fit(df_scaled)\n",
        "    wcss.append(kmeans.inertia_)\n",
        "    \n",
        "# Plot the results\n",
        "plt.plot(range(1, 11), wcss)\n",
        "plt.title('Elbow Method')\n",
        "plt.xlabel('Number of clusters')\n",
        "plt.ylabel('WCSS')\n",
        "\n",
        "plt.plot(4, wcss[4-1], marker='o', markersize=10, markeredgewidth=2, markeredgecolor='r', markerfacecolor='None')\n",
        "plt.show()"
      ]
    },
    {
      "cell_type": "code",
      "execution_count": 162,
      "metadata": {},
      "outputs": [
        {
          "name": "stderr",
          "output_type": "stream",
          "text": [
            "c:\\Python310\\lib\\site-packages\\sklearn\\cluster\\_kmeans.py:870: FutureWarning:\n",
            "\n",
            "The default value of `n_init` will change from 10 to 'auto' in 1.4. Set the value of `n_init` explicitly to suppress the warning\n",
            "\n"
          ]
        },
        {
          "data": {
            "application/vnd.plotly.v1+json": {
              "config": {
                "plotlyServerURL": "https://plot.ly"
              },
              "data": [
                {
                  "mode": "markers",
                  "name": "Cluster 0",
                  "type": "scatter",
                  "x": [
                    107.61245674740485,
                    113.02631578947368,
                    115.90909090909092,
                    128.93982808022923,
                    128.18791946308724,
                    139.1304347826087,
                    152.77777777777777,
                    172.22222222222223,
                    118.30985915492957,
                    122.22901272292906,
                    113.58574610244989,
                    115.17257090784827,
                    200.3338898163606,
                    107.38916256157636,
                    123.37228714524207,
                    154.5595054095827,
                    137.29977116704805,
                    108.05940134581174,
                    112.61516654854714,
                    126.76950998185117,
                    106.20155038759691,
                    132.8894806924101,
                    136.27254509018036,
                    104.94910494910495,
                    201.84563758389262,
                    142.10526315789474,
                    138.0931131935148,
                    107.29991204925243,
                    138.0931131935148,
                    126.43938322252086,
                    132.54543143982718,
                    106.4516129032258,
                    141.18357487922705,
                    147.82608695652172,
                    147.36842105263156,
                    142.63322884012538,
                    105.26315789473684,
                    116.84782608695652,
                    120,
                    138.66666666666669,
                    142.85714285714286,
                    126.26262626262626,
                    149.36936936936937,
                    109.24369747899159,
                    188.88888888888889,
                    108.77329192546583,
                    123.66863905325445,
                    190.9090909090909,
                    127.27272727272727,
                    152.38095238095238,
                    127.95698924731182,
                    122.27272727272727,
                    181.8181818181818,
                    112.5,
                    212.5,
                    111.11111111111111,
                    110.92436974789916,
                    142.08826695371366,
                    133.33333333333331,
                    200,
                    176.9230769230769,
                    125,
                    109.375,
                    105.71428571428572
                  ],
                  "y": [
                    600,
                    1619,
                    95,
                    799,
                    340,
                    55,
                    91,
                    98,
                    155,
                    39999,
                    959,
                    18890,
                    1799,
                    1263,
                    1338,
                    27999,
                    27999,
                    26900,
                    27000,
                    2499,
                    798,
                    1749,
                    1179,
                    5839,
                    1799,
                    92,
                    16007,
                    16499,
                    16007,
                    16007,
                    18299,
                    64,
                    1997,
                    57,
                    47,
                    774,
                    39,
                    399,
                    66,
                    179,
                    17,
                    448,
                    1384,
                    249,
                    26,
                    2689,
                    378,
                    64,
                    25,
                    689,
                    636,
                    489,
                    899,
                    51,
                    150,
                    19,
                    251,
                    2249,
                    21,
                    15,
                    36,
                    99,
                    134,
                    216
                  ]
                },
                {
                  "mode": "markers",
                  "name": "Cluster 3",
                  "type": "scatter",
                  "x": [
                    90.62003179650239,
                    86.63697104677061,
                    53.333333333333336,
                    82.05128205128204,
                    59.6820809248555,
                    53.191489361702125,
                    80.85106382978722,
                    93.01075268817203,
                    98.22064056939502,
                    96.81159420289856,
                    93.24009324009323,
                    87.5,
                    80.88235294117648,
                    94.73684210526315,
                    94.73684210526315,
                    97.36842105263158,
                    89.58333333333334,
                    53.57142857142857,
                    50.56179775280899,
                    96.96969696969697,
                    100,
                    71.42857142857143,
                    71.42857142857143,
                    58.333333333333336,
                    74.73118279569893,
                    82.26299694189603,
                    79.7768479776848,
                    63.47826086956522,
                    78.75,
                    56.14035087719298,
                    53.81165919282511,
                    53.62318840579711,
                    76.19047619047619,
                    89.43661971830986,
                    55.65217391304348,
                    82.73381294964028,
                    52.8957528957529,
                    80.55447524862493,
                    65.76127755408449,
                    55.052264808362374,
                    84.05797101449275,
                    52.12765957446809,
                    56.42857142857143,
                    61.6,
                    65.68627450980392,
                    89.14120126448893,
                    83.4904939089658,
                    89.47313016474551,
                    89.66280295047419,
                    99.47891994315489,
                    83.16750854635441,
                    89.47839359966314,
                    89.13133736218111,
                    92.48791023052726,
                    95.24263060145721,
                    99.9627889669287,
                    84.33568367205862,
                    100.20497664219658,
                    83.3379632201789,
                    80.55447524862493,
                    81.40486725663717,
                    85.39805607056576,
                    86.1158953275182,
                    80.56151940545004,
                    79.1392774874993,
                    60.53029804592407,
                    70.42362182634311,
                    66.66666666666666,
                    57.65182186234817,
                    56.68202764976959,
                    76.35270541082164,
                    91.66666666666666,
                    62.877320879371226,
                    102.76752767527675,
                    66.3850331925166,
                    57.09651257096513,
                    60.680975390493316,
                    98.01801801801801,
                    80.2156291807665,
                    92.99095607235142,
                    63.789981894990945,
                    70.23461634800033,
                    69.92249354112843,
                    80.01500125010418,
                    59.48788688680059,
                    56.3799594555459,
                    88.06770688213987,
                    101.58883780950076,
                    101.55820348304307,
                    61.993517017828204,
                    57.44640485676342,
                    93.13880126182966,
                    100.0741289844329,
                    94.95596477181746,
                    71.59353348729792,
                    62.59780907668232,
                    63.01798279906177,
                    54.851330203442885,
                    57.23849372384937,
                    64.17033773861968,
                    59.74801922327575,
                    63.897763578274756,
                    97.10060038072925,
                    67.01776784764336,
                    55.90783090783091,
                    97.00085689802913,
                    97.33840304182509,
                    85.20325203252033,
                    64.07474931631722,
                    64.3640350877193,
                    53.535353535353536,
                    55.27108433734939,
                    51.52295802394302,
                    80.6572068707991,
                    88.61583421891605,
                    65.47475235564147,
                    74.07407407407408,
                    71.77033492822966,
                    58.64661654135338,
                    94.09409409409409,
                    79.90970654627539,
                    99.40119760479041,
                    54.78260869565217,
                    67.66872267800467,
                    71.27748691099477,
                    65.06276150627615,
                    87.32142857142857,
                    82.67090620031796,
                    67.96536796536796,
                    58.333333333333336,
                    101.35135135135135,
                    76.51559741024133,
                    59.83263598326359,
                    56.22641509433962,
                    55.96330275229357,
                    86.95652173913044,
                    51.67785234899329,
                    76.5625,
                    69.23076923076923,
                    70.50359712230215,
                    65.57012669482107,
                    65.57012669482107,
                    89.36170212765957,
                    64.79834669338678,
                    62.924883420416876,
                    101.85034456563025,
                    67.66872267800467,
                    94.64849098160605,
                    78.57015298529674,
                    76.47508676980999,
                    78.88491353607633,
                    76.40226101000061,
                    68.74804675292205,
                    89.28008076219321,
                    63.173559868543435,
                    89.28008076219321,
                    61.833688699360344,
                    87.1578947368421,
                    66.16822429906543,
                    70,
                    64.59046085731536,
                    73.15598548972189,
                    65.11627906976744,
                    79.08816003721796,
                    61.442411194833156,
                    56.89931920075275,
                    59.114558396373965,
                    58.192955589586525,
                    75.18796992481202,
                    63.69971936389148,
                    84.61538461538461,
                    80,
                    75.60975609756098,
                    70.58823529411765,
                    57.14285714285714,
                    66.66666666666666,
                    64.28571428571429,
                    75,
                    83.3425936215135,
                    52.25578972674092,
                    65.49344375431332,
                    80,
                    60.86956521739131,
                    100,
                    59.171597633136095,
                    88.23529411764706,
                    59.523809523809526,
                    72.41379310344827,
                    79.54545454545455,
                    77.27272727272727,
                    75,
                    85.48387096774194,
                    52.72727272727272,
                    55.26315789473685,
                    91.81818181818183,
                    52.071005917159766,
                    56.58986175115207,
                    83.87445887445888,
                    82.76762402088774,
                    66.06741573033707,
                    73.33333333333333,
                    100,
                    59.73223480947477,
                    54.23122765196663,
                    73.77279102384293,
                    62,
                    84.03361344537815,
                    57.275215834912615,
                    53.058954393770854,
                    55.172413793103445,
                    72.183908045977,
                    64.70588235294117,
                    57.738095238095234,
                    69.86301369863014,
                    100,
                    85.71428571428571,
                    68.9035350509287,
                    76.31578947368422,
                    58.139534883720934,
                    56.343283582089555,
                    62.5,
                    82.38993710691824,
                    53.57142857142857,
                    58.63636363636363,
                    65.47619047619048,
                    90.68702290076335,
                    50.719424460431654,
                    100,
                    75.63025210084034,
                    52.17391304347826,
                    51.11111111111111,
                    94.15268002165675,
                    51.413658112222706,
                    63.712142261739366,
                    52.94117647058824,
                    64.26735218508998,
                    52.85714285714286,
                    69.33333333333334,
                    54.166666666666664,
                    88.64628820960698,
                    76.7175572519084,
                    76.25272331154684,
                    90,
                    72.72727272727273,
                    65.92407365310298,
                    69.23076923076923,
                    72.72727272727273,
                    64.68060727585218,
                    58.749030757301625,
                    53.125,
                    51.61290322580645,
                    56.48535564853556,
                    65.86345381526104,
                    60,
                    69.76744186046511,
                    81.73076923076923
                  ],
                  "y": [
                    1199,
                    838,
                    69,
                    1775,
                    1105,
                    144,
                    170,
                    359,
                    557,
                    679,
                    829,
                    45,
                    123,
                    74,
                    74,
                    75,
                    91,
                    129,
                    134,
                    130,
                    98,
                    84,
                    84,
                    95,
                    325,
                    596,
                    1289,
                    188,
                    429,
                    89,
                    343,
                    636,
                    37,
                    269,
                    358,
                    254,
                    396,
                    32498,
                    24289,
                    890,
                    127,
                    143,
                    219,
                    202,
                    169,
                    35899,
                    35999,
                    35998,
                    35998,
                    37899,
                    35899,
                    35999,
                    40998,
                    40998,
                    40999,
                    42990,
                    39999,
                    41999,
                    32999,
                    32498,
                    32798,
                    32999,
                    33499,
                    32799,
                    31885,
                    24399,
                    24299,
                    235,
                    1947,
                    340,
                    880,
                    69,
                    14299,
                    1099,
                    19299,
                    5811,
                    14299,
                    1099,
                    22900,
                    23900,
                    18998,
                    20389,
                    20389,
                    21600,
                    18499,
                    26999,
                    26999,
                    24995,
                    2199,
                    1999,
                    8299,
                    2449,
                    2699,
                    2435,
                    2229,
                    1039,
                    2085,
                    1979,
                    1879,
                    12298,
                    12299,
                    11799,
                    13460,
                    15698,
                    8999,
                    2299,
                    519,
                    1139,
                    17999,
                    2998,
                    3040,
                    1031,
                    9999,
                    2419,
                    14199,
                    6849,
                    893,
                    359,
                    1899,
                    1939,
                    797,
                    999,
                    890,
                    27999,
                    16357,
                    789,
                    1049,
                    1149,
                    388,
                    285,
                    149,
                    2999,
                    382,
                    414,
                    170,
                    86,
                    226,
                    226,
                    44,
                    237,
                    7449,
                    7449,
                    89,
                    26315,
                    28999,
                    37199,
                    27999,
                    32699,
                    29998,
                    29999,
                    29999,
                    28399,
                    26998,
                    29999,
                    26315,
                    29999,
                    759,
                    889,
                    889,
                    34,
                    16357,
                    1432,
                    1349,
                    7699,
                    7499,
                    28347,
                    49849,
                    3099,
                    699,
                    34999,
                    24,
                    9,
                    72,
                    58,
                    55,
                    45,
                    23,
                    14,
                    16499,
                    19000,
                    2398,
                    9,
                    259,
                    38,
                    269,
                    64,
                    67,
                    50,
                    79,
                    39,
                    7,
                    115,
                    84,
                    59,
                    211,
                    257,
                    1699,
                    1699,
                    2100,
                    739,
                    26,
                    14,
                    1551,
                    1294,
                    1239,
                    567,
                    219,
                    7469,
                    1376,
                    45,
                    749,
                    196,
                    265,
                    248,
                    2,
                    26,
                    2819,
                    134,
                    204,
                    419,
                    26,
                    290,
                    129,
                    349,
                    139,
                    1249,
                    419,
                    58,
                    209,
                    35,
                    68,
                    7172,
                    3481,
                    5892,
                    390,
                    639,
                    214,
                    254,
                    74,
                    432,
                    1389,
                    809,
                    19,
                    19,
                    7299,
                    22,
                    19,
                    5749,
                    6142,
                    49,
                    47,
                    374,
                    413,
                    16,
                    219,
                    189
                  ]
                },
                {
                  "mode": "markers",
                  "name": "Cluster 1",
                  "type": "scatter",
                  "x": [
                    28.985507246376812,
                    42.857142857142854,
                    42.857142857142854,
                    15.151515151515152,
                    15.151515151515152,
                    41.333333333333336,
                    33.57664233576642,
                    22.613065326633166,
                    24.242424242424242,
                    25.217391304347824,
                    48.80952380952381,
                    30.67484662576687,
                    36.78929765886287,
                    36.11111111111111,
                    48.4,
                    33.34568358651352,
                    50.35460992907801,
                    37.97802197802198,
                    31.204992798847815,
                    31.315240083507305,
                    17.965023847376788,
                    21.06060606060606,
                    26.71118530884808,
                    33.34568358651352,
                    50.02084201750729,
                    33.34568358651352,
                    48.35348061692372,
                    20.00666888962988,
                    20.37037037037037,
                    40.845070422535215,
                    33.83977900552486,
                    20.074349442379184,
                    27.84090909090909,
                    40.397350993377486,
                    37.14658547194432,
                    37.49450549450549,
                    31.890756302521005,
                    18.095238095238095,
                    11.428571428571429,
                    49.056603773584904,
                    16.736401673640167,
                    37.992831541218635,
                    40.33217649975211,
                    2.253633817842379,
                    44.885424049137725,
                    24.61780254322046,
                    47.886849637986195,
                    30.8143469433792,
                    44.885424049137725,
                    14.243535406447927,
                    48.03527836837546,
                    27.42339832869081,
                    22.5,
                    29.512534818941504,
                    27.511312217194572,
                    33.33816495144224,
                    29.547511312217196,
                    21.65779248812779,
                    35.86258965647414,
                    40.75313807531381,
                    17.337411461687058,
                    13.049151805132666,
                    39.23841059602649,
                    49.681528662420384,
                    17.25781845919146,
                    9.361386597460376,
                    10.124734607218684,
                    25.159510260389723,
                    18.847479888359874,
                    15.716780441339894,
                    17.337411461687058,
                    25.00284123195818,
                    25.399077687123096,
                    15.909812638932994,
                    17.001828153564897,
                    1.800327332242226,
                    48.717948717948715,
                    24.210879785090665,
                    2.4876981957353745,
                    19.989091900736298,
                    18.67280213126665,
                    24.32383372662915,
                    32.7094668117519,
                    28.552588196505113,
                    25.68027210884354,
                    39.52857142857143,
                    47.08442123585726,
                    49.99285612230319,
                    13.194706994328923,
                    32.58810155361879,
                    17.10362047440699,
                    21.27659574468085,
                    45.9349593495935,
                    19.447186574531095,
                    26.696705153477897,
                    15.909812638932994,
                    12.511170688114387,
                    18.802619270346117,
                    5.971404541631623,
                    18.242597898758355,
                    18.970448045757866,
                    31.204992798847815,
                    34.43187407771766,
                    46.722288438617404,
                    7.380520266182698,
                    2.175264139216905,
                    10.010427528675704,
                    18.50838803792852,
                    32.46098829648895,
                    33.33777837044939,
                    48.899755501222494,
                    48.899755501222494,
                    10.927835051546392,
                    19.230769230769234,
                    30.03003003003003,
                    26.550598476605003,
                    41.80327868852459,
                    33.34722801167153,
                    31.40248321174936,
                    39.49579831932773,
                    22.847100175746924,
                    47.90874524714829,
                    50.025012506253134,
                    39.04761904761905,
                    43.79562043795621,
                    0,
                    50,
                    31.57894736842105,
                    27.77777777777778,
                    43.63636363636363,
                    13.559322033898304,
                    22.90748898678414,
                    33.5873388042204,
                    0,
                    27.348993288590606,
                    44.827586206896555,
                    29.360967184801385,
                    42.391304347826086,
                    20,
                    41.66666666666667,
                    8.333333333333332,
                    36.521264250119465,
                    17.24256845299676,
                    43.994140625,
                    47.15447154471545,
                    47.104710471047106,
                    13.311688311688311,
                    27.932960893854748,
                    7.766990291262135,
                    32.52032520325203,
                    46.86868686868687,
                    44.61309523809524,
                    28.947368421052634,
                    38.63636363636363,
                    47.61904761904761,
                    31.88405797101449,
                    0.2353494939985879,
                    14.655172413793101,
                    12.380952380952381,
                    35.39325842696629,
                    9.523809523809524,
                    16.666666666666664,
                    25.206152406573484,
                    45.73002754820937,
                    33.934631184140024,
                    31.03448275862069,
                    11.044776119402986,
                    34.92063492063492,
                    43.18996415770609,
                    2.564102564102564,
                    32.89473684210527,
                    39.053254437869825,
                    26.60098522167488,
                    26.609442060085836,
                    25.125628140703515,
                    33.33333333333333,
                    18.6046511627907,
                    25.37313432835821,
                    45.840154784938235,
                    17.9213002566296,
                    40.85082405972672,
                    32.51088534107402,
                    0,
                    23.411371237458194,
                    7.352537722908094,
                    25.02495840266223,
                    30.05477494641581,
                    0,
                    34.146341463414636,
                    17.647058823529413,
                    31.03448275862069,
                    16,
                    44.44444444444444,
                    30.434782608695656,
                    26.359832635983267,
                    27.748691099476442,
                    13.333333333333334,
                    49.2046077893582,
                    40.2245088868101,
                    23.19961333977767,
                    2.73972602739726,
                    14.388489208633093,
                    18.694049499736703,
                    26.900584795321635,
                    11.1731843575419,
                    3.3734939759036147,
                    1.342281879194631,
                    30,
                    43.95516413130505,
                    40.15151515151515,
                    25.371113340020063,
                    46.82274247491639,
                    18.803418803418804,
                    14.705882352941178,
                    44,
                    32.71028037383177,
                    18.181818181818183,
                    3.861003861003861,
                    47.38461538461539,
                    43.76657824933687,
                    10.025062656641603,
                    16.588419405320813,
                    5.39906103286385,
                    11.152416356877323,
                    10.282776349614396,
                    8,
                    47.368421052631575,
                    42.959427207637226,
                    17.46724890829694,
                    45.79630895420369,
                    4.601673335758457,
                    27.932960893854748,
                    0,
                    41.17647058823529,
                    38.23529411764706,
                    28.28282828282828,
                    15.384615384615385,
                    40,
                    50,
                    36.36363636363637,
                    33.33333333333333,
                    11.985018726591761,
                    26.119402985074625,
                    30.16759776536313,
                    19.35483870967742,
                    47.46835443037975,
                    13.224181360201511,
                    31.026252983293556,
                    34.53237410071942,
                    48.61878453038674,
                    37.86008230452675,
                    35.85313174946004,
                    19.607843137254903,
                    38.95348837209303,
                    43.998254037538196,
                    6.923076923076923,
                    45.267489711934154,
                    21.428571428571427,
                    40,
                    22.22222222222222,
                    31.642857142857146,
                    16.194331983805668,
                    28.859060402684566,
                    21.83406113537118,
                    33.482142857142854,
                    45.94594594594595,
                    29.078014184397162,
                    23.387453874538746,
                    26.146788990825687,
                    17.142857142857142,
                    31.818181818181817,
                    43.47826086956522,
                    44.9438202247191,
                    22.22222222222222,
                    15.080728272071454,
                    22.891381164541404,
                    20.642201834862387,
                    23.293172690763054,
                    35.39823008849557,
                    27.09030100334448,
                    27.27272727272727,
                    27.27272727272727,
                    39.24050632911392,
                    49.28571428571429,
                    24.46043165467626,
                    2.564102564102564,
                    0.6872852233676976,
                    22.362869198312236,
                    28.817204301075268,
                    8.256880733944955,
                    37.72455089820359,
                    32.03125,
                    7.8431372549019605,
                    17.77777777777778,
                    21.21212121212121
                  ],
                  "y": [
                    89,
                    30,
                    30,
                    76,
                    76,
                    106,
                    183,
                    244,
                    328,
                    432,
                    125,
                    213,
                    409,
                    98,
                    742,
                    3599,
                    212,
                    3139,
                    8199,
                    629,
                    742,
                    799,
                    759,
                    3599,
                    3599,
                    3599,
                    3559,
                    3599,
                    65,
                    100,
                    969,
                    969,
                    450,
                    212,
                    3153,
                    3128,
                    3139,
                    124,
                    39,
                    79,
                    279,
                    385,
                    16983,
                    7668,
                    18399,
                    8722,
                    8783,
                    17397,
                    18399,
                    23990,
                    18799,
                    9149,
                    8722,
                    9299,
                    8454,
                    9199,
                    8589,
                    8454,
                    3599,
                    1682,
                    7289,
                    2599,
                    1682,
                    3290,
                    12298,
                    11799,
                    8299,
                    7258,
                    7239,
                    7289,
                    7289,
                    10999,
                    3535,
                    3650,
                    4480,
                    5598,
                    348,
                    3699,
                    3749,
                    4400,
                    4900,
                    6849,
                    6098,
                    3899,
                    3695,
                    9767,
                    1690,
                    10498,
                    2994,
                    3499,
                    2814,
                    399,
                    359,
                    1210,
                    4499,
                    3650,
                    1259,
                    1270,
                    1260,
                    1238,
                    1248,
                    8199,
                    8199,
                    1231,
                    1775,
                    1644,
                    2110,
                    6499,
                    8149,
                    9999,
                    6699,
                    6699,
                    538,
                    899,
                    1299,
                    1163,
                    173,
                    3199,
                    27199,
                    332,
                    699,
                    389,
                    2999,
                    584,
                    394,
                    22,
                    12,
                    25,
                    23,
                    395,
                    134,
                    279,
                    2279,
                    949,
                    759,
                    42,
                    749,
                    1179,
                    18,
                    17,
                    26,
                    19999,
                    16999,
                    5898,
                    724,
                    14709,
                    349,
                    229,
                    555,
                    489,
                    727,
                    24295,
                    49,
                    61,
                    62,
                    91,
                    4259,
                    399,
                    2124,
                    241,
                    92,
                    7,
                    21409,
                    529,
                    7499,
                    38,
                    372,
                    255,
                    799,
                    40,
                    101,
                    235,
                    257,
                    295,
                    249,
                    296,
                    153,
                    84,
                    9799,
                    19299,
                    9999,
                    913,
                    899,
                    369,
                    7826,
                    3757,
                    5461,
                    89,
                    55,
                    40,
                    38,
                    29,
                    39,
                    30,
                    302,
                    488,
                    17,
                    2720,
                    1499,
                    2549,
                    75,
                    159,
                    2254,
                    217,
                    199,
                    429,
                    151,
                    949,
                    1798,
                    9250,
                    24999,
                    439,
                    139,
                    39,
                    36,
                    142,
                    260,
                    269,
                    479,
                    542,
                    439,
                    745,
                    449,
                    299,
                    429,
                    27,
                    28,
                    599,
                    269,
                    6399,
                    5751,
                    229,
                    129,
                    24,
                    47,
                    127,
                    30,
                    14,
                    15,
                    15,
                    44,
                    299,
                    169,
                    233,
                    148,
                    699,
                    899,
                    549,
                    374,
                    538,
                    335,
                    629,
                    122,
                    239,
                    3299,
                    139,
                    1765,
                    17,
                    49,
                    44,
                    5529,
                    287,
                    384,
                    279,
                    299,
                    54,
                    182,
                    16719,
                    275,
                    41,
                    29,
                    99,
                    129,
                    88,
                    3350,
                    7999,
                    263,
                    307,
                    459,
                    380,
                    56,
                    56,
                    110,
                    209,
                    173,
                    80,
                    293,
                    290,
                    599,
                    118,
                    230,
                    169,
                    440,
                    212,
                    160
                  ]
                },
                {
                  "mode": "markers",
                  "name": "Cluster 2",
                  "type": "scatter",
                  "x": [
                    233.33333333333334,
                    323.8095238095238,
                    231.0734463276836,
                    384.7908745247148,
                    516.2324649298597,
                    333.9622641509434,
                    262.92134831460675,
                    279.6296296296296,
                    245.00000000000003,
                    254.5232273838631
                  ],
                  "y": [
                    70,
                    89,
                    586,
                    1275,
                    3075,
                    690,
                    323,
                    410,
                    69,
                    14500
                  ]
                }
              ],
              "layout": {
                "template": {
                  "data": {
                    "bar": [
                      {
                        "error_x": {
                          "color": "#2a3f5f"
                        },
                        "error_y": {
                          "color": "#2a3f5f"
                        },
                        "marker": {
                          "line": {
                            "color": "#E5ECF6",
                            "width": 0.5
                          },
                          "pattern": {
                            "fillmode": "overlay",
                            "size": 10,
                            "solidity": 0.2
                          }
                        },
                        "type": "bar"
                      }
                    ],
                    "barpolar": [
                      {
                        "marker": {
                          "line": {
                            "color": "#E5ECF6",
                            "width": 0.5
                          },
                          "pattern": {
                            "fillmode": "overlay",
                            "size": 10,
                            "solidity": 0.2
                          }
                        },
                        "type": "barpolar"
                      }
                    ],
                    "carpet": [
                      {
                        "aaxis": {
                          "endlinecolor": "#2a3f5f",
                          "gridcolor": "white",
                          "linecolor": "white",
                          "minorgridcolor": "white",
                          "startlinecolor": "#2a3f5f"
                        },
                        "baxis": {
                          "endlinecolor": "#2a3f5f",
                          "gridcolor": "white",
                          "linecolor": "white",
                          "minorgridcolor": "white",
                          "startlinecolor": "#2a3f5f"
                        },
                        "type": "carpet"
                      }
                    ],
                    "choropleth": [
                      {
                        "colorbar": {
                          "outlinewidth": 0,
                          "ticks": ""
                        },
                        "type": "choropleth"
                      }
                    ],
                    "contour": [
                      {
                        "colorbar": {
                          "outlinewidth": 0,
                          "ticks": ""
                        },
                        "colorscale": [
                          [
                            0,
                            "#0d0887"
                          ],
                          [
                            0.1111111111111111,
                            "#46039f"
                          ],
                          [
                            0.2222222222222222,
                            "#7201a8"
                          ],
                          [
                            0.3333333333333333,
                            "#9c179e"
                          ],
                          [
                            0.4444444444444444,
                            "#bd3786"
                          ],
                          [
                            0.5555555555555556,
                            "#d8576b"
                          ],
                          [
                            0.6666666666666666,
                            "#ed7953"
                          ],
                          [
                            0.7777777777777778,
                            "#fb9f3a"
                          ],
                          [
                            0.8888888888888888,
                            "#fdca26"
                          ],
                          [
                            1,
                            "#f0f921"
                          ]
                        ],
                        "type": "contour"
                      }
                    ],
                    "contourcarpet": [
                      {
                        "colorbar": {
                          "outlinewidth": 0,
                          "ticks": ""
                        },
                        "type": "contourcarpet"
                      }
                    ],
                    "heatmap": [
                      {
                        "colorbar": {
                          "outlinewidth": 0,
                          "ticks": ""
                        },
                        "colorscale": [
                          [
                            0,
                            "#0d0887"
                          ],
                          [
                            0.1111111111111111,
                            "#46039f"
                          ],
                          [
                            0.2222222222222222,
                            "#7201a8"
                          ],
                          [
                            0.3333333333333333,
                            "#9c179e"
                          ],
                          [
                            0.4444444444444444,
                            "#bd3786"
                          ],
                          [
                            0.5555555555555556,
                            "#d8576b"
                          ],
                          [
                            0.6666666666666666,
                            "#ed7953"
                          ],
                          [
                            0.7777777777777778,
                            "#fb9f3a"
                          ],
                          [
                            0.8888888888888888,
                            "#fdca26"
                          ],
                          [
                            1,
                            "#f0f921"
                          ]
                        ],
                        "type": "heatmap"
                      }
                    ],
                    "heatmapgl": [
                      {
                        "colorbar": {
                          "outlinewidth": 0,
                          "ticks": ""
                        },
                        "colorscale": [
                          [
                            0,
                            "#0d0887"
                          ],
                          [
                            0.1111111111111111,
                            "#46039f"
                          ],
                          [
                            0.2222222222222222,
                            "#7201a8"
                          ],
                          [
                            0.3333333333333333,
                            "#9c179e"
                          ],
                          [
                            0.4444444444444444,
                            "#bd3786"
                          ],
                          [
                            0.5555555555555556,
                            "#d8576b"
                          ],
                          [
                            0.6666666666666666,
                            "#ed7953"
                          ],
                          [
                            0.7777777777777778,
                            "#fb9f3a"
                          ],
                          [
                            0.8888888888888888,
                            "#fdca26"
                          ],
                          [
                            1,
                            "#f0f921"
                          ]
                        ],
                        "type": "heatmapgl"
                      }
                    ],
                    "histogram": [
                      {
                        "marker": {
                          "pattern": {
                            "fillmode": "overlay",
                            "size": 10,
                            "solidity": 0.2
                          }
                        },
                        "type": "histogram"
                      }
                    ],
                    "histogram2d": [
                      {
                        "colorbar": {
                          "outlinewidth": 0,
                          "ticks": ""
                        },
                        "colorscale": [
                          [
                            0,
                            "#0d0887"
                          ],
                          [
                            0.1111111111111111,
                            "#46039f"
                          ],
                          [
                            0.2222222222222222,
                            "#7201a8"
                          ],
                          [
                            0.3333333333333333,
                            "#9c179e"
                          ],
                          [
                            0.4444444444444444,
                            "#bd3786"
                          ],
                          [
                            0.5555555555555556,
                            "#d8576b"
                          ],
                          [
                            0.6666666666666666,
                            "#ed7953"
                          ],
                          [
                            0.7777777777777778,
                            "#fb9f3a"
                          ],
                          [
                            0.8888888888888888,
                            "#fdca26"
                          ],
                          [
                            1,
                            "#f0f921"
                          ]
                        ],
                        "type": "histogram2d"
                      }
                    ],
                    "histogram2dcontour": [
                      {
                        "colorbar": {
                          "outlinewidth": 0,
                          "ticks": ""
                        },
                        "colorscale": [
                          [
                            0,
                            "#0d0887"
                          ],
                          [
                            0.1111111111111111,
                            "#46039f"
                          ],
                          [
                            0.2222222222222222,
                            "#7201a8"
                          ],
                          [
                            0.3333333333333333,
                            "#9c179e"
                          ],
                          [
                            0.4444444444444444,
                            "#bd3786"
                          ],
                          [
                            0.5555555555555556,
                            "#d8576b"
                          ],
                          [
                            0.6666666666666666,
                            "#ed7953"
                          ],
                          [
                            0.7777777777777778,
                            "#fb9f3a"
                          ],
                          [
                            0.8888888888888888,
                            "#fdca26"
                          ],
                          [
                            1,
                            "#f0f921"
                          ]
                        ],
                        "type": "histogram2dcontour"
                      }
                    ],
                    "mesh3d": [
                      {
                        "colorbar": {
                          "outlinewidth": 0,
                          "ticks": ""
                        },
                        "type": "mesh3d"
                      }
                    ],
                    "parcoords": [
                      {
                        "line": {
                          "colorbar": {
                            "outlinewidth": 0,
                            "ticks": ""
                          }
                        },
                        "type": "parcoords"
                      }
                    ],
                    "pie": [
                      {
                        "automargin": true,
                        "type": "pie"
                      }
                    ],
                    "scatter": [
                      {
                        "fillpattern": {
                          "fillmode": "overlay",
                          "size": 10,
                          "solidity": 0.2
                        },
                        "type": "scatter"
                      }
                    ],
                    "scatter3d": [
                      {
                        "line": {
                          "colorbar": {
                            "outlinewidth": 0,
                            "ticks": ""
                          }
                        },
                        "marker": {
                          "colorbar": {
                            "outlinewidth": 0,
                            "ticks": ""
                          }
                        },
                        "type": "scatter3d"
                      }
                    ],
                    "scattercarpet": [
                      {
                        "marker": {
                          "colorbar": {
                            "outlinewidth": 0,
                            "ticks": ""
                          }
                        },
                        "type": "scattercarpet"
                      }
                    ],
                    "scattergeo": [
                      {
                        "marker": {
                          "colorbar": {
                            "outlinewidth": 0,
                            "ticks": ""
                          }
                        },
                        "type": "scattergeo"
                      }
                    ],
                    "scattergl": [
                      {
                        "marker": {
                          "colorbar": {
                            "outlinewidth": 0,
                            "ticks": ""
                          }
                        },
                        "type": "scattergl"
                      }
                    ],
                    "scattermapbox": [
                      {
                        "marker": {
                          "colorbar": {
                            "outlinewidth": 0,
                            "ticks": ""
                          }
                        },
                        "type": "scattermapbox"
                      }
                    ],
                    "scatterpolar": [
                      {
                        "marker": {
                          "colorbar": {
                            "outlinewidth": 0,
                            "ticks": ""
                          }
                        },
                        "type": "scatterpolar"
                      }
                    ],
                    "scatterpolargl": [
                      {
                        "marker": {
                          "colorbar": {
                            "outlinewidth": 0,
                            "ticks": ""
                          }
                        },
                        "type": "scatterpolargl"
                      }
                    ],
                    "scatterternary": [
                      {
                        "marker": {
                          "colorbar": {
                            "outlinewidth": 0,
                            "ticks": ""
                          }
                        },
                        "type": "scatterternary"
                      }
                    ],
                    "surface": [
                      {
                        "colorbar": {
                          "outlinewidth": 0,
                          "ticks": ""
                        },
                        "colorscale": [
                          [
                            0,
                            "#0d0887"
                          ],
                          [
                            0.1111111111111111,
                            "#46039f"
                          ],
                          [
                            0.2222222222222222,
                            "#7201a8"
                          ],
                          [
                            0.3333333333333333,
                            "#9c179e"
                          ],
                          [
                            0.4444444444444444,
                            "#bd3786"
                          ],
                          [
                            0.5555555555555556,
                            "#d8576b"
                          ],
                          [
                            0.6666666666666666,
                            "#ed7953"
                          ],
                          [
                            0.7777777777777778,
                            "#fb9f3a"
                          ],
                          [
                            0.8888888888888888,
                            "#fdca26"
                          ],
                          [
                            1,
                            "#f0f921"
                          ]
                        ],
                        "type": "surface"
                      }
                    ],
                    "table": [
                      {
                        "cells": {
                          "fill": {
                            "color": "#EBF0F8"
                          },
                          "line": {
                            "color": "white"
                          }
                        },
                        "header": {
                          "fill": {
                            "color": "#C8D4E3"
                          },
                          "line": {
                            "color": "white"
                          }
                        },
                        "type": "table"
                      }
                    ]
                  },
                  "layout": {
                    "annotationdefaults": {
                      "arrowcolor": "#2a3f5f",
                      "arrowhead": 0,
                      "arrowwidth": 1
                    },
                    "autotypenumbers": "strict",
                    "coloraxis": {
                      "colorbar": {
                        "outlinewidth": 0,
                        "ticks": ""
                      }
                    },
                    "colorscale": {
                      "diverging": [
                        [
                          0,
                          "#8e0152"
                        ],
                        [
                          0.1,
                          "#c51b7d"
                        ],
                        [
                          0.2,
                          "#de77ae"
                        ],
                        [
                          0.3,
                          "#f1b6da"
                        ],
                        [
                          0.4,
                          "#fde0ef"
                        ],
                        [
                          0.5,
                          "#f7f7f7"
                        ],
                        [
                          0.6,
                          "#e6f5d0"
                        ],
                        [
                          0.7,
                          "#b8e186"
                        ],
                        [
                          0.8,
                          "#7fbc41"
                        ],
                        [
                          0.9,
                          "#4d9221"
                        ],
                        [
                          1,
                          "#276419"
                        ]
                      ],
                      "sequential": [
                        [
                          0,
                          "#0d0887"
                        ],
                        [
                          0.1111111111111111,
                          "#46039f"
                        ],
                        [
                          0.2222222222222222,
                          "#7201a8"
                        ],
                        [
                          0.3333333333333333,
                          "#9c179e"
                        ],
                        [
                          0.4444444444444444,
                          "#bd3786"
                        ],
                        [
                          0.5555555555555556,
                          "#d8576b"
                        ],
                        [
                          0.6666666666666666,
                          "#ed7953"
                        ],
                        [
                          0.7777777777777778,
                          "#fb9f3a"
                        ],
                        [
                          0.8888888888888888,
                          "#fdca26"
                        ],
                        [
                          1,
                          "#f0f921"
                        ]
                      ],
                      "sequentialminus": [
                        [
                          0,
                          "#0d0887"
                        ],
                        [
                          0.1111111111111111,
                          "#46039f"
                        ],
                        [
                          0.2222222222222222,
                          "#7201a8"
                        ],
                        [
                          0.3333333333333333,
                          "#9c179e"
                        ],
                        [
                          0.4444444444444444,
                          "#bd3786"
                        ],
                        [
                          0.5555555555555556,
                          "#d8576b"
                        ],
                        [
                          0.6666666666666666,
                          "#ed7953"
                        ],
                        [
                          0.7777777777777778,
                          "#fb9f3a"
                        ],
                        [
                          0.8888888888888888,
                          "#fdca26"
                        ],
                        [
                          1,
                          "#f0f921"
                        ]
                      ]
                    },
                    "colorway": [
                      "#636efa",
                      "#EF553B",
                      "#00cc96",
                      "#ab63fa",
                      "#FFA15A",
                      "#19d3f3",
                      "#FF6692",
                      "#B6E880",
                      "#FF97FF",
                      "#FECB52"
                    ],
                    "font": {
                      "color": "#2a3f5f"
                    },
                    "geo": {
                      "bgcolor": "white",
                      "lakecolor": "white",
                      "landcolor": "#E5ECF6",
                      "showlakes": true,
                      "showland": true,
                      "subunitcolor": "white"
                    },
                    "hoverlabel": {
                      "align": "left"
                    },
                    "hovermode": "closest",
                    "mapbox": {
                      "style": "light"
                    },
                    "paper_bgcolor": "white",
                    "plot_bgcolor": "#E5ECF6",
                    "polar": {
                      "angularaxis": {
                        "gridcolor": "white",
                        "linecolor": "white",
                        "ticks": ""
                      },
                      "bgcolor": "#E5ECF6",
                      "radialaxis": {
                        "gridcolor": "white",
                        "linecolor": "white",
                        "ticks": ""
                      }
                    },
                    "scene": {
                      "xaxis": {
                        "backgroundcolor": "#E5ECF6",
                        "gridcolor": "white",
                        "gridwidth": 2,
                        "linecolor": "white",
                        "showbackground": true,
                        "ticks": "",
                        "zerolinecolor": "white"
                      },
                      "yaxis": {
                        "backgroundcolor": "#E5ECF6",
                        "gridcolor": "white",
                        "gridwidth": 2,
                        "linecolor": "white",
                        "showbackground": true,
                        "ticks": "",
                        "zerolinecolor": "white"
                      },
                      "zaxis": {
                        "backgroundcolor": "#E5ECF6",
                        "gridcolor": "white",
                        "gridwidth": 2,
                        "linecolor": "white",
                        "showbackground": true,
                        "ticks": "",
                        "zerolinecolor": "white"
                      }
                    },
                    "shapedefaults": {
                      "line": {
                        "color": "#2a3f5f"
                      }
                    },
                    "ternary": {
                      "aaxis": {
                        "gridcolor": "white",
                        "linecolor": "white",
                        "ticks": ""
                      },
                      "baxis": {
                        "gridcolor": "white",
                        "linecolor": "white",
                        "ticks": ""
                      },
                      "bgcolor": "#E5ECF6",
                      "caxis": {
                        "gridcolor": "white",
                        "linecolor": "white",
                        "ticks": ""
                      }
                    },
                    "title": {
                      "x": 0.05
                    },
                    "xaxis": {
                      "automargin": true,
                      "gridcolor": "white",
                      "linecolor": "white",
                      "ticks": "",
                      "title": {
                        "standoff": 15
                      },
                      "zerolinecolor": "white",
                      "zerolinewidth": 2
                    },
                    "yaxis": {
                      "automargin": true,
                      "gridcolor": "white",
                      "linecolor": "white",
                      "ticks": "",
                      "title": {
                        "standoff": 15
                      },
                      "zerolinecolor": "white",
                      "zerolinewidth": 2
                    }
                  }
                },
                "title": {
                  "text": "K-means Clustering"
                },
                "xaxis": {
                  "title": {
                    "text": "Price Increase Percentage"
                  }
                },
                "yaxis": {
                  "title": {
                    "text": "Current Price"
                  },
                  "type": "log"
                }
              }
            }
          },
          "metadata": {},
          "output_type": "display_data"
        }
      ],
      "source": [
        "# Select the features to be used for clustering\n",
        "X = df[['Price Increase Percentage']]\n",
        "y = df['Current Price']\n",
        "\n",
        "# Perform feature scaling on the selected features\n",
        "scaler = StandardScaler()\n",
        "scaled_features = scaler.fit_transform(X)\n",
        "\n",
        "# Instantiate the K-means algorithm with the desired number of clusters\n",
        "k = 4  # Set the number of clusters\n",
        "kmeans = KMeans(n_clusters=k)\n",
        "\n",
        "# Fit the algorithm to the data\n",
        "kmeans.fit(scaled_features)\n",
        "\n",
        "# Get the cluster labels assigned to each data point\n",
        "labels = kmeans.labels_\n",
        "\n",
        "# Add the cluster labels to the original DataFrame\n",
        "df['Cluster'] = labels\n",
        "\n",
        "\n",
        "fig = go.Figure()\n",
        "\n",
        "for cluster in df['Cluster'].unique():\n",
        "    df_cluster = df[df['Cluster'] == cluster]\n",
        "    fig.add_trace(go.Scatter(\n",
        "        x=df_cluster['Price Increase Percentage'], \n",
        "        y=df_cluster['Current Price'], \n",
        "        mode='markers', \n",
        "        name=f'Cluster {cluster}'\n",
        "    ))\n",
        "\n",
        "fig.update_layout(\n",
        "    title='K-means Clustering',\n",
        "    xaxis_title='Price Increase Percentage',\n",
        "    yaxis_title='Current Price',\n",
        "    yaxis_type=\"log\"  # Set the y-axis to logarithmic scale\n",
        ")\n",
        "\n",
        "fig.show()"
      ]
    },
    {
      "cell_type": "code",
      "execution_count": 163,
      "metadata": {},
      "outputs": [
        {
          "data": {
            "application/vnd.plotly.v1+json": {
              "config": {
                "plotlyServerURL": "https://plot.ly"
              },
              "data": [
                {
                  "alignmentgroup": "True",
                  "hovertemplate": "Cluster=%{x}<br>Price Increase Percentage=%{y}<extra></extra>",
                  "legendgroup": "3",
                  "marker": {
                    "color": "rgb(102, 197, 204)"
                  },
                  "name": "3",
                  "notched": false,
                  "offsetgroup": "3",
                  "orientation": "v",
                  "showlegend": true,
                  "type": "box",
                  "x": [
                    3,
                    3,
                    3,
                    3,
                    3,
                    3,
                    3,
                    3,
                    3,
                    3,
                    3,
                    3,
                    3,
                    3,
                    3,
                    3,
                    3,
                    3,
                    3,
                    3,
                    3,
                    3,
                    3,
                    3,
                    3,
                    3,
                    3,
                    3,
                    3,
                    3,
                    3,
                    3,
                    3,
                    3,
                    3,
                    3,
                    3,
                    3,
                    3,
                    3,
                    3,
                    3,
                    3,
                    3,
                    3,
                    3,
                    3,
                    3,
                    3,
                    3,
                    3,
                    3,
                    3,
                    3,
                    3,
                    3,
                    3,
                    3,
                    3,
                    3,
                    3,
                    3,
                    3,
                    3,
                    3,
                    3,
                    3,
                    3,
                    3,
                    3,
                    3,
                    3,
                    3,
                    3,
                    3,
                    3,
                    3,
                    3,
                    3,
                    3,
                    3,
                    3,
                    3,
                    3,
                    3,
                    3,
                    3,
                    3,
                    3,
                    3,
                    3,
                    3,
                    3,
                    3,
                    3,
                    3,
                    3,
                    3,
                    3,
                    3,
                    3,
                    3,
                    3,
                    3,
                    3,
                    3,
                    3,
                    3,
                    3,
                    3,
                    3,
                    3,
                    3,
                    3,
                    3,
                    3,
                    3,
                    3,
                    3,
                    3,
                    3,
                    3,
                    3,
                    3,
                    3,
                    3,
                    3,
                    3,
                    3,
                    3,
                    3,
                    3,
                    3,
                    3,
                    3,
                    3,
                    3,
                    3,
                    3,
                    3,
                    3,
                    3,
                    3,
                    3,
                    3,
                    3,
                    3,
                    3,
                    3,
                    3,
                    3,
                    3,
                    3,
                    3,
                    3,
                    3,
                    3,
                    3,
                    3,
                    3,
                    3,
                    3,
                    3,
                    3,
                    3,
                    3,
                    3,
                    3,
                    3,
                    3,
                    3,
                    3,
                    3,
                    3,
                    3,
                    3,
                    3,
                    3,
                    3,
                    3,
                    3,
                    3,
                    3,
                    3,
                    3,
                    3,
                    3,
                    3,
                    3,
                    3,
                    3,
                    3,
                    3,
                    3,
                    3,
                    3,
                    3,
                    3,
                    3,
                    3,
                    3,
                    3,
                    3,
                    3,
                    3,
                    3,
                    3,
                    3,
                    3,
                    3,
                    3,
                    3,
                    3,
                    3,
                    3,
                    3,
                    3,
                    3,
                    3,
                    3,
                    3,
                    3,
                    3,
                    3,
                    3,
                    3,
                    3,
                    3,
                    3,
                    3,
                    3,
                    3,
                    3,
                    3,
                    3,
                    3,
                    3,
                    3,
                    3,
                    3,
                    3,
                    3,
                    3,
                    3,
                    3,
                    3,
                    3,
                    3,
                    3,
                    3,
                    3,
                    3,
                    3,
                    3,
                    3,
                    3,
                    3,
                    3,
                    3,
                    3,
                    3,
                    3,
                    3,
                    3,
                    3,
                    3,
                    3,
                    3,
                    3,
                    3,
                    3,
                    3,
                    3,
                    3,
                    3,
                    3,
                    3,
                    3,
                    3,
                    3,
                    3,
                    3,
                    3,
                    3,
                    3,
                    3,
                    3,
                    3,
                    3,
                    3,
                    3,
                    3,
                    3,
                    3,
                    3,
                    3,
                    3,
                    3,
                    3,
                    3,
                    3,
                    3,
                    3,
                    3,
                    3,
                    3,
                    3,
                    3,
                    3,
                    3,
                    3,
                    3,
                    3,
                    3,
                    3,
                    3,
                    3,
                    3,
                    3,
                    3,
                    3,
                    3,
                    3,
                    3,
                    3,
                    3,
                    3,
                    3,
                    3,
                    3,
                    3,
                    3,
                    3,
                    3,
                    3,
                    3,
                    3,
                    3,
                    3,
                    3,
                    3,
                    3,
                    3,
                    3,
                    3,
                    3,
                    3,
                    3,
                    3,
                    3,
                    3,
                    3,
                    3,
                    3,
                    3,
                    3,
                    3,
                    3,
                    3,
                    3,
                    3,
                    3,
                    3,
                    3,
                    3,
                    3,
                    3,
                    3,
                    3,
                    3,
                    3,
                    3,
                    3,
                    3,
                    3,
                    3,
                    3,
                    3,
                    3,
                    3,
                    3,
                    3,
                    3,
                    3,
                    3,
                    3,
                    3,
                    3,
                    3,
                    3,
                    3,
                    3,
                    3,
                    3,
                    3,
                    3,
                    3,
                    3,
                    3,
                    3,
                    3,
                    3,
                    3,
                    3,
                    3,
                    3,
                    3,
                    3,
                    3,
                    3,
                    3,
                    3,
                    3,
                    3,
                    3,
                    3,
                    3,
                    3,
                    3,
                    3,
                    3,
                    3,
                    3,
                    3,
                    3,
                    3,
                    3,
                    3,
                    3,
                    3,
                    3,
                    3,
                    3,
                    3,
                    3,
                    3,
                    3,
                    3,
                    3,
                    3,
                    3,
                    3,
                    3,
                    3,
                    3,
                    3,
                    3,
                    3,
                    3,
                    3,
                    3,
                    3,
                    3,
                    3,
                    3
                  ],
                  "x0": " ",
                  "xaxis": "x",
                  "y": [
                    107.61245674740485,
                    90.62003179650239,
                    86.63697104677061,
                    53.333333333333336,
                    82.05128205128204,
                    59.6820809248555,
                    53.191489361702125,
                    28.985507246376812,
                    80.85106382978722,
                    93.01075268817203,
                    98.22064056939502,
                    96.81159420289856,
                    93.24009324009323,
                    42.857142857142854,
                    42.857142857142854,
                    87.5,
                    94.73684210526315,
                    94.73684210526315,
                    97.36842105263158,
                    89.58333333333334,
                    15.151515151515152,
                    53.57142857142857,
                    50.56179775280899,
                    15.151515151515152,
                    96.96969696969697,
                    100,
                    71.42857142857143,
                    71.42857142857143,
                    58.333333333333336,
                    41.333333333333336,
                    74.73118279569893,
                    33.57664233576642,
                    22.613065326633166,
                    82.26299694189603,
                    24.242424242424242,
                    25.217391304347824,
                    79.7768479776848,
                    56.14035087719298,
                    48.80952380952381,
                    30.67484662576687,
                    53.81165919282511,
                    36.78929765886287,
                    53.62318840579711,
                    76.19047619047619,
                    36.11111111111111,
                    55.65217391304348,
                    48.4,
                    33.34568358651352,
                    82.73381294964028,
                    52.8957528957529,
                    50.35460992907801,
                    37.97802197802198,
                    31.204992798847815,
                    31.315240083507305,
                    55.052264808362374,
                    21.06060606060606,
                    26.71118530884808,
                    33.34568358651352,
                    50.02084201750729,
                    33.34568358651352,
                    48.35348061692372,
                    20.37037037037037,
                    40.845070422535215,
                    84.05797101449275,
                    52.12765957446809,
                    56.42857142857143,
                    61.6,
                    65.68627450980392,
                    66.66666666666666,
                    40.397350993377486,
                    37.14658547194432,
                    37.49450549450549,
                    31.890756302521005,
                    18.095238095238095,
                    57.65182186234817,
                    11.428571428571429,
                    49.056603773584904,
                    37.992831541218635,
                    91.66666666666666,
                    2.253633817842379,
                    102.76752767527675,
                    24.61780254322046,
                    47.886849637986195,
                    57.09651257096513,
                    107.38916256157636,
                    98.01801801801801,
                    27.42339832869081,
                    22.5,
                    29.512534818941504,
                    27.511312217194572,
                    33.33816495144224,
                    29.547511312217196,
                    21.65779248812779,
                    101.55820348304307,
                    35.86258965647414,
                    40.75313807531381,
                    57.44640485676342,
                    17.337411461687058,
                    93.13880126182966,
                    100.0741289844329,
                    94.95596477181746,
                    71.59353348729792,
                    62.59780907668232,
                    39.23841059602649,
                    63.01798279906177,
                    54.851330203442885,
                    57.23849372384937,
                    64.17033773861968,
                    59.74801922327575,
                    63.897763578274756,
                    97.10060038072925,
                    25.159510260389723,
                    18.847479888359874,
                    15.716780441339894,
                    17.337411461687058,
                    55.90783090783091,
                    25.399077687123096,
                    15.909812638932994,
                    17.001828153564897,
                    1.800327332242226,
                    97.00085689802913,
                    97.33840304182509,
                    48.717948717948715,
                    24.210879785090665,
                    19.989091900736298,
                    18.67280213126665,
                    24.32383372662915,
                    32.7094668117519,
                    28.552588196505113,
                    25.68027210884354,
                    85.20325203252033,
                    39.52857142857143,
                    106.20155038759691,
                    64.3640350877193,
                    55.27108433734939,
                    51.52295802394302,
                    80.6572068707991,
                    49.99285612230319,
                    88.61583421891605,
                    13.194706994328923,
                    32.58810155361879,
                    17.10362047440699,
                    65.47475235564147,
                    21.27659574468085,
                    45.9349593495935,
                    19.447186574531095,
                    26.696705153477897,
                    15.909812638932994,
                    74.07407407407408,
                    71.77033492822966,
                    12.511170688114387,
                    18.802619270346117,
                    18.242597898758355,
                    18.970448045757866,
                    58.64661654135338,
                    31.204992798847815,
                    34.43187407771766,
                    46.722288438617404,
                    18.50838803792852,
                    32.46098829648895,
                    33.33777837044939,
                    48.899755501222494,
                    48.899755501222494,
                    94.09409409409409,
                    10.927835051546392,
                    79.90970654627539,
                    19.230769230769234,
                    99.40119760479041,
                    54.78260869565217,
                    104.94910494910495,
                    26.550598476605003,
                    41.80327868852459,
                    33.34722801167153,
                    39.49579831932773,
                    65.06276150627615,
                    22.847100175746924,
                    87.32142857142857,
                    82.67090620031796,
                    67.96536796536796,
                    47.90874524714829,
                    58.333333333333336,
                    101.35135135135135,
                    50.025012506253134,
                    76.51559741024133,
                    59.83263598326359,
                    39.04761904761905,
                    56.22641509433962,
                    43.79562043795621,
                    55.96330275229357,
                    86.95652173913044,
                    0,
                    51.67785234899329,
                    76.5625,
                    69.23076923076923,
                    70.50359712230215,
                    50,
                    31.57894736842105,
                    27.77777777777778,
                    65.57012669482107,
                    65.57012669482107,
                    43.63636363636363,
                    13.559322033898304,
                    22.90748898678414,
                    33.5873388042204,
                    89.36170212765957,
                    106.4516129032258,
                    0,
                    61.833688699360344,
                    27.348993288590606,
                    87.1578947368421,
                    70,
                    44.827586206896555,
                    29.360967184801385,
                    42.391304347826086,
                    73.15598548972189,
                    65.11627906976744,
                    20,
                    41.66666666666667,
                    79.08816003721796,
                    61.442411194833156,
                    8.333333333333332,
                    58.192955589586525,
                    43.994140625,
                    47.15447154471545,
                    13.311688311688311,
                    27.932960893854748,
                    75.18796992481202,
                    7.766990291262135,
                    32.52032520325203,
                    46.86868686868687,
                    84.61538461538461,
                    105.26315789473684,
                    80,
                    75.60975609756098,
                    28.947368421052634,
                    38.63636363636363,
                    47.61904761904761,
                    31.88405797101449,
                    70.58823529411765,
                    57.14285714285714,
                    14.655172413793101,
                    12.380952380952381,
                    35.39325842696629,
                    66.66666666666666,
                    9.523809523809524,
                    64.28571428571429,
                    16.666666666666664,
                    75,
                    45.73002754820937,
                    33.934631184140024,
                    31.03448275862069,
                    11.044776119402986,
                    34.92063492063492,
                    65.49344375431332,
                    43.18996415770609,
                    80,
                    60.86956521739131,
                    100,
                    2.564102564102564,
                    59.171597633136095,
                    32.89473684210527,
                    39.053254437869825,
                    26.60098522167488,
                    26.609442060085836,
                    25.125628140703515,
                    33.33333333333333,
                    18.6046511627907,
                    109.24369747899159,
                    25.37313432835821,
                    45.840154784938235,
                    32.51088534107402,
                    0,
                    23.411371237458194,
                    7.352537722908094,
                    25.02495840266223,
                    30.05477494641581,
                    88.23529411764706,
                    0,
                    34.146341463414636,
                    17.647058823529413,
                    59.523809523809526,
                    72.41379310344827,
                    31.03448275862069,
                    79.54545454545455,
                    16,
                    77.27272727272727,
                    44.44444444444444,
                    75,
                    30.434782608695656,
                    26.359832635983267,
                    27.748691099476442,
                    13.333333333333334,
                    85.48387096774194,
                    52.72727272727272,
                    108.77329192546583,
                    49.2046077893582,
                    40.2245088868101,
                    23.19961333977767,
                    55.26315789473685,
                    2.73972602739726,
                    14.388489208633093,
                    18.694049499736703,
                    26.900584795321635,
                    11.1731843575419,
                    91.81818181818183,
                    52.071005917159766,
                    3.3734939759036147,
                    1.342281879194631,
                    56.58986175115207,
                    83.87445887445888,
                    30,
                    43.95516413130505,
                    40.15151515151515,
                    82.76762402088774,
                    66.06741573033707,
                    46.82274247491639,
                    18.803418803418804,
                    14.705882352941178,
                    44,
                    73.33333333333333,
                    32.71028037383177,
                    100,
                    18.181818181818183,
                    3.861003861003861,
                    47.38461538461539,
                    43.76657824933687,
                    10.025062656641603,
                    16.588419405320813,
                    5.39906103286385,
                    59.73223480947477,
                    54.23122765196663,
                    11.152416356877323,
                    10.282776349614396,
                    73.77279102384293,
                    8,
                    47.368421052631575,
                    62,
                    42.959427207637226,
                    84.03361344537815,
                    17.46724890829694,
                    45.79630895420369,
                    57.275215834912615,
                    53.058954393770854,
                    55.172413793103445,
                    27.932960893854748,
                    0,
                    72.183908045977,
                    41.17647058823529,
                    64.70588235294117,
                    57.738095238095234,
                    38.23529411764706,
                    69.86301369863014,
                    100,
                    85.71428571428571,
                    68.9035350509287,
                    76.31578947368422,
                    58.139534883720934,
                    56.343283582089555,
                    62.5,
                    82.38993710691824,
                    53.57142857142857,
                    28.28282828282828,
                    58.63636363636363,
                    15.384615384615385,
                    40,
                    50,
                    36.36363636363637,
                    65.47619047619048,
                    33.33333333333333,
                    11.985018726591761,
                    26.119402985074625,
                    30.16759776536313,
                    19.35483870967742,
                    47.46835443037975,
                    13.224181360201511,
                    31.026252983293556,
                    34.53237410071942,
                    48.61878453038674,
                    37.86008230452675,
                    35.85313174946004,
                    90.68702290076335,
                    50.719424460431654,
                    19.607843137254903,
                    38.95348837209303,
                    100,
                    43.998254037538196,
                    6.923076923076923,
                    75.63025210084034,
                    45.267489711934154,
                    21.428571428571427,
                    52.17391304347826,
                    40,
                    51.11111111111111,
                    22.22222222222222,
                    94.15268002165675,
                    31.642857142857146,
                    16.194331983805668,
                    51.413658112222706,
                    63.712142261739366,
                    52.94117647058824,
                    64.26735218508998,
                    52.85714285714286,
                    28.859060402684566,
                    69.33333333333334,
                    54.166666666666664,
                    21.83406113537118,
                    33.482142857142854,
                    45.94594594594595,
                    88.64628820960698,
                    29.078014184397162,
                    76.7175572519084,
                    76.25272331154684,
                    90,
                    72.72727272727273,
                    65.92407365310298,
                    26.146788990825687,
                    69.23076923076923,
                    72.72727272727273,
                    17.142857142857142,
                    31.818181818181817,
                    64.68060727585218,
                    58.749030757301625,
                    53.125,
                    51.61290322580645,
                    56.48535564853556,
                    43.47826086956522,
                    44.9438202247191,
                    65.86345381526104,
                    22.22222222222222,
                    15.080728272071454,
                    22.891381164541404,
                    20.642201834862387,
                    23.293172690763054,
                    35.39823008849557,
                    27.09030100334448,
                    27.27272727272727,
                    27.27272727272727,
                    39.24050632911392,
                    49.28571428571429,
                    24.46043165467626,
                    2.564102564102564,
                    0.6872852233676976,
                    60,
                    69.76744186046511,
                    22.362869198312236,
                    28.817204301075268,
                    8.256880733944955,
                    37.72455089820359,
                    32.03125,
                    7.8431372549019605,
                    81.73076923076923,
                    109.375,
                    17.77777777777778,
                    105.71428571428572,
                    21.21212121212121
                  ],
                  "y0": " ",
                  "yaxis": "y"
                },
                {
                  "alignmentgroup": "True",
                  "hovertemplate": "Cluster=%{x}<br>Price Increase Percentage=%{y}<extra></extra>",
                  "legendgroup": "0",
                  "marker": {
                    "color": "rgb(246, 207, 113)"
                  },
                  "name": "0",
                  "notched": false,
                  "offsetgroup": "0",
                  "orientation": "v",
                  "showlegend": true,
                  "type": "box",
                  "x": [
                    0,
                    0,
                    0,
                    0,
                    0,
                    0,
                    0,
                    0,
                    0,
                    0,
                    0,
                    0,
                    0,
                    0,
                    0,
                    0,
                    0,
                    0,
                    0,
                    0,
                    0,
                    0,
                    0,
                    0,
                    0,
                    0,
                    0,
                    0,
                    0,
                    0,
                    0,
                    0,
                    0,
                    0,
                    0,
                    0,
                    0,
                    0,
                    0,
                    0,
                    0,
                    0,
                    0,
                    0,
                    0,
                    0,
                    0,
                    0,
                    0,
                    0,
                    0,
                    0,
                    0,
                    0,
                    0,
                    0
                  ],
                  "x0": " ",
                  "xaxis": "x",
                  "y": [
                    113.02631578947368,
                    115.90909090909092,
                    128.93982808022923,
                    128.18791946308724,
                    139.1304347826087,
                    233.33333333333334,
                    323.8095238095238,
                    152.77777777777777,
                    172.22222222222223,
                    118.30985915492957,
                    113.58574610244989,
                    231.0734463276836,
                    200.3338898163606,
                    123.37228714524207,
                    126.76950998185117,
                    132.8894806924101,
                    384.7908745247148,
                    136.27254509018036,
                    516.2324649298597,
                    201.84563758389262,
                    142.10526315789474,
                    138.0931131935148,
                    138.0931131935148,
                    126.43938322252086,
                    141.18357487922705,
                    147.82608695652172,
                    147.36842105263156,
                    142.63322884012538,
                    116.84782608695652,
                    120,
                    138.66666666666669,
                    142.85714285714286,
                    126.26262626262626,
                    149.36936936936937,
                    188.88888888888889,
                    333.9622641509434,
                    123.66863905325445,
                    262.92134831460675,
                    190.9090909090909,
                    127.27272727272727,
                    152.38095238095238,
                    127.95698924731182,
                    122.27272727272727,
                    181.8181818181818,
                    112.5,
                    212.5,
                    111.11111111111111,
                    110.92436974789916,
                    142.08826695371366,
                    133.33333333333331,
                    200,
                    176.9230769230769,
                    125,
                    279.6296296296296,
                    245.00000000000003,
                    254.5232273838631
                  ],
                  "y0": " ",
                  "yaxis": "y"
                },
                {
                  "alignmentgroup": "True",
                  "hovertemplate": "Cluster=%{x}<br>Price Increase Percentage=%{y}<extra></extra>",
                  "legendgroup": "1",
                  "marker": {
                    "color": "rgb(248, 156, 116)"
                  },
                  "name": "1",
                  "notched": false,
                  "offsetgroup": "1",
                  "orientation": "v",
                  "showlegend": true,
                  "type": "box",
                  "x": [
                    1,
                    1,
                    1,
                    1,
                    1,
                    1,
                    1,
                    1,
                    1,
                    1,
                    1,
                    1,
                    1,
                    1,
                    1,
                    1,
                    1,
                    1,
                    1,
                    1,
                    1,
                    1,
                    1,
                    1,
                    1,
                    1,
                    1,
                    1,
                    1,
                    1,
                    1,
                    1
                  ],
                  "x0": " ",
                  "xaxis": "x",
                  "y": [
                    80.88235294117648,
                    63.47826086956522,
                    78.75,
                    89.43661971830986,
                    17.965023847376788,
                    20.00666888962988,
                    33.83977900552486,
                    20.074349442379184,
                    27.84090909090909,
                    16.736401673640167,
                    56.68202764976959,
                    76.35270541082164,
                    14.243535406447927,
                    61.993517017828204,
                    13.049151805132666,
                    49.681528662420384,
                    17.25781845919146,
                    9.361386597460376,
                    10.124734607218684,
                    25.00284123195818,
                    2.4876981957353745,
                    53.535353535353536,
                    47.08442123585726,
                    5.971404541631623,
                    7.380520266182698,
                    2.175264139216905,
                    10.010427528675704,
                    30.03003003003003,
                    66.16822429906543,
                    0.2353494939985879,
                    40.85082405972672,
                    4.601673335758457
                  ],
                  "y0": " ",
                  "yaxis": "y"
                },
                {
                  "alignmentgroup": "True",
                  "hovertemplate": "Cluster=%{x}<br>Price Increase Percentage=%{y}<extra></extra>",
                  "legendgroup": "2",
                  "marker": {
                    "color": "rgb(220, 176, 242)"
                  },
                  "name": "2",
                  "notched": false,
                  "offsetgroup": "2",
                  "orientation": "v",
                  "showlegend": true,
                  "type": "box",
                  "x": [
                    2,
                    2,
                    2,
                    2,
                    2,
                    2,
                    2,
                    2,
                    2,
                    2,
                    2,
                    2,
                    2,
                    2,
                    2,
                    2,
                    2,
                    2,
                    2,
                    2,
                    2,
                    2,
                    2,
                    2,
                    2,
                    2,
                    2,
                    2,
                    2,
                    2,
                    2,
                    2,
                    2,
                    2,
                    2,
                    2,
                    2,
                    2,
                    2,
                    2,
                    2,
                    2,
                    2,
                    2,
                    2,
                    2,
                    2,
                    2,
                    2,
                    2,
                    2,
                    2,
                    2,
                    2,
                    2,
                    2,
                    2,
                    2,
                    2,
                    2,
                    2,
                    2,
                    2,
                    2,
                    2,
                    2,
                    2,
                    2,
                    2,
                    2,
                    2,
                    2,
                    2,
                    2,
                    2,
                    2,
                    2,
                    2,
                    2,
                    2,
                    2,
                    2
                  ],
                  "x0": " ",
                  "xaxis": "x",
                  "y": [
                    80.55447524862493,
                    65.76127755408449,
                    89.14120126448893,
                    83.4904939089658,
                    89.47313016474551,
                    89.66280295047419,
                    99.47891994315489,
                    83.16750854635441,
                    89.47839359966314,
                    122.22901272292906,
                    89.13133736218111,
                    92.48791023052726,
                    95.24263060145721,
                    99.9627889669287,
                    84.33568367205862,
                    100.20497664219658,
                    83.3379632201789,
                    80.55447524862493,
                    81.40486725663717,
                    85.39805607056576,
                    86.1158953275182,
                    80.56151940545004,
                    79.1392774874993,
                    60.53029804592407,
                    70.42362182634311,
                    40.33217649975211,
                    62.877320879371226,
                    44.885424049137725,
                    66.3850331925166,
                    30.8143469433792,
                    60.680975390493316,
                    115.17257090784827,
                    80.2156291807665,
                    92.99095607235142,
                    63.789981894990945,
                    70.23461634800033,
                    69.92249354112843,
                    80.01500125010418,
                    59.48788688680059,
                    154.5595054095827,
                    137.29977116704805,
                    56.3799594555459,
                    88.06770688213987,
                    44.885424049137725,
                    108.05940134581174,
                    112.61516654854714,
                    101.58883780950076,
                    48.03527836837546,
                    67.01776784764336,
                    64.07474931631722,
                    67.66872267800467,
                    31.40248321174936,
                    71.27748691099477,
                    107.29991204925243,
                    132.54543143982718,
                    64.79834669338678,
                    62.924883420416876,
                    101.85034456563025,
                    67.66872267800467,
                    94.64849098160605,
                    78.57015298529674,
                    76.47508676980999,
                    78.88491353607633,
                    76.40226101000061,
                    68.74804675292205,
                    89.28008076219321,
                    63.173559868543435,
                    89.28008076219321,
                    64.59046085731536,
                    36.521264250119465,
                    17.24256845299676,
                    56.89931920075275,
                    59.114558396373965,
                    47.104710471047106,
                    44.61309523809524,
                    63.69971936389148,
                    83.3425936215135,
                    25.206152406573484,
                    52.25578972674092,
                    17.9213002566296,
                    25.371113340020063,
                    23.387453874538746
                  ],
                  "y0": " ",
                  "yaxis": "y"
                }
              ],
              "layout": {
                "boxmode": "overlay",
                "legend": {
                  "title": {
                    "text": "Cluster"
                  },
                  "tracegroupgap": 0
                },
                "margin": {
                  "t": 60
                },
                "template": {
                  "data": {
                    "bar": [
                      {
                        "error_x": {
                          "color": "#2a3f5f"
                        },
                        "error_y": {
                          "color": "#2a3f5f"
                        },
                        "marker": {
                          "line": {
                            "color": "#E5ECF6",
                            "width": 0.5
                          },
                          "pattern": {
                            "fillmode": "overlay",
                            "size": 10,
                            "solidity": 0.2
                          }
                        },
                        "type": "bar"
                      }
                    ],
                    "barpolar": [
                      {
                        "marker": {
                          "line": {
                            "color": "#E5ECF6",
                            "width": 0.5
                          },
                          "pattern": {
                            "fillmode": "overlay",
                            "size": 10,
                            "solidity": 0.2
                          }
                        },
                        "type": "barpolar"
                      }
                    ],
                    "carpet": [
                      {
                        "aaxis": {
                          "endlinecolor": "#2a3f5f",
                          "gridcolor": "white",
                          "linecolor": "white",
                          "minorgridcolor": "white",
                          "startlinecolor": "#2a3f5f"
                        },
                        "baxis": {
                          "endlinecolor": "#2a3f5f",
                          "gridcolor": "white",
                          "linecolor": "white",
                          "minorgridcolor": "white",
                          "startlinecolor": "#2a3f5f"
                        },
                        "type": "carpet"
                      }
                    ],
                    "choropleth": [
                      {
                        "colorbar": {
                          "outlinewidth": 0,
                          "ticks": ""
                        },
                        "type": "choropleth"
                      }
                    ],
                    "contour": [
                      {
                        "colorbar": {
                          "outlinewidth": 0,
                          "ticks": ""
                        },
                        "colorscale": [
                          [
                            0,
                            "#0d0887"
                          ],
                          [
                            0.1111111111111111,
                            "#46039f"
                          ],
                          [
                            0.2222222222222222,
                            "#7201a8"
                          ],
                          [
                            0.3333333333333333,
                            "#9c179e"
                          ],
                          [
                            0.4444444444444444,
                            "#bd3786"
                          ],
                          [
                            0.5555555555555556,
                            "#d8576b"
                          ],
                          [
                            0.6666666666666666,
                            "#ed7953"
                          ],
                          [
                            0.7777777777777778,
                            "#fb9f3a"
                          ],
                          [
                            0.8888888888888888,
                            "#fdca26"
                          ],
                          [
                            1,
                            "#f0f921"
                          ]
                        ],
                        "type": "contour"
                      }
                    ],
                    "contourcarpet": [
                      {
                        "colorbar": {
                          "outlinewidth": 0,
                          "ticks": ""
                        },
                        "type": "contourcarpet"
                      }
                    ],
                    "heatmap": [
                      {
                        "colorbar": {
                          "outlinewidth": 0,
                          "ticks": ""
                        },
                        "colorscale": [
                          [
                            0,
                            "#0d0887"
                          ],
                          [
                            0.1111111111111111,
                            "#46039f"
                          ],
                          [
                            0.2222222222222222,
                            "#7201a8"
                          ],
                          [
                            0.3333333333333333,
                            "#9c179e"
                          ],
                          [
                            0.4444444444444444,
                            "#bd3786"
                          ],
                          [
                            0.5555555555555556,
                            "#d8576b"
                          ],
                          [
                            0.6666666666666666,
                            "#ed7953"
                          ],
                          [
                            0.7777777777777778,
                            "#fb9f3a"
                          ],
                          [
                            0.8888888888888888,
                            "#fdca26"
                          ],
                          [
                            1,
                            "#f0f921"
                          ]
                        ],
                        "type": "heatmap"
                      }
                    ],
                    "heatmapgl": [
                      {
                        "colorbar": {
                          "outlinewidth": 0,
                          "ticks": ""
                        },
                        "colorscale": [
                          [
                            0,
                            "#0d0887"
                          ],
                          [
                            0.1111111111111111,
                            "#46039f"
                          ],
                          [
                            0.2222222222222222,
                            "#7201a8"
                          ],
                          [
                            0.3333333333333333,
                            "#9c179e"
                          ],
                          [
                            0.4444444444444444,
                            "#bd3786"
                          ],
                          [
                            0.5555555555555556,
                            "#d8576b"
                          ],
                          [
                            0.6666666666666666,
                            "#ed7953"
                          ],
                          [
                            0.7777777777777778,
                            "#fb9f3a"
                          ],
                          [
                            0.8888888888888888,
                            "#fdca26"
                          ],
                          [
                            1,
                            "#f0f921"
                          ]
                        ],
                        "type": "heatmapgl"
                      }
                    ],
                    "histogram": [
                      {
                        "marker": {
                          "pattern": {
                            "fillmode": "overlay",
                            "size": 10,
                            "solidity": 0.2
                          }
                        },
                        "type": "histogram"
                      }
                    ],
                    "histogram2d": [
                      {
                        "colorbar": {
                          "outlinewidth": 0,
                          "ticks": ""
                        },
                        "colorscale": [
                          [
                            0,
                            "#0d0887"
                          ],
                          [
                            0.1111111111111111,
                            "#46039f"
                          ],
                          [
                            0.2222222222222222,
                            "#7201a8"
                          ],
                          [
                            0.3333333333333333,
                            "#9c179e"
                          ],
                          [
                            0.4444444444444444,
                            "#bd3786"
                          ],
                          [
                            0.5555555555555556,
                            "#d8576b"
                          ],
                          [
                            0.6666666666666666,
                            "#ed7953"
                          ],
                          [
                            0.7777777777777778,
                            "#fb9f3a"
                          ],
                          [
                            0.8888888888888888,
                            "#fdca26"
                          ],
                          [
                            1,
                            "#f0f921"
                          ]
                        ],
                        "type": "histogram2d"
                      }
                    ],
                    "histogram2dcontour": [
                      {
                        "colorbar": {
                          "outlinewidth": 0,
                          "ticks": ""
                        },
                        "colorscale": [
                          [
                            0,
                            "#0d0887"
                          ],
                          [
                            0.1111111111111111,
                            "#46039f"
                          ],
                          [
                            0.2222222222222222,
                            "#7201a8"
                          ],
                          [
                            0.3333333333333333,
                            "#9c179e"
                          ],
                          [
                            0.4444444444444444,
                            "#bd3786"
                          ],
                          [
                            0.5555555555555556,
                            "#d8576b"
                          ],
                          [
                            0.6666666666666666,
                            "#ed7953"
                          ],
                          [
                            0.7777777777777778,
                            "#fb9f3a"
                          ],
                          [
                            0.8888888888888888,
                            "#fdca26"
                          ],
                          [
                            1,
                            "#f0f921"
                          ]
                        ],
                        "type": "histogram2dcontour"
                      }
                    ],
                    "mesh3d": [
                      {
                        "colorbar": {
                          "outlinewidth": 0,
                          "ticks": ""
                        },
                        "type": "mesh3d"
                      }
                    ],
                    "parcoords": [
                      {
                        "line": {
                          "colorbar": {
                            "outlinewidth": 0,
                            "ticks": ""
                          }
                        },
                        "type": "parcoords"
                      }
                    ],
                    "pie": [
                      {
                        "automargin": true,
                        "type": "pie"
                      }
                    ],
                    "scatter": [
                      {
                        "fillpattern": {
                          "fillmode": "overlay",
                          "size": 10,
                          "solidity": 0.2
                        },
                        "type": "scatter"
                      }
                    ],
                    "scatter3d": [
                      {
                        "line": {
                          "colorbar": {
                            "outlinewidth": 0,
                            "ticks": ""
                          }
                        },
                        "marker": {
                          "colorbar": {
                            "outlinewidth": 0,
                            "ticks": ""
                          }
                        },
                        "type": "scatter3d"
                      }
                    ],
                    "scattercarpet": [
                      {
                        "marker": {
                          "colorbar": {
                            "outlinewidth": 0,
                            "ticks": ""
                          }
                        },
                        "type": "scattercarpet"
                      }
                    ],
                    "scattergeo": [
                      {
                        "marker": {
                          "colorbar": {
                            "outlinewidth": 0,
                            "ticks": ""
                          }
                        },
                        "type": "scattergeo"
                      }
                    ],
                    "scattergl": [
                      {
                        "marker": {
                          "colorbar": {
                            "outlinewidth": 0,
                            "ticks": ""
                          }
                        },
                        "type": "scattergl"
                      }
                    ],
                    "scattermapbox": [
                      {
                        "marker": {
                          "colorbar": {
                            "outlinewidth": 0,
                            "ticks": ""
                          }
                        },
                        "type": "scattermapbox"
                      }
                    ],
                    "scatterpolar": [
                      {
                        "marker": {
                          "colorbar": {
                            "outlinewidth": 0,
                            "ticks": ""
                          }
                        },
                        "type": "scatterpolar"
                      }
                    ],
                    "scatterpolargl": [
                      {
                        "marker": {
                          "colorbar": {
                            "outlinewidth": 0,
                            "ticks": ""
                          }
                        },
                        "type": "scatterpolargl"
                      }
                    ],
                    "scatterternary": [
                      {
                        "marker": {
                          "colorbar": {
                            "outlinewidth": 0,
                            "ticks": ""
                          }
                        },
                        "type": "scatterternary"
                      }
                    ],
                    "surface": [
                      {
                        "colorbar": {
                          "outlinewidth": 0,
                          "ticks": ""
                        },
                        "colorscale": [
                          [
                            0,
                            "#0d0887"
                          ],
                          [
                            0.1111111111111111,
                            "#46039f"
                          ],
                          [
                            0.2222222222222222,
                            "#7201a8"
                          ],
                          [
                            0.3333333333333333,
                            "#9c179e"
                          ],
                          [
                            0.4444444444444444,
                            "#bd3786"
                          ],
                          [
                            0.5555555555555556,
                            "#d8576b"
                          ],
                          [
                            0.6666666666666666,
                            "#ed7953"
                          ],
                          [
                            0.7777777777777778,
                            "#fb9f3a"
                          ],
                          [
                            0.8888888888888888,
                            "#fdca26"
                          ],
                          [
                            1,
                            "#f0f921"
                          ]
                        ],
                        "type": "surface"
                      }
                    ],
                    "table": [
                      {
                        "cells": {
                          "fill": {
                            "color": "#EBF0F8"
                          },
                          "line": {
                            "color": "white"
                          }
                        },
                        "header": {
                          "fill": {
                            "color": "#C8D4E3"
                          },
                          "line": {
                            "color": "white"
                          }
                        },
                        "type": "table"
                      }
                    ]
                  },
                  "layout": {
                    "annotationdefaults": {
                      "arrowcolor": "#2a3f5f",
                      "arrowhead": 0,
                      "arrowwidth": 1
                    },
                    "autotypenumbers": "strict",
                    "coloraxis": {
                      "colorbar": {
                        "outlinewidth": 0,
                        "ticks": ""
                      }
                    },
                    "colorscale": {
                      "diverging": [
                        [
                          0,
                          "#8e0152"
                        ],
                        [
                          0.1,
                          "#c51b7d"
                        ],
                        [
                          0.2,
                          "#de77ae"
                        ],
                        [
                          0.3,
                          "#f1b6da"
                        ],
                        [
                          0.4,
                          "#fde0ef"
                        ],
                        [
                          0.5,
                          "#f7f7f7"
                        ],
                        [
                          0.6,
                          "#e6f5d0"
                        ],
                        [
                          0.7,
                          "#b8e186"
                        ],
                        [
                          0.8,
                          "#7fbc41"
                        ],
                        [
                          0.9,
                          "#4d9221"
                        ],
                        [
                          1,
                          "#276419"
                        ]
                      ],
                      "sequential": [
                        [
                          0,
                          "#0d0887"
                        ],
                        [
                          0.1111111111111111,
                          "#46039f"
                        ],
                        [
                          0.2222222222222222,
                          "#7201a8"
                        ],
                        [
                          0.3333333333333333,
                          "#9c179e"
                        ],
                        [
                          0.4444444444444444,
                          "#bd3786"
                        ],
                        [
                          0.5555555555555556,
                          "#d8576b"
                        ],
                        [
                          0.6666666666666666,
                          "#ed7953"
                        ],
                        [
                          0.7777777777777778,
                          "#fb9f3a"
                        ],
                        [
                          0.8888888888888888,
                          "#fdca26"
                        ],
                        [
                          1,
                          "#f0f921"
                        ]
                      ],
                      "sequentialminus": [
                        [
                          0,
                          "#0d0887"
                        ],
                        [
                          0.1111111111111111,
                          "#46039f"
                        ],
                        [
                          0.2222222222222222,
                          "#7201a8"
                        ],
                        [
                          0.3333333333333333,
                          "#9c179e"
                        ],
                        [
                          0.4444444444444444,
                          "#bd3786"
                        ],
                        [
                          0.5555555555555556,
                          "#d8576b"
                        ],
                        [
                          0.6666666666666666,
                          "#ed7953"
                        ],
                        [
                          0.7777777777777778,
                          "#fb9f3a"
                        ],
                        [
                          0.8888888888888888,
                          "#fdca26"
                        ],
                        [
                          1,
                          "#f0f921"
                        ]
                      ]
                    },
                    "colorway": [
                      "#636efa",
                      "#EF553B",
                      "#00cc96",
                      "#ab63fa",
                      "#FFA15A",
                      "#19d3f3",
                      "#FF6692",
                      "#B6E880",
                      "#FF97FF",
                      "#FECB52"
                    ],
                    "font": {
                      "color": "#2a3f5f"
                    },
                    "geo": {
                      "bgcolor": "white",
                      "lakecolor": "white",
                      "landcolor": "#E5ECF6",
                      "showlakes": true,
                      "showland": true,
                      "subunitcolor": "white"
                    },
                    "hoverlabel": {
                      "align": "left"
                    },
                    "hovermode": "closest",
                    "mapbox": {
                      "style": "light"
                    },
                    "paper_bgcolor": "white",
                    "plot_bgcolor": "#E5ECF6",
                    "polar": {
                      "angularaxis": {
                        "gridcolor": "white",
                        "linecolor": "white",
                        "ticks": ""
                      },
                      "bgcolor": "#E5ECF6",
                      "radialaxis": {
                        "gridcolor": "white",
                        "linecolor": "white",
                        "ticks": ""
                      }
                    },
                    "scene": {
                      "xaxis": {
                        "backgroundcolor": "#E5ECF6",
                        "gridcolor": "white",
                        "gridwidth": 2,
                        "linecolor": "white",
                        "showbackground": true,
                        "ticks": "",
                        "zerolinecolor": "white"
                      },
                      "yaxis": {
                        "backgroundcolor": "#E5ECF6",
                        "gridcolor": "white",
                        "gridwidth": 2,
                        "linecolor": "white",
                        "showbackground": true,
                        "ticks": "",
                        "zerolinecolor": "white"
                      },
                      "zaxis": {
                        "backgroundcolor": "#E5ECF6",
                        "gridcolor": "white",
                        "gridwidth": 2,
                        "linecolor": "white",
                        "showbackground": true,
                        "ticks": "",
                        "zerolinecolor": "white"
                      }
                    },
                    "shapedefaults": {
                      "line": {
                        "color": "#2a3f5f"
                      }
                    },
                    "ternary": {
                      "aaxis": {
                        "gridcolor": "white",
                        "linecolor": "white",
                        "ticks": ""
                      },
                      "baxis": {
                        "gridcolor": "white",
                        "linecolor": "white",
                        "ticks": ""
                      },
                      "bgcolor": "#E5ECF6",
                      "caxis": {
                        "gridcolor": "white",
                        "linecolor": "white",
                        "ticks": ""
                      }
                    },
                    "title": {
                      "x": 0.05
                    },
                    "xaxis": {
                      "automargin": true,
                      "gridcolor": "white",
                      "linecolor": "white",
                      "ticks": "",
                      "title": {
                        "standoff": 15
                      },
                      "zerolinecolor": "white",
                      "zerolinewidth": 2
                    },
                    "yaxis": {
                      "automargin": true,
                      "gridcolor": "white",
                      "linecolor": "white",
                      "ticks": "",
                      "title": {
                        "standoff": 15
                      },
                      "zerolinecolor": "white",
                      "zerolinewidth": 2
                    }
                  }
                },
                "xaxis": {
                  "anchor": "y",
                  "categoryarray": [
                    3,
                    0,
                    1,
                    2
                  ],
                  "categoryorder": "array",
                  "domain": [
                    0,
                    1
                  ],
                  "title": {
                    "text": "Cluster"
                  }
                },
                "yaxis": {
                  "anchor": "x",
                  "domain": [
                    0,
                    1
                  ],
                  "title": {
                    "text": "Price Increase Percentage"
                  }
                }
              }
            }
          },
          "metadata": {},
          "output_type": "display_data"
        }
      ],
      "source": [
        "#RUNNING K-MEANS\n",
        "kmeans = KMeans(n_clusters=4, init='k-means++', max_iter=300, n_init=10, random_state=0)\n",
        "\n",
        "# Fit and predict \n",
        "clusters = kmeans.fit_predict(df_scaled)\n",
        "df['Cluster'] = clusters\n",
        "\n",
        "fig = px.box(df, x=\"Cluster\", y=\"Price Increase Percentage\", \n",
        "             color=\"Cluster\", color_discrete_sequence=px.colors.qualitative.Pastel)\n",
        "fig.show()"
      ]
    },
    {
      "attachments": {},
      "cell_type": "markdown",
      "metadata": {},
      "source": [
        "## **Analyzing the Clusters**"
      ]
    },
    {
      "cell_type": "code",
      "execution_count": 164,
      "metadata": {},
      "outputs": [
        {
          "name": "stdout",
          "output_type": "stream",
          "text": [
            "Silhouette Coefficient: 0.5835900802949493\n"
          ]
        }
      ],
      "source": [
        "silhouette_score = silhouette_score(df_scaled, clusters)\n",
        "print(\"Silhouette Coefficient:\", silhouette_score)"
      ]
    }
  ],
  "metadata": {
    "colab": {
      "provenance": []
    },
    "kernelspec": {
      "display_name": "Python 3",
      "language": "python",
      "name": "python3"
    },
    "language_info": {
      "codemirror_mode": {
        "name": "ipython",
        "version": 3
      },
      "file_extension": ".py",
      "mimetype": "text/x-python",
      "name": "python",
      "nbconvert_exporter": "python",
      "pygments_lexer": "ipython3",
      "version": "3.10.4"
    },
    "orig_nbformat": 4
  },
  "nbformat": 4,
  "nbformat_minor": 0
}
